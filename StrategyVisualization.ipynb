{
 "cells": [
  {
   "cell_type": "code",
   "execution_count": 1,
   "metadata": {},
   "outputs": [],
   "source": [
    "import datetime\n",
    "import atomic as atom\n",
    "import definitions as defs\n",
    "from pathlib import Path\n",
    "import pandas as pd\n",
    "import strategies\n",
    "import reporting as rep\n",
    "import positionconfigs as posconfig\n",
    "import generalconfigs as genconfig\n",
    "import TIconfigs\n",
    "import directional as direc\n",
    "import os\n",
    "import utils\n",
    "import numpy as np\n",
    "import visuals as vis \n",
    "\n",
    "import warnings\n",
    "warnings.filterwarnings(\"ignore\")"
   ]
  },
  {
   "cell_type": "code",
   "execution_count": 2,
   "metadata": {},
   "outputs": [],
   "source": [
    "user = \"RI\"\n",
    "\n",
    "if user == \"SD\":\n",
    "  Root = \"D:/Work/Sykes and Ray/\"\n",
    "  Result_path = \"D:/Work/Sykes and Ray/NIFTYOptionsData/OptionsData/Results/\"\n",
    "elif user == \"RI\":\n",
    "  Root = \"../\"\n",
    "  Result_path = \"Results/\"\n",
    "elif user == \"MS\":\n",
    "  Root = \"Moulik's File path\"\n",
    "  Result_path = \" Moulik's result path\"\n",
    "\n",
    "Banknifty_Path = Root + \"NIFTYOptionsData/OptionsData/Banknifty/\"\n",
    "Nifty_Path = Root + \"NIFTYOptionsData/OptionsData/Nifty/\""
   ]
  },
  {
   "cell_type": "code",
   "execution_count": 3,
   "metadata": {},
   "outputs": [],
   "source": [
    "year = 2022\n",
    "strategy = \"RSI_2BNs\"\n"
   ]
  },
  {
   "cell_type": "code",
   "execution_count": 4,
   "metadata": {},
   "outputs": [],
   "source": [
    "# start = datetime.date(year, month, date)\n",
    "\n",
    "start = datetime.date(year, 1, 3)\n",
    "end = datetime.date(year, 1, 3)"
   ]
  },
  {
   "cell_type": "code",
   "execution_count": null,
   "metadata": {},
   "outputs": [],
   "source": [
    "signal_data = \"signaldata.csv\"\n",
    "year_path = str(year)+ \"/\"\n",
    "strategy_path = \"Strategy \"+ strategy+\"/\"\n",
    "data_path = signal_data\n",
    "\n",
    "# read the data into a dataframe\n",
    "# df = pd.read_csv(File_Path)\n",
    "df = pd.read_csv(parent_dir + year_path + strategy_path + data_path)\n",
    "\n",
    "# Changing the format of datetime column and setting it to index\n",
    "df.datetime = pd.to_datetime(df.datetime, infer_datetime_format=True)\n",
    "df.set_index('datetime', inplace=True) "
   ]
  },
  {
   "cell_type": "code",
   "execution_count": null,
   "metadata": {},
   "outputs": [],
   "source": [
    "vis.PlotSignal(df, start, end)"
   ]
  }
 ],
 "metadata": {
  "kernelspec": {
   "display_name": "Python 3",
   "language": "python",
   "name": "python3"
  },
  "language_info": {
   "codemirror_mode": {
    "name": "ipython",
    "version": 3
   },
   "file_extension": ".py",
   "mimetype": "text/x-python",
   "name": "python",
   "nbconvert_exporter": "python",
   "pygments_lexer": "ipython3",
   "version": "3.9.0"
  },
  "orig_nbformat": 4,
  "vscode": {
   "interpreter": {
    "hash": "81794d4967e6c3204c66dcd87b604927b115b27c00565d3d43f05ba2f3a2cb0d"
   }
  }
 },
 "nbformat": 4,
 "nbformat_minor": 2
}
