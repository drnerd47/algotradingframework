{
 "cells": [
  {
   "cell_type": "code",
   "execution_count": 6,
   "metadata": {},
   "outputs": [],
   "source": [
    "import datetime\n",
    "import atomic as atom\n",
    "import definitions as defs\n",
    "from pathlib import Path\n",
    "import pandas as pd\n",
    "import strategies\n",
    "import reporting as rep\n",
    "import positionconfigs as posconfig\n",
    "import generalconfigs as genconfig\n",
    "import TIconfigs\n",
    "import directional as direc\n",
    "import os\n",
    "import utils\n",
    "import numpy as np\n",
    "import visuals as vis \n",
    "\n",
    "import warnings\n",
    "warnings.filterwarnings(\"ignore\")"
   ]
  },
  {
   "cell_type": "code",
   "execution_count": 7,
   "metadata": {},
   "outputs": [],
   "source": [
    "user = \"RI\"\n",
    "\n",
    "if user == \"SD\":\n",
    "  Root = \"D:/Work/Sykes and Ray/\"\n",
    "  Result_path = \"D:/Work/Sykes and Ray/NIFTYOptionsData/OptionsData/Results/\"\n",
    "elif user == \"RI\":\n",
    "  Root = \"../\"\n",
    "  Result_path = \"Results/\"\n",
    "  parent_dir = \"Results/\" # input the result path\n",
    "elif user == \"MS\":\n",
    "  Root = \"Moulik's File path\"\n",
    "  Result_path = \" Moulik's result path\"\n",
    "\n",
    "Banknifty_Path = Root + \"NIFTYOptionsData/OptionsData/Banknifty/\"\n",
    "Nifty_Path = Root + \"NIFTYOptionsData/OptionsData/Nifty/\""
   ]
  },
  {
   "cell_type": "code",
   "execution_count": 15,
   "metadata": {},
   "outputs": [],
   "source": [
    "year = 2022\n",
    "strategy = \"RSI2\""
   ]
  },
  {
   "cell_type": "code",
   "execution_count": 26,
   "metadata": {},
   "outputs": [],
   "source": [
    "# start = datetime.date(year, month, date)\n",
    "\n",
    "start = datetime.date(year, 1, 4)\n",
    "end = datetime.date(year, 1, 4)"
   ]
  },
  {
   "cell_type": "code",
   "execution_count": 27,
   "metadata": {},
   "outputs": [
    {
     "name": "stdout",
     "output_type": "stream",
     "text": [
      "Results//Data_RSI-Dual.csv\n"
     ]
    }
   ],
   "source": [
    "signal_data = Result_path + \"/Data_\" + strategy + \".csv\"\n",
    "print(signal_data)\n",
    "#year_path = str(year)+ \"/\"\n",
    "#strategy_path = \"Strategy \"+ strategy+\"/\"\n",
    "#data_path = signal_data\n",
    "#final_path = parent_dir + year_path + strategy_path + data_path\n",
    "# read the data into a dataframe\n",
    "# df = pd.read_csv(File_Path)"
   ]
  },
  {
   "cell_type": "code",
   "execution_count": 28,
   "metadata": {},
   "outputs": [],
   "source": [
    "df = pd.read_csv(signal_data)"
   ]
  },
  {
   "cell_type": "code",
   "execution_count": 29,
   "metadata": {},
   "outputs": [
    {
     "data": {
      "application/vnd.plotly.v1+json": {
       "config": {
        "plotlyServerURL": "https://plot.ly"
       },
       "data": [
        {
         "mode": "lines",
         "name": "RSI14",
         "type": "scatter",
         "x": [
          "2022-01-04T09:39:00",
          "2022-01-04T09:49:00",
          "2022-01-04T09:59:00",
          "2022-01-04T10:09:00",
          "2022-01-04T10:19:00",
          "2022-01-04T10:29:00",
          "2022-01-04T10:39:00",
          "2022-01-04T10:49:00",
          "2022-01-04T10:59:00",
          "2022-01-04T11:09:00",
          "2022-01-04T11:19:00",
          "2022-01-04T11:29:00",
          "2022-01-04T11:39:00",
          "2022-01-04T11:49:00",
          "2022-01-04T11:59:00",
          "2022-01-04T12:09:00",
          "2022-01-04T12:19:00",
          "2022-01-04T12:29:00",
          "2022-01-04T12:39:00",
          "2022-01-04T12:49:00",
          "2022-01-04T12:59:00",
          "2022-01-04T13:09:00",
          "2022-01-04T13:19:00",
          "2022-01-04T13:29:00",
          "2022-01-04T13:39:00",
          "2022-01-04T13:49:00",
          "2022-01-04T13:59:00",
          "2022-01-04T14:09:00",
          "2022-01-04T14:19:00",
          "2022-01-04T14:29:00",
          "2022-01-04T14:39:00",
          "2022-01-04T14:49:00",
          "2022-01-04T14:59:00",
          "2022-01-04T15:09:00",
          "2022-01-04T15:19:00",
          "2022-01-04T15:29:00"
         ],
         "xaxis": "x2",
         "y": [
          null,
          null,
          null,
          null,
          null,
          null,
          null,
          null,
          null,
          null,
          null,
          null,
          null,
          65.4173985023796,
          65.97881451449055,
          69.14559603546734,
          61.10447226064591,
          54.67112911629953,
          54.86001184619824,
          53.63332930831711,
          54.96487771321186,
          55.33513479209319,
          42.60972708656547,
          46.89152135583056,
          41.52206258736706,
          36.35581510453071,
          46.9873056113198,
          54.94866331954589,
          58.44100619720422,
          56.7998475764745,
          63.04286529250465,
          60.69350802976097,
          63.34448267377292,
          60.44481646286595,
          63.11534684474898,
          63.91026211186416
         ],
         "yaxis": "y2"
        },
        {
         "mode": "lines",
         "name": "RSI2",
         "type": "scatter",
         "x": [
          "2022-01-04T09:39:00",
          "2022-01-04T09:49:00",
          "2022-01-04T09:59:00",
          "2022-01-04T10:09:00",
          "2022-01-04T10:19:00",
          "2022-01-04T10:29:00",
          "2022-01-04T10:39:00",
          "2022-01-04T10:49:00",
          "2022-01-04T10:59:00",
          "2022-01-04T11:09:00",
          "2022-01-04T11:19:00",
          "2022-01-04T11:29:00",
          "2022-01-04T11:39:00",
          "2022-01-04T11:49:00",
          "2022-01-04T11:59:00",
          "2022-01-04T12:09:00",
          "2022-01-04T12:19:00",
          "2022-01-04T12:29:00",
          "2022-01-04T12:39:00",
          "2022-01-04T12:49:00",
          "2022-01-04T12:59:00",
          "2022-01-04T13:09:00",
          "2022-01-04T13:19:00",
          "2022-01-04T13:29:00",
          "2022-01-04T13:39:00",
          "2022-01-04T13:49:00",
          "2022-01-04T13:59:00",
          "2022-01-04T14:09:00",
          "2022-01-04T14:19:00",
          "2022-01-04T14:29:00",
          "2022-01-04T14:39:00",
          "2022-01-04T14:49:00",
          "2022-01-04T14:59:00",
          "2022-01-04T15:09:00",
          "2022-01-04T15:19:00",
          "2022-01-04T15:29:00"
         ],
         "xaxis": "x3",
         "y": [
          null,
          100,
          100,
          100,
          100,
          93.58141989970512,
          94.91999832894354,
          16.620460114847134,
          54.65903983006541,
          40.60153708414809,
          19.006840077737763,
          9.633049712113989,
          59.640522415372544,
          68.2037840492522,
          74.2416155421902,
          92.02425126964664,
          32.71876767147208,
          14.797799647536266,
          18.108469824154696,
          12.970875693463398,
          48.70716137203779,
          57.96111983363022,
          4.400654649873843,
          40.31197104090498,
          18.247599863132866,
          8.069003737143689,
          65.5653927084914,
          84.54989822307908,
          90.17744018534424,
          72.01915194059318,
          91.38917968157156,
          67.97971200353193,
          83.35050431700958,
          51.0066947397283,
          77.10413501393509,
          82.69054563082389
         ],
         "yaxis": "y3"
        },
        {
         "mode": "lines",
         "name": "Close",
         "type": "scatter",
         "x": [
          "2022-01-04T09:39:00",
          "2022-01-04T09:49:00",
          "2022-01-04T09:59:00",
          "2022-01-04T10:09:00",
          "2022-01-04T10:19:00",
          "2022-01-04T10:29:00",
          "2022-01-04T10:39:00",
          "2022-01-04T10:49:00",
          "2022-01-04T10:59:00",
          "2022-01-04T11:09:00",
          "2022-01-04T11:19:00",
          "2022-01-04T11:29:00",
          "2022-01-04T11:39:00",
          "2022-01-04T11:49:00",
          "2022-01-04T11:59:00",
          "2022-01-04T12:09:00",
          "2022-01-04T12:19:00",
          "2022-01-04T12:29:00",
          "2022-01-04T12:39:00",
          "2022-01-04T12:49:00",
          "2022-01-04T12:59:00",
          "2022-01-04T13:09:00",
          "2022-01-04T13:19:00",
          "2022-01-04T13:29:00",
          "2022-01-04T13:39:00",
          "2022-01-04T13:49:00",
          "2022-01-04T13:59:00",
          "2022-01-04T14:09:00",
          "2022-01-04T14:19:00",
          "2022-01-04T14:29:00",
          "2022-01-04T14:39:00",
          "2022-01-04T14:49:00",
          "2022-01-04T14:59:00",
          "2022-01-04T15:09:00",
          "2022-01-04T15:19:00",
          "2022-01-04T15:29:00"
         ],
         "xaxis": "x",
         "y": [
          36462.4,
          36663.95,
          36756.4,
          36782.1,
          36831.75,
          36827.95,
          36835.75,
          36747.65,
          36792.45,
          36775.45,
          36737.9,
          36703.55,
          36746.7,
          36757.2,
          36763,
          36797.05,
          36752.35,
          36710.35,
          36711.9,
          36704,
          36713.7,
          36716.3,
          36628.6,
          36657.15,
          36611.2,
          36558.25,
          36637.5,
          36715.35,
          36755.8,
          36741.8,
          36820,
          36800.55,
          36835.6,
          36812.45,
          36846.45,
          36856.75
         ],
         "yaxis": "y"
        },
        {
         "mode": "markers+text",
         "name": "Bear Entry",
         "type": "scatter",
         "x": [
          "2022-01-04T13:49:00"
         ],
         "y": [
          36558.25
         ]
        },
        {
         "mode": "markers+text",
         "name": "Bull Entry",
         "type": "scatter",
         "x": [
          "2022-01-04T12:09:00",
          "2022-01-04T14:39:00"
         ],
         "y": [
          36797.05,
          36820
         ]
        },
        {
         "mode": "markers+text",
         "name": "Stop Loss Hit",
         "type": "scatter",
         "x": [
          "2022-01-04T12:29:00",
          "2022-01-04T14:09:00"
         ],
         "y": [
          36710.35,
          36715.35
         ]
        },
        {
         "mode": "markers+text",
         "name": " Target Hit",
         "type": "scatter",
         "x": [],
         "y": []
        },
        {
         "mode": "markers+text",
         "name": "End of Day Square Off",
         "type": "scatter",
         "x": [
          "2022-01-04T15:19:00"
         ],
         "y": [
          36846.45
         ]
        }
       ],
       "layout": {
        "template": {
         "data": {
          "bar": [
           {
            "error_x": {
             "color": "#2a3f5f"
            },
            "error_y": {
             "color": "#2a3f5f"
            },
            "marker": {
             "line": {
              "color": "#E5ECF6",
              "width": 0.5
             },
             "pattern": {
              "fillmode": "overlay",
              "size": 10,
              "solidity": 0.2
             }
            },
            "type": "bar"
           }
          ],
          "barpolar": [
           {
            "marker": {
             "line": {
              "color": "#E5ECF6",
              "width": 0.5
             },
             "pattern": {
              "fillmode": "overlay",
              "size": 10,
              "solidity": 0.2
             }
            },
            "type": "barpolar"
           }
          ],
          "carpet": [
           {
            "aaxis": {
             "endlinecolor": "#2a3f5f",
             "gridcolor": "white",
             "linecolor": "white",
             "minorgridcolor": "white",
             "startlinecolor": "#2a3f5f"
            },
            "baxis": {
             "endlinecolor": "#2a3f5f",
             "gridcolor": "white",
             "linecolor": "white",
             "minorgridcolor": "white",
             "startlinecolor": "#2a3f5f"
            },
            "type": "carpet"
           }
          ],
          "choropleth": [
           {
            "colorbar": {
             "outlinewidth": 0,
             "ticks": ""
            },
            "type": "choropleth"
           }
          ],
          "contour": [
           {
            "colorbar": {
             "outlinewidth": 0,
             "ticks": ""
            },
            "colorscale": [
             [
              0,
              "#0d0887"
             ],
             [
              0.1111111111111111,
              "#46039f"
             ],
             [
              0.2222222222222222,
              "#7201a8"
             ],
             [
              0.3333333333333333,
              "#9c179e"
             ],
             [
              0.4444444444444444,
              "#bd3786"
             ],
             [
              0.5555555555555556,
              "#d8576b"
             ],
             [
              0.6666666666666666,
              "#ed7953"
             ],
             [
              0.7777777777777778,
              "#fb9f3a"
             ],
             [
              0.8888888888888888,
              "#fdca26"
             ],
             [
              1,
              "#f0f921"
             ]
            ],
            "type": "contour"
           }
          ],
          "contourcarpet": [
           {
            "colorbar": {
             "outlinewidth": 0,
             "ticks": ""
            },
            "type": "contourcarpet"
           }
          ],
          "heatmap": [
           {
            "colorbar": {
             "outlinewidth": 0,
             "ticks": ""
            },
            "colorscale": [
             [
              0,
              "#0d0887"
             ],
             [
              0.1111111111111111,
              "#46039f"
             ],
             [
              0.2222222222222222,
              "#7201a8"
             ],
             [
              0.3333333333333333,
              "#9c179e"
             ],
             [
              0.4444444444444444,
              "#bd3786"
             ],
             [
              0.5555555555555556,
              "#d8576b"
             ],
             [
              0.6666666666666666,
              "#ed7953"
             ],
             [
              0.7777777777777778,
              "#fb9f3a"
             ],
             [
              0.8888888888888888,
              "#fdca26"
             ],
             [
              1,
              "#f0f921"
             ]
            ],
            "type": "heatmap"
           }
          ],
          "heatmapgl": [
           {
            "colorbar": {
             "outlinewidth": 0,
             "ticks": ""
            },
            "colorscale": [
             [
              0,
              "#0d0887"
             ],
             [
              0.1111111111111111,
              "#46039f"
             ],
             [
              0.2222222222222222,
              "#7201a8"
             ],
             [
              0.3333333333333333,
              "#9c179e"
             ],
             [
              0.4444444444444444,
              "#bd3786"
             ],
             [
              0.5555555555555556,
              "#d8576b"
             ],
             [
              0.6666666666666666,
              "#ed7953"
             ],
             [
              0.7777777777777778,
              "#fb9f3a"
             ],
             [
              0.8888888888888888,
              "#fdca26"
             ],
             [
              1,
              "#f0f921"
             ]
            ],
            "type": "heatmapgl"
           }
          ],
          "histogram": [
           {
            "marker": {
             "pattern": {
              "fillmode": "overlay",
              "size": 10,
              "solidity": 0.2
             }
            },
            "type": "histogram"
           }
          ],
          "histogram2d": [
           {
            "colorbar": {
             "outlinewidth": 0,
             "ticks": ""
            },
            "colorscale": [
             [
              0,
              "#0d0887"
             ],
             [
              0.1111111111111111,
              "#46039f"
             ],
             [
              0.2222222222222222,
              "#7201a8"
             ],
             [
              0.3333333333333333,
              "#9c179e"
             ],
             [
              0.4444444444444444,
              "#bd3786"
             ],
             [
              0.5555555555555556,
              "#d8576b"
             ],
             [
              0.6666666666666666,
              "#ed7953"
             ],
             [
              0.7777777777777778,
              "#fb9f3a"
             ],
             [
              0.8888888888888888,
              "#fdca26"
             ],
             [
              1,
              "#f0f921"
             ]
            ],
            "type": "histogram2d"
           }
          ],
          "histogram2dcontour": [
           {
            "colorbar": {
             "outlinewidth": 0,
             "ticks": ""
            },
            "colorscale": [
             [
              0,
              "#0d0887"
             ],
             [
              0.1111111111111111,
              "#46039f"
             ],
             [
              0.2222222222222222,
              "#7201a8"
             ],
             [
              0.3333333333333333,
              "#9c179e"
             ],
             [
              0.4444444444444444,
              "#bd3786"
             ],
             [
              0.5555555555555556,
              "#d8576b"
             ],
             [
              0.6666666666666666,
              "#ed7953"
             ],
             [
              0.7777777777777778,
              "#fb9f3a"
             ],
             [
              0.8888888888888888,
              "#fdca26"
             ],
             [
              1,
              "#f0f921"
             ]
            ],
            "type": "histogram2dcontour"
           }
          ],
          "mesh3d": [
           {
            "colorbar": {
             "outlinewidth": 0,
             "ticks": ""
            },
            "type": "mesh3d"
           }
          ],
          "parcoords": [
           {
            "line": {
             "colorbar": {
              "outlinewidth": 0,
              "ticks": ""
             }
            },
            "type": "parcoords"
           }
          ],
          "pie": [
           {
            "automargin": true,
            "type": "pie"
           }
          ],
          "scatter": [
           {
            "fillpattern": {
             "fillmode": "overlay",
             "size": 10,
             "solidity": 0.2
            },
            "type": "scatter"
           }
          ],
          "scatter3d": [
           {
            "line": {
             "colorbar": {
              "outlinewidth": 0,
              "ticks": ""
             }
            },
            "marker": {
             "colorbar": {
              "outlinewidth": 0,
              "ticks": ""
             }
            },
            "type": "scatter3d"
           }
          ],
          "scattercarpet": [
           {
            "marker": {
             "colorbar": {
              "outlinewidth": 0,
              "ticks": ""
             }
            },
            "type": "scattercarpet"
           }
          ],
          "scattergeo": [
           {
            "marker": {
             "colorbar": {
              "outlinewidth": 0,
              "ticks": ""
             }
            },
            "type": "scattergeo"
           }
          ],
          "scattergl": [
           {
            "marker": {
             "colorbar": {
              "outlinewidth": 0,
              "ticks": ""
             }
            },
            "type": "scattergl"
           }
          ],
          "scattermapbox": [
           {
            "marker": {
             "colorbar": {
              "outlinewidth": 0,
              "ticks": ""
             }
            },
            "type": "scattermapbox"
           }
          ],
          "scatterpolar": [
           {
            "marker": {
             "colorbar": {
              "outlinewidth": 0,
              "ticks": ""
             }
            },
            "type": "scatterpolar"
           }
          ],
          "scatterpolargl": [
           {
            "marker": {
             "colorbar": {
              "outlinewidth": 0,
              "ticks": ""
             }
            },
            "type": "scatterpolargl"
           }
          ],
          "scatterternary": [
           {
            "marker": {
             "colorbar": {
              "outlinewidth": 0,
              "ticks": ""
             }
            },
            "type": "scatterternary"
           }
          ],
          "surface": [
           {
            "colorbar": {
             "outlinewidth": 0,
             "ticks": ""
            },
            "colorscale": [
             [
              0,
              "#0d0887"
             ],
             [
              0.1111111111111111,
              "#46039f"
             ],
             [
              0.2222222222222222,
              "#7201a8"
             ],
             [
              0.3333333333333333,
              "#9c179e"
             ],
             [
              0.4444444444444444,
              "#bd3786"
             ],
             [
              0.5555555555555556,
              "#d8576b"
             ],
             [
              0.6666666666666666,
              "#ed7953"
             ],
             [
              0.7777777777777778,
              "#fb9f3a"
             ],
             [
              0.8888888888888888,
              "#fdca26"
             ],
             [
              1,
              "#f0f921"
             ]
            ],
            "type": "surface"
           }
          ],
          "table": [
           {
            "cells": {
             "fill": {
              "color": "#EBF0F8"
             },
             "line": {
              "color": "white"
             }
            },
            "header": {
             "fill": {
              "color": "#C8D4E3"
             },
             "line": {
              "color": "white"
             }
            },
            "type": "table"
           }
          ]
         },
         "layout": {
          "annotationdefaults": {
           "arrowcolor": "#2a3f5f",
           "arrowhead": 0,
           "arrowwidth": 1
          },
          "autotypenumbers": "strict",
          "coloraxis": {
           "colorbar": {
            "outlinewidth": 0,
            "ticks": ""
           }
          },
          "colorscale": {
           "diverging": [
            [
             0,
             "#8e0152"
            ],
            [
             0.1,
             "#c51b7d"
            ],
            [
             0.2,
             "#de77ae"
            ],
            [
             0.3,
             "#f1b6da"
            ],
            [
             0.4,
             "#fde0ef"
            ],
            [
             0.5,
             "#f7f7f7"
            ],
            [
             0.6,
             "#e6f5d0"
            ],
            [
             0.7,
             "#b8e186"
            ],
            [
             0.8,
             "#7fbc41"
            ],
            [
             0.9,
             "#4d9221"
            ],
            [
             1,
             "#276419"
            ]
           ],
           "sequential": [
            [
             0,
             "#0d0887"
            ],
            [
             0.1111111111111111,
             "#46039f"
            ],
            [
             0.2222222222222222,
             "#7201a8"
            ],
            [
             0.3333333333333333,
             "#9c179e"
            ],
            [
             0.4444444444444444,
             "#bd3786"
            ],
            [
             0.5555555555555556,
             "#d8576b"
            ],
            [
             0.6666666666666666,
             "#ed7953"
            ],
            [
             0.7777777777777778,
             "#fb9f3a"
            ],
            [
             0.8888888888888888,
             "#fdca26"
            ],
            [
             1,
             "#f0f921"
            ]
           ],
           "sequentialminus": [
            [
             0,
             "#0d0887"
            ],
            [
             0.1111111111111111,
             "#46039f"
            ],
            [
             0.2222222222222222,
             "#7201a8"
            ],
            [
             0.3333333333333333,
             "#9c179e"
            ],
            [
             0.4444444444444444,
             "#bd3786"
            ],
            [
             0.5555555555555556,
             "#d8576b"
            ],
            [
             0.6666666666666666,
             "#ed7953"
            ],
            [
             0.7777777777777778,
             "#fb9f3a"
            ],
            [
             0.8888888888888888,
             "#fdca26"
            ],
            [
             1,
             "#f0f921"
            ]
           ]
          },
          "colorway": [
           "#636efa",
           "#EF553B",
           "#00cc96",
           "#ab63fa",
           "#FFA15A",
           "#19d3f3",
           "#FF6692",
           "#B6E880",
           "#FF97FF",
           "#FECB52"
          ],
          "font": {
           "color": "#2a3f5f"
          },
          "geo": {
           "bgcolor": "white",
           "lakecolor": "white",
           "landcolor": "#E5ECF6",
           "showlakes": true,
           "showland": true,
           "subunitcolor": "white"
          },
          "hoverlabel": {
           "align": "left"
          },
          "hovermode": "closest",
          "mapbox": {
           "style": "light"
          },
          "paper_bgcolor": "white",
          "plot_bgcolor": "#E5ECF6",
          "polar": {
           "angularaxis": {
            "gridcolor": "white",
            "linecolor": "white",
            "ticks": ""
           },
           "bgcolor": "#E5ECF6",
           "radialaxis": {
            "gridcolor": "white",
            "linecolor": "white",
            "ticks": ""
           }
          },
          "scene": {
           "xaxis": {
            "backgroundcolor": "#E5ECF6",
            "gridcolor": "white",
            "gridwidth": 2,
            "linecolor": "white",
            "showbackground": true,
            "ticks": "",
            "zerolinecolor": "white"
           },
           "yaxis": {
            "backgroundcolor": "#E5ECF6",
            "gridcolor": "white",
            "gridwidth": 2,
            "linecolor": "white",
            "showbackground": true,
            "ticks": "",
            "zerolinecolor": "white"
           },
           "zaxis": {
            "backgroundcolor": "#E5ECF6",
            "gridcolor": "white",
            "gridwidth": 2,
            "linecolor": "white",
            "showbackground": true,
            "ticks": "",
            "zerolinecolor": "white"
           }
          },
          "shapedefaults": {
           "line": {
            "color": "#2a3f5f"
           }
          },
          "ternary": {
           "aaxis": {
            "gridcolor": "white",
            "linecolor": "white",
            "ticks": ""
           },
           "baxis": {
            "gridcolor": "white",
            "linecolor": "white",
            "ticks": ""
           },
           "bgcolor": "#E5ECF6",
           "caxis": {
            "gridcolor": "white",
            "linecolor": "white",
            "ticks": ""
           }
          },
          "title": {
           "x": 0.05
          },
          "xaxis": {
           "automargin": true,
           "gridcolor": "white",
           "linecolor": "white",
           "ticks": "",
           "title": {
            "standoff": 15
           },
           "zerolinecolor": "white",
           "zerolinewidth": 2
          },
          "yaxis": {
           "automargin": true,
           "gridcolor": "white",
           "linecolor": "white",
           "ticks": "",
           "title": {
            "standoff": 15
           },
           "zerolinecolor": "white",
           "zerolinewidth": 2
          }
         }
        },
        "xaxis": {
         "anchor": "y",
         "domain": [
          0,
          1
         ],
         "rangebreaks": [
          {
           "bounds": [
            "sat",
            "mon"
           ]
          },
          {
           "bounds": [
            16,
            9
           ],
           "pattern": "hour"
          }
         ]
        },
        "xaxis2": {
         "anchor": "y2",
         "domain": [
          0,
          1
         ],
         "rangebreaks": [
          {
           "bounds": [
            "sat",
            "mon"
           ]
          },
          {
           "bounds": [
            16,
            9
           ],
           "pattern": "hour"
          }
         ]
        },
        "xaxis3": {
         "anchor": "y3",
         "domain": [
          0,
          1
         ],
         "rangebreaks": [
          {
           "bounds": [
            "sat",
            "mon"
           ]
          },
          {
           "bounds": [
            16,
            9
           ],
           "pattern": "hour"
          }
         ]
        },
        "yaxis": {
         "anchor": "x",
         "domain": [
          0.7333333333333333,
          1
         ]
        },
        "yaxis2": {
         "anchor": "x2",
         "domain": [
          0.36666666666666664,
          0.6333333333333333
         ]
        },
        "yaxis3": {
         "anchor": "x3",
         "domain": [
          0,
          0.26666666666666666
         ]
        }
       }
      },
      "text/html": [
       "<div>                            <div id=\"16db5e3c-4d5f-4ddd-8b96-51416b50bf9f\" class=\"plotly-graph-div\" style=\"height:525px; width:100%;\"></div>            <script type=\"text/javascript\">                require([\"plotly\"], function(Plotly) {                    window.PLOTLYENV=window.PLOTLYENV || {};                                    if (document.getElementById(\"16db5e3c-4d5f-4ddd-8b96-51416b50bf9f\")) {                    Plotly.newPlot(                        \"16db5e3c-4d5f-4ddd-8b96-51416b50bf9f\",                        [{\"mode\":\"lines\",\"name\":\"RSI14\",\"x\":[\"2022-01-04T09:39:00\",\"2022-01-04T09:49:00\",\"2022-01-04T09:59:00\",\"2022-01-04T10:09:00\",\"2022-01-04T10:19:00\",\"2022-01-04T10:29:00\",\"2022-01-04T10:39:00\",\"2022-01-04T10:49:00\",\"2022-01-04T10:59:00\",\"2022-01-04T11:09:00\",\"2022-01-04T11:19:00\",\"2022-01-04T11:29:00\",\"2022-01-04T11:39:00\",\"2022-01-04T11:49:00\",\"2022-01-04T11:59:00\",\"2022-01-04T12:09:00\",\"2022-01-04T12:19:00\",\"2022-01-04T12:29:00\",\"2022-01-04T12:39:00\",\"2022-01-04T12:49:00\",\"2022-01-04T12:59:00\",\"2022-01-04T13:09:00\",\"2022-01-04T13:19:00\",\"2022-01-04T13:29:00\",\"2022-01-04T13:39:00\",\"2022-01-04T13:49:00\",\"2022-01-04T13:59:00\",\"2022-01-04T14:09:00\",\"2022-01-04T14:19:00\",\"2022-01-04T14:29:00\",\"2022-01-04T14:39:00\",\"2022-01-04T14:49:00\",\"2022-01-04T14:59:00\",\"2022-01-04T15:09:00\",\"2022-01-04T15:19:00\",\"2022-01-04T15:29:00\"],\"y\":[null,null,null,null,null,null,null,null,null,null,null,null,null,65.4173985023796,65.97881451449055,69.14559603546734,61.10447226064591,54.67112911629953,54.86001184619824,53.63332930831711,54.96487771321186,55.33513479209319,42.60972708656547,46.89152135583056,41.52206258736706,36.35581510453071,46.9873056113198,54.94866331954589,58.44100619720422,56.7998475764745,63.04286529250465,60.69350802976097,63.34448267377292,60.44481646286595,63.11534684474898,63.91026211186416],\"type\":\"scatter\",\"xaxis\":\"x2\",\"yaxis\":\"y2\"},{\"mode\":\"lines\",\"name\":\"RSI2\",\"x\":[\"2022-01-04T09:39:00\",\"2022-01-04T09:49:00\",\"2022-01-04T09:59:00\",\"2022-01-04T10:09:00\",\"2022-01-04T10:19:00\",\"2022-01-04T10:29:00\",\"2022-01-04T10:39:00\",\"2022-01-04T10:49:00\",\"2022-01-04T10:59:00\",\"2022-01-04T11:09:00\",\"2022-01-04T11:19:00\",\"2022-01-04T11:29:00\",\"2022-01-04T11:39:00\",\"2022-01-04T11:49:00\",\"2022-01-04T11:59:00\",\"2022-01-04T12:09:00\",\"2022-01-04T12:19:00\",\"2022-01-04T12:29:00\",\"2022-01-04T12:39:00\",\"2022-01-04T12:49:00\",\"2022-01-04T12:59:00\",\"2022-01-04T13:09:00\",\"2022-01-04T13:19:00\",\"2022-01-04T13:29:00\",\"2022-01-04T13:39:00\",\"2022-01-04T13:49:00\",\"2022-01-04T13:59:00\",\"2022-01-04T14:09:00\",\"2022-01-04T14:19:00\",\"2022-01-04T14:29:00\",\"2022-01-04T14:39:00\",\"2022-01-04T14:49:00\",\"2022-01-04T14:59:00\",\"2022-01-04T15:09:00\",\"2022-01-04T15:19:00\",\"2022-01-04T15:29:00\"],\"y\":[null,100.0,100.0,100.0,100.0,93.58141989970512,94.91999832894354,16.620460114847134,54.65903983006541,40.60153708414809,19.006840077737763,9.633049712113989,59.640522415372544,68.2037840492522,74.2416155421902,92.02425126964664,32.71876767147208,14.797799647536266,18.108469824154696,12.970875693463398,48.70716137203779,57.96111983363022,4.400654649873843,40.31197104090498,18.247599863132866,8.069003737143689,65.5653927084914,84.54989822307908,90.17744018534424,72.01915194059318,91.38917968157156,67.97971200353193,83.35050431700958,51.0066947397283,77.10413501393509,82.69054563082389],\"type\":\"scatter\",\"xaxis\":\"x3\",\"yaxis\":\"y3\"},{\"mode\":\"lines\",\"name\":\"Close\",\"x\":[\"2022-01-04T09:39:00\",\"2022-01-04T09:49:00\",\"2022-01-04T09:59:00\",\"2022-01-04T10:09:00\",\"2022-01-04T10:19:00\",\"2022-01-04T10:29:00\",\"2022-01-04T10:39:00\",\"2022-01-04T10:49:00\",\"2022-01-04T10:59:00\",\"2022-01-04T11:09:00\",\"2022-01-04T11:19:00\",\"2022-01-04T11:29:00\",\"2022-01-04T11:39:00\",\"2022-01-04T11:49:00\",\"2022-01-04T11:59:00\",\"2022-01-04T12:09:00\",\"2022-01-04T12:19:00\",\"2022-01-04T12:29:00\",\"2022-01-04T12:39:00\",\"2022-01-04T12:49:00\",\"2022-01-04T12:59:00\",\"2022-01-04T13:09:00\",\"2022-01-04T13:19:00\",\"2022-01-04T13:29:00\",\"2022-01-04T13:39:00\",\"2022-01-04T13:49:00\",\"2022-01-04T13:59:00\",\"2022-01-04T14:09:00\",\"2022-01-04T14:19:00\",\"2022-01-04T14:29:00\",\"2022-01-04T14:39:00\",\"2022-01-04T14:49:00\",\"2022-01-04T14:59:00\",\"2022-01-04T15:09:00\",\"2022-01-04T15:19:00\",\"2022-01-04T15:29:00\"],\"y\":[36462.4,36663.95,36756.4,36782.1,36831.75,36827.95,36835.75,36747.65,36792.45,36775.45,36737.9,36703.55,36746.7,36757.2,36763.0,36797.05,36752.35,36710.35,36711.9,36704.0,36713.7,36716.3,36628.6,36657.15,36611.2,36558.25,36637.5,36715.35,36755.8,36741.8,36820.0,36800.55,36835.6,36812.45,36846.45,36856.75],\"type\":\"scatter\",\"xaxis\":\"x\",\"yaxis\":\"y\"},{\"mode\":\"markers+text\",\"name\":\"Bear Entry\",\"x\":[\"2022-01-04T13:49:00\"],\"y\":[36558.25],\"type\":\"scatter\"},{\"mode\":\"markers+text\",\"name\":\"Bull Entry\",\"x\":[\"2022-01-04T12:09:00\",\"2022-01-04T14:39:00\"],\"y\":[36797.05,36820.0],\"type\":\"scatter\"},{\"mode\":\"markers+text\",\"name\":\"Stop Loss Hit\",\"x\":[\"2022-01-04T12:29:00\",\"2022-01-04T14:09:00\"],\"y\":[36710.35,36715.35],\"type\":\"scatter\"},{\"mode\":\"markers+text\",\"name\":\" Target Hit\",\"x\":[],\"y\":[],\"type\":\"scatter\"},{\"mode\":\"markers+text\",\"name\":\"End of Day Square Off\",\"x\":[\"2022-01-04T15:19:00\"],\"y\":[36846.45],\"type\":\"scatter\"}],                        {\"template\":{\"data\":{\"histogram2dcontour\":[{\"type\":\"histogram2dcontour\",\"colorbar\":{\"outlinewidth\":0,\"ticks\":\"\"},\"colorscale\":[[0.0,\"#0d0887\"],[0.1111111111111111,\"#46039f\"],[0.2222222222222222,\"#7201a8\"],[0.3333333333333333,\"#9c179e\"],[0.4444444444444444,\"#bd3786\"],[0.5555555555555556,\"#d8576b\"],[0.6666666666666666,\"#ed7953\"],[0.7777777777777778,\"#fb9f3a\"],[0.8888888888888888,\"#fdca26\"],[1.0,\"#f0f921\"]]}],\"choropleth\":[{\"type\":\"choropleth\",\"colorbar\":{\"outlinewidth\":0,\"ticks\":\"\"}}],\"histogram2d\":[{\"type\":\"histogram2d\",\"colorbar\":{\"outlinewidth\":0,\"ticks\":\"\"},\"colorscale\":[[0.0,\"#0d0887\"],[0.1111111111111111,\"#46039f\"],[0.2222222222222222,\"#7201a8\"],[0.3333333333333333,\"#9c179e\"],[0.4444444444444444,\"#bd3786\"],[0.5555555555555556,\"#d8576b\"],[0.6666666666666666,\"#ed7953\"],[0.7777777777777778,\"#fb9f3a\"],[0.8888888888888888,\"#fdca26\"],[1.0,\"#f0f921\"]]}],\"heatmap\":[{\"type\":\"heatmap\",\"colorbar\":{\"outlinewidth\":0,\"ticks\":\"\"},\"colorscale\":[[0.0,\"#0d0887\"],[0.1111111111111111,\"#46039f\"],[0.2222222222222222,\"#7201a8\"],[0.3333333333333333,\"#9c179e\"],[0.4444444444444444,\"#bd3786\"],[0.5555555555555556,\"#d8576b\"],[0.6666666666666666,\"#ed7953\"],[0.7777777777777778,\"#fb9f3a\"],[0.8888888888888888,\"#fdca26\"],[1.0,\"#f0f921\"]]}],\"heatmapgl\":[{\"type\":\"heatmapgl\",\"colorbar\":{\"outlinewidth\":0,\"ticks\":\"\"},\"colorscale\":[[0.0,\"#0d0887\"],[0.1111111111111111,\"#46039f\"],[0.2222222222222222,\"#7201a8\"],[0.3333333333333333,\"#9c179e\"],[0.4444444444444444,\"#bd3786\"],[0.5555555555555556,\"#d8576b\"],[0.6666666666666666,\"#ed7953\"],[0.7777777777777778,\"#fb9f3a\"],[0.8888888888888888,\"#fdca26\"],[1.0,\"#f0f921\"]]}],\"contourcarpet\":[{\"type\":\"contourcarpet\",\"colorbar\":{\"outlinewidth\":0,\"ticks\":\"\"}}],\"contour\":[{\"type\":\"contour\",\"colorbar\":{\"outlinewidth\":0,\"ticks\":\"\"},\"colorscale\":[[0.0,\"#0d0887\"],[0.1111111111111111,\"#46039f\"],[0.2222222222222222,\"#7201a8\"],[0.3333333333333333,\"#9c179e\"],[0.4444444444444444,\"#bd3786\"],[0.5555555555555556,\"#d8576b\"],[0.6666666666666666,\"#ed7953\"],[0.7777777777777778,\"#fb9f3a\"],[0.8888888888888888,\"#fdca26\"],[1.0,\"#f0f921\"]]}],\"surface\":[{\"type\":\"surface\",\"colorbar\":{\"outlinewidth\":0,\"ticks\":\"\"},\"colorscale\":[[0.0,\"#0d0887\"],[0.1111111111111111,\"#46039f\"],[0.2222222222222222,\"#7201a8\"],[0.3333333333333333,\"#9c179e\"],[0.4444444444444444,\"#bd3786\"],[0.5555555555555556,\"#d8576b\"],[0.6666666666666666,\"#ed7953\"],[0.7777777777777778,\"#fb9f3a\"],[0.8888888888888888,\"#fdca26\"],[1.0,\"#f0f921\"]]}],\"mesh3d\":[{\"type\":\"mesh3d\",\"colorbar\":{\"outlinewidth\":0,\"ticks\":\"\"}}],\"scatter\":[{\"fillpattern\":{\"fillmode\":\"overlay\",\"size\":10,\"solidity\":0.2},\"type\":\"scatter\"}],\"parcoords\":[{\"type\":\"parcoords\",\"line\":{\"colorbar\":{\"outlinewidth\":0,\"ticks\":\"\"}}}],\"scatterpolargl\":[{\"type\":\"scatterpolargl\",\"marker\":{\"colorbar\":{\"outlinewidth\":0,\"ticks\":\"\"}}}],\"bar\":[{\"error_x\":{\"color\":\"#2a3f5f\"},\"error_y\":{\"color\":\"#2a3f5f\"},\"marker\":{\"line\":{\"color\":\"#E5ECF6\",\"width\":0.5},\"pattern\":{\"fillmode\":\"overlay\",\"size\":10,\"solidity\":0.2}},\"type\":\"bar\"}],\"scattergeo\":[{\"type\":\"scattergeo\",\"marker\":{\"colorbar\":{\"outlinewidth\":0,\"ticks\":\"\"}}}],\"scatterpolar\":[{\"type\":\"scatterpolar\",\"marker\":{\"colorbar\":{\"outlinewidth\":0,\"ticks\":\"\"}}}],\"histogram\":[{\"marker\":{\"pattern\":{\"fillmode\":\"overlay\",\"size\":10,\"solidity\":0.2}},\"type\":\"histogram\"}],\"scattergl\":[{\"type\":\"scattergl\",\"marker\":{\"colorbar\":{\"outlinewidth\":0,\"ticks\":\"\"}}}],\"scatter3d\":[{\"type\":\"scatter3d\",\"line\":{\"colorbar\":{\"outlinewidth\":0,\"ticks\":\"\"}},\"marker\":{\"colorbar\":{\"outlinewidth\":0,\"ticks\":\"\"}}}],\"scattermapbox\":[{\"type\":\"scattermapbox\",\"marker\":{\"colorbar\":{\"outlinewidth\":0,\"ticks\":\"\"}}}],\"scatterternary\":[{\"type\":\"scatterternary\",\"marker\":{\"colorbar\":{\"outlinewidth\":0,\"ticks\":\"\"}}}],\"scattercarpet\":[{\"type\":\"scattercarpet\",\"marker\":{\"colorbar\":{\"outlinewidth\":0,\"ticks\":\"\"}}}],\"carpet\":[{\"aaxis\":{\"endlinecolor\":\"#2a3f5f\",\"gridcolor\":\"white\",\"linecolor\":\"white\",\"minorgridcolor\":\"white\",\"startlinecolor\":\"#2a3f5f\"},\"baxis\":{\"endlinecolor\":\"#2a3f5f\",\"gridcolor\":\"white\",\"linecolor\":\"white\",\"minorgridcolor\":\"white\",\"startlinecolor\":\"#2a3f5f\"},\"type\":\"carpet\"}],\"table\":[{\"cells\":{\"fill\":{\"color\":\"#EBF0F8\"},\"line\":{\"color\":\"white\"}},\"header\":{\"fill\":{\"color\":\"#C8D4E3\"},\"line\":{\"color\":\"white\"}},\"type\":\"table\"}],\"barpolar\":[{\"marker\":{\"line\":{\"color\":\"#E5ECF6\",\"width\":0.5},\"pattern\":{\"fillmode\":\"overlay\",\"size\":10,\"solidity\":0.2}},\"type\":\"barpolar\"}],\"pie\":[{\"automargin\":true,\"type\":\"pie\"}]},\"layout\":{\"autotypenumbers\":\"strict\",\"colorway\":[\"#636efa\",\"#EF553B\",\"#00cc96\",\"#ab63fa\",\"#FFA15A\",\"#19d3f3\",\"#FF6692\",\"#B6E880\",\"#FF97FF\",\"#FECB52\"],\"font\":{\"color\":\"#2a3f5f\"},\"hovermode\":\"closest\",\"hoverlabel\":{\"align\":\"left\"},\"paper_bgcolor\":\"white\",\"plot_bgcolor\":\"#E5ECF6\",\"polar\":{\"bgcolor\":\"#E5ECF6\",\"angularaxis\":{\"gridcolor\":\"white\",\"linecolor\":\"white\",\"ticks\":\"\"},\"radialaxis\":{\"gridcolor\":\"white\",\"linecolor\":\"white\",\"ticks\":\"\"}},\"ternary\":{\"bgcolor\":\"#E5ECF6\",\"aaxis\":{\"gridcolor\":\"white\",\"linecolor\":\"white\",\"ticks\":\"\"},\"baxis\":{\"gridcolor\":\"white\",\"linecolor\":\"white\",\"ticks\":\"\"},\"caxis\":{\"gridcolor\":\"white\",\"linecolor\":\"white\",\"ticks\":\"\"}},\"coloraxis\":{\"colorbar\":{\"outlinewidth\":0,\"ticks\":\"\"}},\"colorscale\":{\"sequential\":[[0.0,\"#0d0887\"],[0.1111111111111111,\"#46039f\"],[0.2222222222222222,\"#7201a8\"],[0.3333333333333333,\"#9c179e\"],[0.4444444444444444,\"#bd3786\"],[0.5555555555555556,\"#d8576b\"],[0.6666666666666666,\"#ed7953\"],[0.7777777777777778,\"#fb9f3a\"],[0.8888888888888888,\"#fdca26\"],[1.0,\"#f0f921\"]],\"sequentialminus\":[[0.0,\"#0d0887\"],[0.1111111111111111,\"#46039f\"],[0.2222222222222222,\"#7201a8\"],[0.3333333333333333,\"#9c179e\"],[0.4444444444444444,\"#bd3786\"],[0.5555555555555556,\"#d8576b\"],[0.6666666666666666,\"#ed7953\"],[0.7777777777777778,\"#fb9f3a\"],[0.8888888888888888,\"#fdca26\"],[1.0,\"#f0f921\"]],\"diverging\":[[0,\"#8e0152\"],[0.1,\"#c51b7d\"],[0.2,\"#de77ae\"],[0.3,\"#f1b6da\"],[0.4,\"#fde0ef\"],[0.5,\"#f7f7f7\"],[0.6,\"#e6f5d0\"],[0.7,\"#b8e186\"],[0.8,\"#7fbc41\"],[0.9,\"#4d9221\"],[1,\"#276419\"]]},\"xaxis\":{\"gridcolor\":\"white\",\"linecolor\":\"white\",\"ticks\":\"\",\"title\":{\"standoff\":15},\"zerolinecolor\":\"white\",\"automargin\":true,\"zerolinewidth\":2},\"yaxis\":{\"gridcolor\":\"white\",\"linecolor\":\"white\",\"ticks\":\"\",\"title\":{\"standoff\":15},\"zerolinecolor\":\"white\",\"automargin\":true,\"zerolinewidth\":2},\"scene\":{\"xaxis\":{\"backgroundcolor\":\"#E5ECF6\",\"gridcolor\":\"white\",\"linecolor\":\"white\",\"showbackground\":true,\"ticks\":\"\",\"zerolinecolor\":\"white\",\"gridwidth\":2},\"yaxis\":{\"backgroundcolor\":\"#E5ECF6\",\"gridcolor\":\"white\",\"linecolor\":\"white\",\"showbackground\":true,\"ticks\":\"\",\"zerolinecolor\":\"white\",\"gridwidth\":2},\"zaxis\":{\"backgroundcolor\":\"#E5ECF6\",\"gridcolor\":\"white\",\"linecolor\":\"white\",\"showbackground\":true,\"ticks\":\"\",\"zerolinecolor\":\"white\",\"gridwidth\":2}},\"shapedefaults\":{\"line\":{\"color\":\"#2a3f5f\"}},\"annotationdefaults\":{\"arrowcolor\":\"#2a3f5f\",\"arrowhead\":0,\"arrowwidth\":1},\"geo\":{\"bgcolor\":\"white\",\"landcolor\":\"#E5ECF6\",\"subunitcolor\":\"white\",\"showland\":true,\"showlakes\":true,\"lakecolor\":\"white\"},\"title\":{\"x\":0.05},\"mapbox\":{\"style\":\"light\"}}},\"xaxis\":{\"anchor\":\"y\",\"domain\":[0.0,1.0],\"rangebreaks\":[{\"bounds\":[\"sat\",\"mon\"]},{\"bounds\":[16,9],\"pattern\":\"hour\"}]},\"yaxis\":{\"anchor\":\"x\",\"domain\":[0.7333333333333333,1.0]},\"xaxis2\":{\"anchor\":\"y2\",\"domain\":[0.0,1.0],\"rangebreaks\":[{\"bounds\":[\"sat\",\"mon\"]},{\"bounds\":[16,9],\"pattern\":\"hour\"}]},\"yaxis2\":{\"anchor\":\"x2\",\"domain\":[0.36666666666666664,0.6333333333333333]},\"xaxis3\":{\"anchor\":\"y3\",\"domain\":[0.0,1.0],\"rangebreaks\":[{\"bounds\":[\"sat\",\"mon\"]},{\"bounds\":[16,9],\"pattern\":\"hour\"}]},\"yaxis3\":{\"anchor\":\"x3\",\"domain\":[0.0,0.26666666666666666]}},                        {\"responsive\": true}                    ).then(function(){\n",
       "                            \n",
       "var gd = document.getElementById('16db5e3c-4d5f-4ddd-8b96-51416b50bf9f');\n",
       "var x = new MutationObserver(function (mutations, observer) {{\n",
       "        var display = window.getComputedStyle(gd).display;\n",
       "        if (!display || display === 'none') {{\n",
       "            console.log([gd, 'removed!']);\n",
       "            Plotly.purge(gd);\n",
       "            observer.disconnect();\n",
       "        }}\n",
       "}});\n",
       "\n",
       "// Listen for the removal of the full notebook cells\n",
       "var notebookContainer = gd.closest('#notebook-container');\n",
       "if (notebookContainer) {{\n",
       "    x.observe(notebookContainer, {childList: true});\n",
       "}}\n",
       "\n",
       "// Listen for the clearing of the current output cell\n",
       "var outputEl = gd.closest('.output');\n",
       "if (outputEl) {{\n",
       "    x.observe(outputEl, {childList: true});\n",
       "}}\n",
       "\n",
       "                        })                };                });            </script>        </div>"
      ]
     },
     "metadata": {},
     "output_type": "display_data"
    }
   ],
   "source": [
    "vis.PlotSignal(df, start, end)"
   ]
  },
  {
   "cell_type": "code",
   "execution_count": 31,
   "metadata": {},
   "outputs": [
    {
     "name": "stdout",
     "output_type": "stream",
     "text": [
      "Option symbol is BANKNIFTY06JAN2236800CE\n",
      "Reading file for date - 2022-01-04\n"
     ]
    }
   ],
   "source": [
    "# BANKNIFTY or NIFTY\n",
    "symbol = \"BANKNIFTY\"\n",
    "# Strike price of the option\n",
    "strike = 36800\n",
    "# Call = CE, Put = PE\n",
    "option = \"CE\"\n",
    "# expiry in the format 09APR22 ( NOTE - Please check the expiry, it should be on a Thursday)\n",
    "expiry = \"06JAN22\"\n",
    "\n",
    "optionsymbol = symbol + expiry + str(strike) + option \n",
    "\n",
    "print(\"Option symbol is \"+ optionsymbol)\n",
    "\n",
    "opdf_list = []\n",
    "delta = datetime.timedelta(days=1)\n",
    "\n",
    "while start <= end:\n",
    "  date_string = start.strftime(\"%Y/Data%Y%m%d.csv\")\n",
    "  if symbol == \"BANKNIFTY\":\n",
    "    path = Banknifty_Path + date_string\n",
    "  elif symbol == \"NIFTY\":\n",
    "    path = Nifty_Path + date_string\n",
    "    print(path)\n",
    "  my_file = Path(path)\n",
    "  if my_file.exists() :\n",
    "    print(\"Reading file for date - \" + str(start))\n",
    "    masterdf = atom.LoadDF(path)\n",
    "    opdf = masterdf[masterdf.symbol == optionsymbol]\n",
    "    opdf_list.append(opdf)\n",
    "  else:\n",
    "    print(\"File does not exist for date - \" + str(start))\n",
    "  \n",
    "  start += delta\n",
    "\n",
    "option_data = pd.concat(opdf_list)"
   ]
  },
  {
   "cell_type": "code",
   "execution_count": 32,
   "metadata": {},
   "outputs": [
    {
     "name": "stderr",
     "output_type": "stream",
     "text": [
      "/Users/rishabhiyer/opt/anaconda3/lib/python3.9/site-packages/plotly/graph_objs/_deprecations.py:378: DeprecationWarning:\n",
      "\n",
      "plotly.graph_objs.Line is deprecated.\n",
      "Please replace it with one of the following more specific types\n",
      "  - plotly.graph_objs.scatter.Line\n",
      "  - plotly.graph_objs.layout.shape.Line\n",
      "  - etc.\n",
      "\n",
      "\n"
     ]
    },
    {
     "data": {
      "application/vnd.plotly.v1+json": {
       "config": {
        "plotlyServerURL": "https://plot.ly"
       },
       "data": [
        {
         "mode": "lines",
         "name": "Close",
         "type": "scatter",
         "x": [
          "2022-01-04T09:15:00",
          "2022-01-04T09:16:00",
          "2022-01-04T09:17:00",
          "2022-01-04T09:18:00",
          "2022-01-04T09:19:00",
          "2022-01-04T09:20:00",
          "2022-01-04T09:21:00",
          "2022-01-04T09:22:00",
          "2022-01-04T09:23:00",
          "2022-01-04T09:24:00",
          "2022-01-04T09:25:00",
          "2022-01-04T09:26:00",
          "2022-01-04T09:27:00",
          "2022-01-04T09:28:00",
          "2022-01-04T09:29:00",
          "2022-01-04T09:30:00",
          "2022-01-04T09:31:00",
          "2022-01-04T09:32:00",
          "2022-01-04T09:33:00",
          "2022-01-04T09:34:00",
          "2022-01-04T09:35:00",
          "2022-01-04T09:36:00",
          "2022-01-04T09:37:00",
          "2022-01-04T09:38:00",
          "2022-01-04T09:39:00",
          "2022-01-04T09:40:00",
          "2022-01-04T09:41:00",
          "2022-01-04T09:42:00",
          "2022-01-04T09:43:00",
          "2022-01-04T09:44:00",
          "2022-01-04T09:45:00",
          "2022-01-04T09:46:00",
          "2022-01-04T09:47:00",
          "2022-01-04T09:48:00",
          "2022-01-04T09:49:00",
          "2022-01-04T09:50:00",
          "2022-01-04T09:51:00",
          "2022-01-04T09:52:00",
          "2022-01-04T09:53:00",
          "2022-01-04T09:54:00",
          "2022-01-04T09:55:00",
          "2022-01-04T09:56:00",
          "2022-01-04T09:57:00",
          "2022-01-04T09:58:00",
          "2022-01-04T09:59:00",
          "2022-01-04T10:00:00",
          "2022-01-04T10:01:00",
          "2022-01-04T10:02:00",
          "2022-01-04T10:03:00",
          "2022-01-04T10:04:00",
          "2022-01-04T10:05:00",
          "2022-01-04T10:06:00",
          "2022-01-04T10:07:00",
          "2022-01-04T10:08:00",
          "2022-01-04T10:09:00",
          "2022-01-04T10:10:00",
          "2022-01-04T10:11:00",
          "2022-01-04T10:12:00",
          "2022-01-04T10:13:00",
          "2022-01-04T10:14:00",
          "2022-01-04T10:15:00",
          "2022-01-04T10:16:00",
          "2022-01-04T10:17:00",
          "2022-01-04T10:18:00",
          "2022-01-04T10:19:00",
          "2022-01-04T10:20:00",
          "2022-01-04T10:21:00",
          "2022-01-04T10:22:00",
          "2022-01-04T10:23:00",
          "2022-01-04T10:24:00",
          "2022-01-04T10:25:00",
          "2022-01-04T10:26:00",
          "2022-01-04T10:27:00",
          "2022-01-04T10:28:00",
          "2022-01-04T10:29:00",
          "2022-01-04T10:30:00",
          "2022-01-04T10:31:00",
          "2022-01-04T10:32:00",
          "2022-01-04T10:33:00",
          "2022-01-04T10:34:00",
          "2022-01-04T10:35:00",
          "2022-01-04T10:36:00",
          "2022-01-04T10:37:00",
          "2022-01-04T10:38:00",
          "2022-01-04T10:39:00",
          "2022-01-04T10:40:00",
          "2022-01-04T10:41:00",
          "2022-01-04T10:42:00",
          "2022-01-04T10:43:00",
          "2022-01-04T10:44:00",
          "2022-01-04T10:45:00",
          "2022-01-04T10:46:00",
          "2022-01-04T10:47:00",
          "2022-01-04T10:48:00",
          "2022-01-04T10:49:00",
          "2022-01-04T10:50:00",
          "2022-01-04T10:51:00",
          "2022-01-04T10:52:00",
          "2022-01-04T10:53:00",
          "2022-01-04T10:54:00",
          "2022-01-04T10:55:00",
          "2022-01-04T10:56:00",
          "2022-01-04T10:57:00",
          "2022-01-04T10:58:00",
          "2022-01-04T10:59:00",
          "2022-01-04T11:00:00",
          "2022-01-04T11:01:00",
          "2022-01-04T11:02:00",
          "2022-01-04T11:03:00",
          "2022-01-04T11:04:00",
          "2022-01-04T11:05:00",
          "2022-01-04T11:06:00",
          "2022-01-04T11:07:00",
          "2022-01-04T11:08:00",
          "2022-01-04T11:09:00",
          "2022-01-04T11:10:00",
          "2022-01-04T11:11:00",
          "2022-01-04T11:12:00",
          "2022-01-04T11:13:00",
          "2022-01-04T11:14:00",
          "2022-01-04T11:15:00",
          "2022-01-04T11:16:00",
          "2022-01-04T11:17:00",
          "2022-01-04T11:18:00",
          "2022-01-04T11:19:00",
          "2022-01-04T11:20:00",
          "2022-01-04T11:21:00",
          "2022-01-04T11:22:00",
          "2022-01-04T11:23:00",
          "2022-01-04T11:24:00",
          "2022-01-04T11:25:00",
          "2022-01-04T11:26:00",
          "2022-01-04T11:27:00",
          "2022-01-04T11:28:00",
          "2022-01-04T11:29:00",
          "2022-01-04T11:30:00",
          "2022-01-04T11:31:00",
          "2022-01-04T11:32:00",
          "2022-01-04T11:33:00",
          "2022-01-04T11:34:00",
          "2022-01-04T11:35:00",
          "2022-01-04T11:36:00",
          "2022-01-04T11:37:00",
          "2022-01-04T11:38:00",
          "2022-01-04T11:39:00",
          "2022-01-04T11:40:00",
          "2022-01-04T11:41:00",
          "2022-01-04T11:42:00",
          "2022-01-04T11:43:00",
          "2022-01-04T11:44:00",
          "2022-01-04T11:45:00",
          "2022-01-04T11:46:00",
          "2022-01-04T11:47:00",
          "2022-01-04T11:48:00",
          "2022-01-04T11:49:00",
          "2022-01-04T11:50:00",
          "2022-01-04T11:51:00",
          "2022-01-04T11:52:00",
          "2022-01-04T11:53:00",
          "2022-01-04T11:54:00",
          "2022-01-04T11:55:00",
          "2022-01-04T11:56:00",
          "2022-01-04T11:57:00",
          "2022-01-04T11:58:00",
          "2022-01-04T11:59:00",
          "2022-01-04T12:00:00",
          "2022-01-04T12:01:00",
          "2022-01-04T12:02:00",
          "2022-01-04T12:03:00",
          "2022-01-04T12:04:00",
          "2022-01-04T12:05:00",
          "2022-01-04T12:06:00",
          "2022-01-04T12:07:00",
          "2022-01-04T12:08:00",
          "2022-01-04T12:09:00",
          "2022-01-04T12:10:00",
          "2022-01-04T12:11:00",
          "2022-01-04T12:12:00",
          "2022-01-04T12:13:00",
          "2022-01-04T12:14:00",
          "2022-01-04T12:15:00",
          "2022-01-04T12:16:00",
          "2022-01-04T12:17:00",
          "2022-01-04T12:18:00",
          "2022-01-04T12:19:00",
          "2022-01-04T12:20:00",
          "2022-01-04T12:21:00",
          "2022-01-04T12:22:00",
          "2022-01-04T12:23:00",
          "2022-01-04T12:24:00",
          "2022-01-04T12:25:00",
          "2022-01-04T12:26:00",
          "2022-01-04T12:27:00",
          "2022-01-04T12:28:00",
          "2022-01-04T12:29:00",
          "2022-01-04T12:30:00",
          "2022-01-04T12:31:00",
          "2022-01-04T12:32:00",
          "2022-01-04T12:33:00",
          "2022-01-04T12:34:00",
          "2022-01-04T12:35:00",
          "2022-01-04T12:36:00",
          "2022-01-04T12:37:00",
          "2022-01-04T12:38:00",
          "2022-01-04T12:39:00",
          "2022-01-04T12:40:00",
          "2022-01-04T12:41:00",
          "2022-01-04T12:42:00",
          "2022-01-04T12:43:00",
          "2022-01-04T12:44:00",
          "2022-01-04T12:45:00",
          "2022-01-04T12:46:00",
          "2022-01-04T12:47:00",
          "2022-01-04T12:48:00",
          "2022-01-04T12:49:00",
          "2022-01-04T12:50:00",
          "2022-01-04T12:51:00",
          "2022-01-04T12:52:00",
          "2022-01-04T12:53:00",
          "2022-01-04T12:54:00",
          "2022-01-04T12:55:00",
          "2022-01-04T12:56:00",
          "2022-01-04T12:57:00",
          "2022-01-04T12:58:00",
          "2022-01-04T12:59:00",
          "2022-01-04T13:00:00",
          "2022-01-04T13:01:00",
          "2022-01-04T13:02:00",
          "2022-01-04T13:03:00",
          "2022-01-04T13:04:00",
          "2022-01-04T13:05:00",
          "2022-01-04T13:06:00",
          "2022-01-04T13:07:00",
          "2022-01-04T13:08:00",
          "2022-01-04T13:09:00",
          "2022-01-04T13:10:00",
          "2022-01-04T13:11:00",
          "2022-01-04T13:12:00",
          "2022-01-04T13:13:00",
          "2022-01-04T13:14:00",
          "2022-01-04T13:15:00",
          "2022-01-04T13:16:00",
          "2022-01-04T13:17:00",
          "2022-01-04T13:18:00",
          "2022-01-04T13:19:00",
          "2022-01-04T13:20:00",
          "2022-01-04T13:21:00",
          "2022-01-04T13:22:00",
          "2022-01-04T13:23:00",
          "2022-01-04T13:24:00",
          "2022-01-04T13:25:00",
          "2022-01-04T13:26:00",
          "2022-01-04T13:27:00",
          "2022-01-04T13:28:00",
          "2022-01-04T13:29:00",
          "2022-01-04T13:30:00",
          "2022-01-04T13:31:00",
          "2022-01-04T13:32:00",
          "2022-01-04T13:33:00",
          "2022-01-04T13:34:00",
          "2022-01-04T13:35:00",
          "2022-01-04T13:36:00",
          "2022-01-04T13:37:00",
          "2022-01-04T13:38:00",
          "2022-01-04T13:39:00",
          "2022-01-04T13:40:00",
          "2022-01-04T13:41:00",
          "2022-01-04T13:42:00",
          "2022-01-04T13:43:00",
          "2022-01-04T13:44:00",
          "2022-01-04T13:45:00",
          "2022-01-04T13:46:00",
          "2022-01-04T13:47:00",
          "2022-01-04T13:48:00",
          "2022-01-04T13:49:00",
          "2022-01-04T13:50:00",
          "2022-01-04T13:51:00",
          "2022-01-04T13:52:00",
          "2022-01-04T13:53:00",
          "2022-01-04T13:54:00",
          "2022-01-04T13:55:00",
          "2022-01-04T13:56:00",
          "2022-01-04T13:57:00",
          "2022-01-04T13:58:00",
          "2022-01-04T13:59:00",
          "2022-01-04T14:00:00",
          "2022-01-04T14:01:00",
          "2022-01-04T14:02:00",
          "2022-01-04T14:03:00",
          "2022-01-04T14:04:00",
          "2022-01-04T14:05:00",
          "2022-01-04T14:06:00",
          "2022-01-04T14:07:00",
          "2022-01-04T14:08:00",
          "2022-01-04T14:09:00",
          "2022-01-04T14:10:00",
          "2022-01-04T14:11:00",
          "2022-01-04T14:12:00",
          "2022-01-04T14:13:00",
          "2022-01-04T14:14:00",
          "2022-01-04T14:15:00",
          "2022-01-04T14:16:00",
          "2022-01-04T14:17:00",
          "2022-01-04T14:18:00",
          "2022-01-04T14:19:00",
          "2022-01-04T14:20:00",
          "2022-01-04T14:21:00",
          "2022-01-04T14:22:00",
          "2022-01-04T14:23:00",
          "2022-01-04T14:24:00",
          "2022-01-04T14:25:00",
          "2022-01-04T14:26:00",
          "2022-01-04T14:27:00",
          "2022-01-04T14:28:00",
          "2022-01-04T14:29:00",
          "2022-01-04T14:30:00",
          "2022-01-04T14:31:00",
          "2022-01-04T14:32:00",
          "2022-01-04T14:33:00",
          "2022-01-04T14:34:00",
          "2022-01-04T14:35:00",
          "2022-01-04T14:36:00",
          "2022-01-04T14:37:00",
          "2022-01-04T14:38:00",
          "2022-01-04T14:39:00",
          "2022-01-04T14:40:00",
          "2022-01-04T14:41:00",
          "2022-01-04T14:42:00",
          "2022-01-04T14:43:00",
          "2022-01-04T14:44:00",
          "2022-01-04T14:45:00",
          "2022-01-04T14:46:00",
          "2022-01-04T14:47:00",
          "2022-01-04T14:48:00",
          "2022-01-04T14:49:00",
          "2022-01-04T14:50:00",
          "2022-01-04T14:51:00",
          "2022-01-04T14:52:00",
          "2022-01-04T14:53:00",
          "2022-01-04T14:54:00",
          "2022-01-04T14:55:00",
          "2022-01-04T14:56:00",
          "2022-01-04T14:57:00",
          "2022-01-04T14:58:00",
          "2022-01-04T14:59:00",
          "2022-01-04T15:00:00",
          "2022-01-04T15:01:00",
          "2022-01-04T15:02:00",
          "2022-01-04T15:03:00",
          "2022-01-04T15:04:00",
          "2022-01-04T15:05:00",
          "2022-01-04T15:06:00",
          "2022-01-04T15:07:00",
          "2022-01-04T15:08:00",
          "2022-01-04T15:09:00",
          "2022-01-04T15:10:00",
          "2022-01-04T15:11:00",
          "2022-01-04T15:12:00",
          "2022-01-04T15:13:00",
          "2022-01-04T15:14:00",
          "2022-01-04T15:15:00",
          "2022-01-04T15:16:00",
          "2022-01-04T15:17:00",
          "2022-01-04T15:18:00",
          "2022-01-04T15:19:00",
          "2022-01-04T15:20:00",
          "2022-01-04T15:21:00",
          "2022-01-04T15:22:00",
          "2022-01-04T15:23:00",
          "2022-01-04T15:24:00",
          "2022-01-04T15:25:00",
          "2022-01-04T15:26:00",
          "2022-01-04T15:27:00",
          "2022-01-04T15:28:00",
          "2022-01-04T15:29:00",
          "2022-01-04T15:30:00"
         ],
         "y": [
          165.7,
          197.7,
          212.7,
          193.15,
          179.85,
          157.55,
          193.95,
          203.35,
          224.65,
          218.6,
          211.4,
          222.6,
          222.9,
          223,
          212.75,
          209.35,
          200.45,
          202.5,
          209.5,
          199.8,
          195.2,
          181.9,
          165.9,
          144.05,
          146.55,
          130.2,
          125.45,
          152.15,
          168.4,
          172.8,
          189.6,
          185.95,
          190.1,
          198.9,
          209.9,
          210.7,
          216.1,
          220,
          206.8,
          218.6,
          228.2,
          223.05,
          237.05,
          245.7,
          267.4,
          258,
          258.85,
          257.2,
          242.75,
          253.2,
          247.6,
          253.4,
          269.45,
          272.7,
          274.8,
          278.85,
          294.1,
          287.95,
          277.9,
          295.65,
          294.55,
          293.75,
          291.55,
          295.5,
          295.1,
          277.4,
          262.2,
          297.85,
          281.85,
          283.6,
          272,
          261.8,
          277,
          276,
          285,
          291,
          287.15,
          284.35,
          291.4,
          303.25,
          304.75,
          290.9,
          291.05,
          291,
          290.25,
          289.05,
          291.3,
          286.35,
          278.8,
          264.55,
          267.3,
          251.4,
          253.25,
          255,
          249.6,
          243.6,
          260.8,
          273.55,
          270.35,
          268,
          262.2,
          257.5,
          262.5,
          267,
          266.45,
          265.3,
          276.1,
          269.35,
          261.85,
          261.55,
          255.85,
          252.75,
          263.15,
          256.55,
          257.6,
          257.7,
          249,
          239.35,
          242.8,
          228.5,
          223.65,
          231.5,
          241.15,
          237.95,
          233.8,
          231.05,
          219.45,
          224.5,
          215.35,
          196.2,
          211.35,
          217.3,
          206.65,
          210.9,
          217.8,
          214.9,
          217.05,
          224.1,
          226.35,
          225.8,
          214.85,
          220.05,
          220.85,
          222.9,
          234,
          244.65,
          242.1,
          239.95,
          245.9,
          244.95,
          244,
          240.65,
          238.9,
          245.2,
          241.2,
          239.45,
          245.35,
          251,
          247.65,
          253.25,
          252.85,
          252.6,
          246.85,
          244.8,
          242.3,
          237.05,
          234.8,
          240.1,
          255.05,
          256.75,
          257.95,
          257.45,
          258.4,
          255.55,
          259.9,
          259.85,
          255.85,
          251.45,
          254.55,
          263.05,
          247.85,
          239.45,
          234.25,
          242.7,
          239.35,
          234.45,
          228.6,
          225.75,
          230.65,
          223.6,
          223.85,
          225.15,
          226.45,
          225.75,
          221,
          211.75,
          223.1,
          223.1,
          233.55,
          233.1,
          228,
          221.9,
          216,
          221,
          225,
          217.05,
          216.15,
          222.6,
          222.4,
          222.8,
          214.1,
          212.3,
          213.65,
          220.8,
          218.95,
          213.1,
          212.55,
          206,
          211.15,
          211,
          209.2,
          212.05,
          215,
          211.2,
          215.35,
          216.65,
          199.85,
          218.65,
          218.25,
          223.15,
          222.95,
          223.55,
          219.1,
          214.2,
          214.4,
          209.15,
          209.2,
          209.5,
          204.5,
          202.2,
          194.7,
          187,
          180,
          183.4,
          176.85,
          173.15,
          172.65,
          186.4,
          192.25,
          189.9,
          187.7,
          188,
          189.15,
          187.4,
          188.5,
          192.9,
          188.7,
          182.9,
          180,
          182.6,
          177.8,
          174.3,
          172.5,
          174.25,
          164.15,
          172.15,
          168.3,
          156.25,
          145.35,
          141.75,
          145.4,
          150.4,
          145.85,
          146,
          147.1,
          153.6,
          161.2,
          162.45,
          158.95,
          162.2,
          170.45,
          165.85,
          170.65,
          172.25,
          173.5,
          170.5,
          174.5,
          184.35,
          194.4,
          218.55,
          207.2,
          199.75,
          201.1,
          215.8,
          208.8,
          205.4,
          200.35,
          195.55,
          200.9,
          209.1,
          221.55,
          215,
          216.55,
          218,
          219,
          214,
          216.85,
          218,
          214.05,
          221.2,
          214.75,
          206.95,
          198.8,
          213.65,
          210.45,
          214.8,
          213.5,
          206.65,
          204.25,
          211.8,
          209.4,
          218,
          223.95,
          234.45,
          253.35,
          252.45,
          250.4,
          259.2,
          254.65,
          256.95,
          257,
          255,
          244.05,
          251.45,
          243.6,
          249.3,
          255.75,
          247.4,
          251.4,
          256.75,
          255.5,
          255.05,
          255.85,
          255.6,
          252.65,
          230.6,
          241.15,
          239.1,
          240.7,
          242.9,
          247.15,
          244.9,
          241.25,
          239.25,
          242.35,
          247.65,
          243.85,
          244.05,
          245,
          244.65,
          243.15,
          251.3,
          254.35,
          258.45,
          256.4,
          265,
          277.4,
          273.7,
          268.85,
          269.25,
          267.05,
          263.8,
          265.15,
          261.45,
          254.95,
          250
         ]
        }
       ],
       "layout": {
        "template": {
         "data": {
          "bar": [
           {
            "error_x": {
             "color": "#2a3f5f"
            },
            "error_y": {
             "color": "#2a3f5f"
            },
            "marker": {
             "line": {
              "color": "#E5ECF6",
              "width": 0.5
             },
             "pattern": {
              "fillmode": "overlay",
              "size": 10,
              "solidity": 0.2
             }
            },
            "type": "bar"
           }
          ],
          "barpolar": [
           {
            "marker": {
             "line": {
              "color": "#E5ECF6",
              "width": 0.5
             },
             "pattern": {
              "fillmode": "overlay",
              "size": 10,
              "solidity": 0.2
             }
            },
            "type": "barpolar"
           }
          ],
          "carpet": [
           {
            "aaxis": {
             "endlinecolor": "#2a3f5f",
             "gridcolor": "white",
             "linecolor": "white",
             "minorgridcolor": "white",
             "startlinecolor": "#2a3f5f"
            },
            "baxis": {
             "endlinecolor": "#2a3f5f",
             "gridcolor": "white",
             "linecolor": "white",
             "minorgridcolor": "white",
             "startlinecolor": "#2a3f5f"
            },
            "type": "carpet"
           }
          ],
          "choropleth": [
           {
            "colorbar": {
             "outlinewidth": 0,
             "ticks": ""
            },
            "type": "choropleth"
           }
          ],
          "contour": [
           {
            "colorbar": {
             "outlinewidth": 0,
             "ticks": ""
            },
            "colorscale": [
             [
              0,
              "#0d0887"
             ],
             [
              0.1111111111111111,
              "#46039f"
             ],
             [
              0.2222222222222222,
              "#7201a8"
             ],
             [
              0.3333333333333333,
              "#9c179e"
             ],
             [
              0.4444444444444444,
              "#bd3786"
             ],
             [
              0.5555555555555556,
              "#d8576b"
             ],
             [
              0.6666666666666666,
              "#ed7953"
             ],
             [
              0.7777777777777778,
              "#fb9f3a"
             ],
             [
              0.8888888888888888,
              "#fdca26"
             ],
             [
              1,
              "#f0f921"
             ]
            ],
            "type": "contour"
           }
          ],
          "contourcarpet": [
           {
            "colorbar": {
             "outlinewidth": 0,
             "ticks": ""
            },
            "type": "contourcarpet"
           }
          ],
          "heatmap": [
           {
            "colorbar": {
             "outlinewidth": 0,
             "ticks": ""
            },
            "colorscale": [
             [
              0,
              "#0d0887"
             ],
             [
              0.1111111111111111,
              "#46039f"
             ],
             [
              0.2222222222222222,
              "#7201a8"
             ],
             [
              0.3333333333333333,
              "#9c179e"
             ],
             [
              0.4444444444444444,
              "#bd3786"
             ],
             [
              0.5555555555555556,
              "#d8576b"
             ],
             [
              0.6666666666666666,
              "#ed7953"
             ],
             [
              0.7777777777777778,
              "#fb9f3a"
             ],
             [
              0.8888888888888888,
              "#fdca26"
             ],
             [
              1,
              "#f0f921"
             ]
            ],
            "type": "heatmap"
           }
          ],
          "heatmapgl": [
           {
            "colorbar": {
             "outlinewidth": 0,
             "ticks": ""
            },
            "colorscale": [
             [
              0,
              "#0d0887"
             ],
             [
              0.1111111111111111,
              "#46039f"
             ],
             [
              0.2222222222222222,
              "#7201a8"
             ],
             [
              0.3333333333333333,
              "#9c179e"
             ],
             [
              0.4444444444444444,
              "#bd3786"
             ],
             [
              0.5555555555555556,
              "#d8576b"
             ],
             [
              0.6666666666666666,
              "#ed7953"
             ],
             [
              0.7777777777777778,
              "#fb9f3a"
             ],
             [
              0.8888888888888888,
              "#fdca26"
             ],
             [
              1,
              "#f0f921"
             ]
            ],
            "type": "heatmapgl"
           }
          ],
          "histogram": [
           {
            "marker": {
             "pattern": {
              "fillmode": "overlay",
              "size": 10,
              "solidity": 0.2
             }
            },
            "type": "histogram"
           }
          ],
          "histogram2d": [
           {
            "colorbar": {
             "outlinewidth": 0,
             "ticks": ""
            },
            "colorscale": [
             [
              0,
              "#0d0887"
             ],
             [
              0.1111111111111111,
              "#46039f"
             ],
             [
              0.2222222222222222,
              "#7201a8"
             ],
             [
              0.3333333333333333,
              "#9c179e"
             ],
             [
              0.4444444444444444,
              "#bd3786"
             ],
             [
              0.5555555555555556,
              "#d8576b"
             ],
             [
              0.6666666666666666,
              "#ed7953"
             ],
             [
              0.7777777777777778,
              "#fb9f3a"
             ],
             [
              0.8888888888888888,
              "#fdca26"
             ],
             [
              1,
              "#f0f921"
             ]
            ],
            "type": "histogram2d"
           }
          ],
          "histogram2dcontour": [
           {
            "colorbar": {
             "outlinewidth": 0,
             "ticks": ""
            },
            "colorscale": [
             [
              0,
              "#0d0887"
             ],
             [
              0.1111111111111111,
              "#46039f"
             ],
             [
              0.2222222222222222,
              "#7201a8"
             ],
             [
              0.3333333333333333,
              "#9c179e"
             ],
             [
              0.4444444444444444,
              "#bd3786"
             ],
             [
              0.5555555555555556,
              "#d8576b"
             ],
             [
              0.6666666666666666,
              "#ed7953"
             ],
             [
              0.7777777777777778,
              "#fb9f3a"
             ],
             [
              0.8888888888888888,
              "#fdca26"
             ],
             [
              1,
              "#f0f921"
             ]
            ],
            "type": "histogram2dcontour"
           }
          ],
          "mesh3d": [
           {
            "colorbar": {
             "outlinewidth": 0,
             "ticks": ""
            },
            "type": "mesh3d"
           }
          ],
          "parcoords": [
           {
            "line": {
             "colorbar": {
              "outlinewidth": 0,
              "ticks": ""
             }
            },
            "type": "parcoords"
           }
          ],
          "pie": [
           {
            "automargin": true,
            "type": "pie"
           }
          ],
          "scatter": [
           {
            "fillpattern": {
             "fillmode": "overlay",
             "size": 10,
             "solidity": 0.2
            },
            "type": "scatter"
           }
          ],
          "scatter3d": [
           {
            "line": {
             "colorbar": {
              "outlinewidth": 0,
              "ticks": ""
             }
            },
            "marker": {
             "colorbar": {
              "outlinewidth": 0,
              "ticks": ""
             }
            },
            "type": "scatter3d"
           }
          ],
          "scattercarpet": [
           {
            "marker": {
             "colorbar": {
              "outlinewidth": 0,
              "ticks": ""
             }
            },
            "type": "scattercarpet"
           }
          ],
          "scattergeo": [
           {
            "marker": {
             "colorbar": {
              "outlinewidth": 0,
              "ticks": ""
             }
            },
            "type": "scattergeo"
           }
          ],
          "scattergl": [
           {
            "marker": {
             "colorbar": {
              "outlinewidth": 0,
              "ticks": ""
             }
            },
            "type": "scattergl"
           }
          ],
          "scattermapbox": [
           {
            "marker": {
             "colorbar": {
              "outlinewidth": 0,
              "ticks": ""
             }
            },
            "type": "scattermapbox"
           }
          ],
          "scatterpolar": [
           {
            "marker": {
             "colorbar": {
              "outlinewidth": 0,
              "ticks": ""
             }
            },
            "type": "scatterpolar"
           }
          ],
          "scatterpolargl": [
           {
            "marker": {
             "colorbar": {
              "outlinewidth": 0,
              "ticks": ""
             }
            },
            "type": "scatterpolargl"
           }
          ],
          "scatterternary": [
           {
            "marker": {
             "colorbar": {
              "outlinewidth": 0,
              "ticks": ""
             }
            },
            "type": "scatterternary"
           }
          ],
          "surface": [
           {
            "colorbar": {
             "outlinewidth": 0,
             "ticks": ""
            },
            "colorscale": [
             [
              0,
              "#0d0887"
             ],
             [
              0.1111111111111111,
              "#46039f"
             ],
             [
              0.2222222222222222,
              "#7201a8"
             ],
             [
              0.3333333333333333,
              "#9c179e"
             ],
             [
              0.4444444444444444,
              "#bd3786"
             ],
             [
              0.5555555555555556,
              "#d8576b"
             ],
             [
              0.6666666666666666,
              "#ed7953"
             ],
             [
              0.7777777777777778,
              "#fb9f3a"
             ],
             [
              0.8888888888888888,
              "#fdca26"
             ],
             [
              1,
              "#f0f921"
             ]
            ],
            "type": "surface"
           }
          ],
          "table": [
           {
            "cells": {
             "fill": {
              "color": "#EBF0F8"
             },
             "line": {
              "color": "white"
             }
            },
            "header": {
             "fill": {
              "color": "#C8D4E3"
             },
             "line": {
              "color": "white"
             }
            },
            "type": "table"
           }
          ]
         },
         "layout": {
          "annotationdefaults": {
           "arrowcolor": "#2a3f5f",
           "arrowhead": 0,
           "arrowwidth": 1
          },
          "autotypenumbers": "strict",
          "coloraxis": {
           "colorbar": {
            "outlinewidth": 0,
            "ticks": ""
           }
          },
          "colorscale": {
           "diverging": [
            [
             0,
             "#8e0152"
            ],
            [
             0.1,
             "#c51b7d"
            ],
            [
             0.2,
             "#de77ae"
            ],
            [
             0.3,
             "#f1b6da"
            ],
            [
             0.4,
             "#fde0ef"
            ],
            [
             0.5,
             "#f7f7f7"
            ],
            [
             0.6,
             "#e6f5d0"
            ],
            [
             0.7,
             "#b8e186"
            ],
            [
             0.8,
             "#7fbc41"
            ],
            [
             0.9,
             "#4d9221"
            ],
            [
             1,
             "#276419"
            ]
           ],
           "sequential": [
            [
             0,
             "#0d0887"
            ],
            [
             0.1111111111111111,
             "#46039f"
            ],
            [
             0.2222222222222222,
             "#7201a8"
            ],
            [
             0.3333333333333333,
             "#9c179e"
            ],
            [
             0.4444444444444444,
             "#bd3786"
            ],
            [
             0.5555555555555556,
             "#d8576b"
            ],
            [
             0.6666666666666666,
             "#ed7953"
            ],
            [
             0.7777777777777778,
             "#fb9f3a"
            ],
            [
             0.8888888888888888,
             "#fdca26"
            ],
            [
             1,
             "#f0f921"
            ]
           ],
           "sequentialminus": [
            [
             0,
             "#0d0887"
            ],
            [
             0.1111111111111111,
             "#46039f"
            ],
            [
             0.2222222222222222,
             "#7201a8"
            ],
            [
             0.3333333333333333,
             "#9c179e"
            ],
            [
             0.4444444444444444,
             "#bd3786"
            ],
            [
             0.5555555555555556,
             "#d8576b"
            ],
            [
             0.6666666666666666,
             "#ed7953"
            ],
            [
             0.7777777777777778,
             "#fb9f3a"
            ],
            [
             0.8888888888888888,
             "#fdca26"
            ],
            [
             1,
             "#f0f921"
            ]
           ]
          },
          "colorway": [
           "#636efa",
           "#EF553B",
           "#00cc96",
           "#ab63fa",
           "#FFA15A",
           "#19d3f3",
           "#FF6692",
           "#B6E880",
           "#FF97FF",
           "#FECB52"
          ],
          "font": {
           "color": "#2a3f5f"
          },
          "geo": {
           "bgcolor": "white",
           "lakecolor": "white",
           "landcolor": "#E5ECF6",
           "showlakes": true,
           "showland": true,
           "subunitcolor": "white"
          },
          "hoverlabel": {
           "align": "left"
          },
          "hovermode": "closest",
          "mapbox": {
           "style": "light"
          },
          "paper_bgcolor": "white",
          "plot_bgcolor": "#E5ECF6",
          "polar": {
           "angularaxis": {
            "gridcolor": "white",
            "linecolor": "white",
            "ticks": ""
           },
           "bgcolor": "#E5ECF6",
           "radialaxis": {
            "gridcolor": "white",
            "linecolor": "white",
            "ticks": ""
           }
          },
          "scene": {
           "xaxis": {
            "backgroundcolor": "#E5ECF6",
            "gridcolor": "white",
            "gridwidth": 2,
            "linecolor": "white",
            "showbackground": true,
            "ticks": "",
            "zerolinecolor": "white"
           },
           "yaxis": {
            "backgroundcolor": "#E5ECF6",
            "gridcolor": "white",
            "gridwidth": 2,
            "linecolor": "white",
            "showbackground": true,
            "ticks": "",
            "zerolinecolor": "white"
           },
           "zaxis": {
            "backgroundcolor": "#E5ECF6",
            "gridcolor": "white",
            "gridwidth": 2,
            "linecolor": "white",
            "showbackground": true,
            "ticks": "",
            "zerolinecolor": "white"
           }
          },
          "shapedefaults": {
           "line": {
            "color": "#2a3f5f"
           }
          },
          "ternary": {
           "aaxis": {
            "gridcolor": "white",
            "linecolor": "white",
            "ticks": ""
           },
           "baxis": {
            "gridcolor": "white",
            "linecolor": "white",
            "ticks": ""
           },
           "bgcolor": "#E5ECF6",
           "caxis": {
            "gridcolor": "white",
            "linecolor": "white",
            "ticks": ""
           }
          },
          "title": {
           "x": 0.05
          },
          "xaxis": {
           "automargin": true,
           "gridcolor": "white",
           "linecolor": "white",
           "ticks": "",
           "title": {
            "standoff": 15
           },
           "zerolinecolor": "white",
           "zerolinewidth": 2
          },
          "yaxis": {
           "automargin": true,
           "gridcolor": "white",
           "linecolor": "white",
           "ticks": "",
           "title": {
            "standoff": 15
           },
           "zerolinecolor": "white",
           "zerolinewidth": 2
          }
         }
        },
        "xaxis": {
         "rangebreaks": [
          {
           "bounds": [
            "sat",
            "mon"
           ]
          },
          {
           "bounds": [
            16,
            9
           ],
           "pattern": "hour"
          }
         ],
         "rangeslider": {
          "visible": true
         },
         "showticklabels": true
        },
        "yaxis": {
         "showticklabels": true
        }
       }
      },
      "text/html": [
       "<div>                            <div id=\"e5091e07-bc32-426c-bb7a-ef1d47e2605d\" class=\"plotly-graph-div\" style=\"height:525px; width:100%;\"></div>            <script type=\"text/javascript\">                require([\"plotly\"], function(Plotly) {                    window.PLOTLYENV=window.PLOTLYENV || {};                                    if (document.getElementById(\"e5091e07-bc32-426c-bb7a-ef1d47e2605d\")) {                    Plotly.newPlot(                        \"e5091e07-bc32-426c-bb7a-ef1d47e2605d\",                        [{\"mode\":\"lines\",\"name\":\"Close\",\"x\":[\"2022-01-04T09:15:00\",\"2022-01-04T09:16:00\",\"2022-01-04T09:17:00\",\"2022-01-04T09:18:00\",\"2022-01-04T09:19:00\",\"2022-01-04T09:20:00\",\"2022-01-04T09:21:00\",\"2022-01-04T09:22:00\",\"2022-01-04T09:23:00\",\"2022-01-04T09:24:00\",\"2022-01-04T09:25:00\",\"2022-01-04T09:26:00\",\"2022-01-04T09:27:00\",\"2022-01-04T09:28:00\",\"2022-01-04T09:29:00\",\"2022-01-04T09:30:00\",\"2022-01-04T09:31:00\",\"2022-01-04T09:32:00\",\"2022-01-04T09:33:00\",\"2022-01-04T09:34:00\",\"2022-01-04T09:35:00\",\"2022-01-04T09:36:00\",\"2022-01-04T09:37:00\",\"2022-01-04T09:38:00\",\"2022-01-04T09:39:00\",\"2022-01-04T09:40:00\",\"2022-01-04T09:41:00\",\"2022-01-04T09:42:00\",\"2022-01-04T09:43:00\",\"2022-01-04T09:44:00\",\"2022-01-04T09:45:00\",\"2022-01-04T09:46:00\",\"2022-01-04T09:47:00\",\"2022-01-04T09:48:00\",\"2022-01-04T09:49:00\",\"2022-01-04T09:50:00\",\"2022-01-04T09:51:00\",\"2022-01-04T09:52:00\",\"2022-01-04T09:53:00\",\"2022-01-04T09:54:00\",\"2022-01-04T09:55:00\",\"2022-01-04T09:56:00\",\"2022-01-04T09:57:00\",\"2022-01-04T09:58:00\",\"2022-01-04T09:59:00\",\"2022-01-04T10:00:00\",\"2022-01-04T10:01:00\",\"2022-01-04T10:02:00\",\"2022-01-04T10:03:00\",\"2022-01-04T10:04:00\",\"2022-01-04T10:05:00\",\"2022-01-04T10:06:00\",\"2022-01-04T10:07:00\",\"2022-01-04T10:08:00\",\"2022-01-04T10:09:00\",\"2022-01-04T10:10:00\",\"2022-01-04T10:11:00\",\"2022-01-04T10:12:00\",\"2022-01-04T10:13:00\",\"2022-01-04T10:14:00\",\"2022-01-04T10:15:00\",\"2022-01-04T10:16:00\",\"2022-01-04T10:17:00\",\"2022-01-04T10:18:00\",\"2022-01-04T10:19:00\",\"2022-01-04T10:20:00\",\"2022-01-04T10:21:00\",\"2022-01-04T10:22:00\",\"2022-01-04T10:23:00\",\"2022-01-04T10:24:00\",\"2022-01-04T10:25:00\",\"2022-01-04T10:26:00\",\"2022-01-04T10:27:00\",\"2022-01-04T10:28:00\",\"2022-01-04T10:29:00\",\"2022-01-04T10:30:00\",\"2022-01-04T10:31:00\",\"2022-01-04T10:32:00\",\"2022-01-04T10:33:00\",\"2022-01-04T10:34:00\",\"2022-01-04T10:35:00\",\"2022-01-04T10:36:00\",\"2022-01-04T10:37:00\",\"2022-01-04T10:38:00\",\"2022-01-04T10:39:00\",\"2022-01-04T10:40:00\",\"2022-01-04T10:41:00\",\"2022-01-04T10:42:00\",\"2022-01-04T10:43:00\",\"2022-01-04T10:44:00\",\"2022-01-04T10:45:00\",\"2022-01-04T10:46:00\",\"2022-01-04T10:47:00\",\"2022-01-04T10:48:00\",\"2022-01-04T10:49:00\",\"2022-01-04T10:50:00\",\"2022-01-04T10:51:00\",\"2022-01-04T10:52:00\",\"2022-01-04T10:53:00\",\"2022-01-04T10:54:00\",\"2022-01-04T10:55:00\",\"2022-01-04T10:56:00\",\"2022-01-04T10:57:00\",\"2022-01-04T10:58:00\",\"2022-01-04T10:59:00\",\"2022-01-04T11:00:00\",\"2022-01-04T11:01:00\",\"2022-01-04T11:02:00\",\"2022-01-04T11:03:00\",\"2022-01-04T11:04:00\",\"2022-01-04T11:05:00\",\"2022-01-04T11:06:00\",\"2022-01-04T11:07:00\",\"2022-01-04T11:08:00\",\"2022-01-04T11:09:00\",\"2022-01-04T11:10:00\",\"2022-01-04T11:11:00\",\"2022-01-04T11:12:00\",\"2022-01-04T11:13:00\",\"2022-01-04T11:14:00\",\"2022-01-04T11:15:00\",\"2022-01-04T11:16:00\",\"2022-01-04T11:17:00\",\"2022-01-04T11:18:00\",\"2022-01-04T11:19:00\",\"2022-01-04T11:20:00\",\"2022-01-04T11:21:00\",\"2022-01-04T11:22:00\",\"2022-01-04T11:23:00\",\"2022-01-04T11:24:00\",\"2022-01-04T11:25:00\",\"2022-01-04T11:26:00\",\"2022-01-04T11:27:00\",\"2022-01-04T11:28:00\",\"2022-01-04T11:29:00\",\"2022-01-04T11:30:00\",\"2022-01-04T11:31:00\",\"2022-01-04T11:32:00\",\"2022-01-04T11:33:00\",\"2022-01-04T11:34:00\",\"2022-01-04T11:35:00\",\"2022-01-04T11:36:00\",\"2022-01-04T11:37:00\",\"2022-01-04T11:38:00\",\"2022-01-04T11:39:00\",\"2022-01-04T11:40:00\",\"2022-01-04T11:41:00\",\"2022-01-04T11:42:00\",\"2022-01-04T11:43:00\",\"2022-01-04T11:44:00\",\"2022-01-04T11:45:00\",\"2022-01-04T11:46:00\",\"2022-01-04T11:47:00\",\"2022-01-04T11:48:00\",\"2022-01-04T11:49:00\",\"2022-01-04T11:50:00\",\"2022-01-04T11:51:00\",\"2022-01-04T11:52:00\",\"2022-01-04T11:53:00\",\"2022-01-04T11:54:00\",\"2022-01-04T11:55:00\",\"2022-01-04T11:56:00\",\"2022-01-04T11:57:00\",\"2022-01-04T11:58:00\",\"2022-01-04T11:59:00\",\"2022-01-04T12:00:00\",\"2022-01-04T12:01:00\",\"2022-01-04T12:02:00\",\"2022-01-04T12:03:00\",\"2022-01-04T12:04:00\",\"2022-01-04T12:05:00\",\"2022-01-04T12:06:00\",\"2022-01-04T12:07:00\",\"2022-01-04T12:08:00\",\"2022-01-04T12:09:00\",\"2022-01-04T12:10:00\",\"2022-01-04T12:11:00\",\"2022-01-04T12:12:00\",\"2022-01-04T12:13:00\",\"2022-01-04T12:14:00\",\"2022-01-04T12:15:00\",\"2022-01-04T12:16:00\",\"2022-01-04T12:17:00\",\"2022-01-04T12:18:00\",\"2022-01-04T12:19:00\",\"2022-01-04T12:20:00\",\"2022-01-04T12:21:00\",\"2022-01-04T12:22:00\",\"2022-01-04T12:23:00\",\"2022-01-04T12:24:00\",\"2022-01-04T12:25:00\",\"2022-01-04T12:26:00\",\"2022-01-04T12:27:00\",\"2022-01-04T12:28:00\",\"2022-01-04T12:29:00\",\"2022-01-04T12:30:00\",\"2022-01-04T12:31:00\",\"2022-01-04T12:32:00\",\"2022-01-04T12:33:00\",\"2022-01-04T12:34:00\",\"2022-01-04T12:35:00\",\"2022-01-04T12:36:00\",\"2022-01-04T12:37:00\",\"2022-01-04T12:38:00\",\"2022-01-04T12:39:00\",\"2022-01-04T12:40:00\",\"2022-01-04T12:41:00\",\"2022-01-04T12:42:00\",\"2022-01-04T12:43:00\",\"2022-01-04T12:44:00\",\"2022-01-04T12:45:00\",\"2022-01-04T12:46:00\",\"2022-01-04T12:47:00\",\"2022-01-04T12:48:00\",\"2022-01-04T12:49:00\",\"2022-01-04T12:50:00\",\"2022-01-04T12:51:00\",\"2022-01-04T12:52:00\",\"2022-01-04T12:53:00\",\"2022-01-04T12:54:00\",\"2022-01-04T12:55:00\",\"2022-01-04T12:56:00\",\"2022-01-04T12:57:00\",\"2022-01-04T12:58:00\",\"2022-01-04T12:59:00\",\"2022-01-04T13:00:00\",\"2022-01-04T13:01:00\",\"2022-01-04T13:02:00\",\"2022-01-04T13:03:00\",\"2022-01-04T13:04:00\",\"2022-01-04T13:05:00\",\"2022-01-04T13:06:00\",\"2022-01-04T13:07:00\",\"2022-01-04T13:08:00\",\"2022-01-04T13:09:00\",\"2022-01-04T13:10:00\",\"2022-01-04T13:11:00\",\"2022-01-04T13:12:00\",\"2022-01-04T13:13:00\",\"2022-01-04T13:14:00\",\"2022-01-04T13:15:00\",\"2022-01-04T13:16:00\",\"2022-01-04T13:17:00\",\"2022-01-04T13:18:00\",\"2022-01-04T13:19:00\",\"2022-01-04T13:20:00\",\"2022-01-04T13:21:00\",\"2022-01-04T13:22:00\",\"2022-01-04T13:23:00\",\"2022-01-04T13:24:00\",\"2022-01-04T13:25:00\",\"2022-01-04T13:26:00\",\"2022-01-04T13:27:00\",\"2022-01-04T13:28:00\",\"2022-01-04T13:29:00\",\"2022-01-04T13:30:00\",\"2022-01-04T13:31:00\",\"2022-01-04T13:32:00\",\"2022-01-04T13:33:00\",\"2022-01-04T13:34:00\",\"2022-01-04T13:35:00\",\"2022-01-04T13:36:00\",\"2022-01-04T13:37:00\",\"2022-01-04T13:38:00\",\"2022-01-04T13:39:00\",\"2022-01-04T13:40:00\",\"2022-01-04T13:41:00\",\"2022-01-04T13:42:00\",\"2022-01-04T13:43:00\",\"2022-01-04T13:44:00\",\"2022-01-04T13:45:00\",\"2022-01-04T13:46:00\",\"2022-01-04T13:47:00\",\"2022-01-04T13:48:00\",\"2022-01-04T13:49:00\",\"2022-01-04T13:50:00\",\"2022-01-04T13:51:00\",\"2022-01-04T13:52:00\",\"2022-01-04T13:53:00\",\"2022-01-04T13:54:00\",\"2022-01-04T13:55:00\",\"2022-01-04T13:56:00\",\"2022-01-04T13:57:00\",\"2022-01-04T13:58:00\",\"2022-01-04T13:59:00\",\"2022-01-04T14:00:00\",\"2022-01-04T14:01:00\",\"2022-01-04T14:02:00\",\"2022-01-04T14:03:00\",\"2022-01-04T14:04:00\",\"2022-01-04T14:05:00\",\"2022-01-04T14:06:00\",\"2022-01-04T14:07:00\",\"2022-01-04T14:08:00\",\"2022-01-04T14:09:00\",\"2022-01-04T14:10:00\",\"2022-01-04T14:11:00\",\"2022-01-04T14:12:00\",\"2022-01-04T14:13:00\",\"2022-01-04T14:14:00\",\"2022-01-04T14:15:00\",\"2022-01-04T14:16:00\",\"2022-01-04T14:17:00\",\"2022-01-04T14:18:00\",\"2022-01-04T14:19:00\",\"2022-01-04T14:20:00\",\"2022-01-04T14:21:00\",\"2022-01-04T14:22:00\",\"2022-01-04T14:23:00\",\"2022-01-04T14:24:00\",\"2022-01-04T14:25:00\",\"2022-01-04T14:26:00\",\"2022-01-04T14:27:00\",\"2022-01-04T14:28:00\",\"2022-01-04T14:29:00\",\"2022-01-04T14:30:00\",\"2022-01-04T14:31:00\",\"2022-01-04T14:32:00\",\"2022-01-04T14:33:00\",\"2022-01-04T14:34:00\",\"2022-01-04T14:35:00\",\"2022-01-04T14:36:00\",\"2022-01-04T14:37:00\",\"2022-01-04T14:38:00\",\"2022-01-04T14:39:00\",\"2022-01-04T14:40:00\",\"2022-01-04T14:41:00\",\"2022-01-04T14:42:00\",\"2022-01-04T14:43:00\",\"2022-01-04T14:44:00\",\"2022-01-04T14:45:00\",\"2022-01-04T14:46:00\",\"2022-01-04T14:47:00\",\"2022-01-04T14:48:00\",\"2022-01-04T14:49:00\",\"2022-01-04T14:50:00\",\"2022-01-04T14:51:00\",\"2022-01-04T14:52:00\",\"2022-01-04T14:53:00\",\"2022-01-04T14:54:00\",\"2022-01-04T14:55:00\",\"2022-01-04T14:56:00\",\"2022-01-04T14:57:00\",\"2022-01-04T14:58:00\",\"2022-01-04T14:59:00\",\"2022-01-04T15:00:00\",\"2022-01-04T15:01:00\",\"2022-01-04T15:02:00\",\"2022-01-04T15:03:00\",\"2022-01-04T15:04:00\",\"2022-01-04T15:05:00\",\"2022-01-04T15:06:00\",\"2022-01-04T15:07:00\",\"2022-01-04T15:08:00\",\"2022-01-04T15:09:00\",\"2022-01-04T15:10:00\",\"2022-01-04T15:11:00\",\"2022-01-04T15:12:00\",\"2022-01-04T15:13:00\",\"2022-01-04T15:14:00\",\"2022-01-04T15:15:00\",\"2022-01-04T15:16:00\",\"2022-01-04T15:17:00\",\"2022-01-04T15:18:00\",\"2022-01-04T15:19:00\",\"2022-01-04T15:20:00\",\"2022-01-04T15:21:00\",\"2022-01-04T15:22:00\",\"2022-01-04T15:23:00\",\"2022-01-04T15:24:00\",\"2022-01-04T15:25:00\",\"2022-01-04T15:26:00\",\"2022-01-04T15:27:00\",\"2022-01-04T15:28:00\",\"2022-01-04T15:29:00\",\"2022-01-04T15:30:00\"],\"y\":[165.7,197.7,212.7,193.15,179.85,157.55,193.95,203.35,224.65,218.6,211.4,222.6,222.9,223.0,212.75,209.35,200.45,202.5,209.5,199.8,195.2,181.9,165.9,144.05,146.55,130.2,125.45,152.15,168.4,172.8,189.6,185.95,190.1,198.9,209.9,210.7,216.1,220.0,206.8,218.6,228.2,223.05,237.05,245.7,267.4,258.0,258.85,257.2,242.75,253.2,247.6,253.4,269.45,272.7,274.8,278.85,294.1,287.95,277.9,295.65,294.55,293.75,291.55,295.5,295.1,277.4,262.2,297.85,281.85,283.6,272.0,261.8,277.0,276.0,285.0,291.0,287.15,284.35,291.4,303.25,304.75,290.9,291.05,291.0,290.25,289.05,291.3,286.35,278.8,264.55,267.3,251.4,253.25,255.0,249.6,243.6,260.8,273.55,270.35,268.0,262.2,257.5,262.5,267.0,266.45,265.3,276.1,269.35,261.85,261.55,255.85,252.75,263.15,256.55,257.6,257.7,249.0,239.35,242.8,228.5,223.65,231.5,241.15,237.95,233.8,231.05,219.45,224.5,215.35,196.2,211.35,217.3,206.65,210.9,217.8,214.9,217.05,224.1,226.35,225.8,214.85,220.05,220.85,222.9,234.0,244.65,242.1,239.95,245.9,244.95,244.0,240.65,238.9,245.2,241.2,239.45,245.35,251.0,247.65,253.25,252.85,252.6,246.85,244.8,242.3,237.05,234.8,240.1,255.05,256.75,257.95,257.45,258.4,255.55,259.9,259.85,255.85,251.45,254.55,263.05,247.85,239.45,234.25,242.7,239.35,234.45,228.6,225.75,230.65,223.6,223.85,225.15,226.45,225.75,221.0,211.75,223.1,223.1,233.55,233.1,228.0,221.9,216.0,221.0,225.0,217.05,216.15,222.6,222.4,222.8,214.1,212.3,213.65,220.8,218.95,213.1,212.55,206.0,211.15,211.0,209.2,212.05,215.0,211.2,215.35,216.65,199.85,218.65,218.25,223.15,222.95,223.55,219.1,214.2,214.4,209.15,209.2,209.5,204.5,202.2,194.7,187.0,180.0,183.4,176.85,173.15,172.65,186.4,192.25,189.9,187.7,188.0,189.15,187.4,188.5,192.9,188.7,182.9,180.0,182.6,177.8,174.3,172.5,174.25,164.15,172.15,168.3,156.25,145.35,141.75,145.4,150.4,145.85,146.0,147.1,153.6,161.2,162.45,158.95,162.2,170.45,165.85,170.65,172.25,173.5,170.5,174.5,184.35,194.4,218.55,207.2,199.75,201.1,215.8,208.8,205.4,200.35,195.55,200.9,209.1,221.55,215.0,216.55,218.0,219.0,214.0,216.85,218.0,214.05,221.2,214.75,206.95,198.8,213.65,210.45,214.8,213.5,206.65,204.25,211.8,209.4,218.0,223.95,234.45,253.35,252.45,250.4,259.2,254.65,256.95,257.0,255.0,244.05,251.45,243.6,249.3,255.75,247.4,251.4,256.75,255.5,255.05,255.85,255.6,252.65,230.6,241.15,239.1,240.7,242.9,247.15,244.9,241.25,239.25,242.35,247.65,243.85,244.05,245.0,244.65,243.15,251.3,254.35,258.45,256.4,265.0,277.4,273.7,268.85,269.25,267.05,263.8,265.15,261.45,254.95,250.0],\"type\":\"scatter\"}],                        {\"template\":{\"data\":{\"histogram2dcontour\":[{\"type\":\"histogram2dcontour\",\"colorbar\":{\"outlinewidth\":0,\"ticks\":\"\"},\"colorscale\":[[0.0,\"#0d0887\"],[0.1111111111111111,\"#46039f\"],[0.2222222222222222,\"#7201a8\"],[0.3333333333333333,\"#9c179e\"],[0.4444444444444444,\"#bd3786\"],[0.5555555555555556,\"#d8576b\"],[0.6666666666666666,\"#ed7953\"],[0.7777777777777778,\"#fb9f3a\"],[0.8888888888888888,\"#fdca26\"],[1.0,\"#f0f921\"]]}],\"choropleth\":[{\"type\":\"choropleth\",\"colorbar\":{\"outlinewidth\":0,\"ticks\":\"\"}}],\"histogram2d\":[{\"type\":\"histogram2d\",\"colorbar\":{\"outlinewidth\":0,\"ticks\":\"\"},\"colorscale\":[[0.0,\"#0d0887\"],[0.1111111111111111,\"#46039f\"],[0.2222222222222222,\"#7201a8\"],[0.3333333333333333,\"#9c179e\"],[0.4444444444444444,\"#bd3786\"],[0.5555555555555556,\"#d8576b\"],[0.6666666666666666,\"#ed7953\"],[0.7777777777777778,\"#fb9f3a\"],[0.8888888888888888,\"#fdca26\"],[1.0,\"#f0f921\"]]}],\"heatmap\":[{\"type\":\"heatmap\",\"colorbar\":{\"outlinewidth\":0,\"ticks\":\"\"},\"colorscale\":[[0.0,\"#0d0887\"],[0.1111111111111111,\"#46039f\"],[0.2222222222222222,\"#7201a8\"],[0.3333333333333333,\"#9c179e\"],[0.4444444444444444,\"#bd3786\"],[0.5555555555555556,\"#d8576b\"],[0.6666666666666666,\"#ed7953\"],[0.7777777777777778,\"#fb9f3a\"],[0.8888888888888888,\"#fdca26\"],[1.0,\"#f0f921\"]]}],\"heatmapgl\":[{\"type\":\"heatmapgl\",\"colorbar\":{\"outlinewidth\":0,\"ticks\":\"\"},\"colorscale\":[[0.0,\"#0d0887\"],[0.1111111111111111,\"#46039f\"],[0.2222222222222222,\"#7201a8\"],[0.3333333333333333,\"#9c179e\"],[0.4444444444444444,\"#bd3786\"],[0.5555555555555556,\"#d8576b\"],[0.6666666666666666,\"#ed7953\"],[0.7777777777777778,\"#fb9f3a\"],[0.8888888888888888,\"#fdca26\"],[1.0,\"#f0f921\"]]}],\"contourcarpet\":[{\"type\":\"contourcarpet\",\"colorbar\":{\"outlinewidth\":0,\"ticks\":\"\"}}],\"contour\":[{\"type\":\"contour\",\"colorbar\":{\"outlinewidth\":0,\"ticks\":\"\"},\"colorscale\":[[0.0,\"#0d0887\"],[0.1111111111111111,\"#46039f\"],[0.2222222222222222,\"#7201a8\"],[0.3333333333333333,\"#9c179e\"],[0.4444444444444444,\"#bd3786\"],[0.5555555555555556,\"#d8576b\"],[0.6666666666666666,\"#ed7953\"],[0.7777777777777778,\"#fb9f3a\"],[0.8888888888888888,\"#fdca26\"],[1.0,\"#f0f921\"]]}],\"surface\":[{\"type\":\"surface\",\"colorbar\":{\"outlinewidth\":0,\"ticks\":\"\"},\"colorscale\":[[0.0,\"#0d0887\"],[0.1111111111111111,\"#46039f\"],[0.2222222222222222,\"#7201a8\"],[0.3333333333333333,\"#9c179e\"],[0.4444444444444444,\"#bd3786\"],[0.5555555555555556,\"#d8576b\"],[0.6666666666666666,\"#ed7953\"],[0.7777777777777778,\"#fb9f3a\"],[0.8888888888888888,\"#fdca26\"],[1.0,\"#f0f921\"]]}],\"mesh3d\":[{\"type\":\"mesh3d\",\"colorbar\":{\"outlinewidth\":0,\"ticks\":\"\"}}],\"scatter\":[{\"fillpattern\":{\"fillmode\":\"overlay\",\"size\":10,\"solidity\":0.2},\"type\":\"scatter\"}],\"parcoords\":[{\"type\":\"parcoords\",\"line\":{\"colorbar\":{\"outlinewidth\":0,\"ticks\":\"\"}}}],\"scatterpolargl\":[{\"type\":\"scatterpolargl\",\"marker\":{\"colorbar\":{\"outlinewidth\":0,\"ticks\":\"\"}}}],\"bar\":[{\"error_x\":{\"color\":\"#2a3f5f\"},\"error_y\":{\"color\":\"#2a3f5f\"},\"marker\":{\"line\":{\"color\":\"#E5ECF6\",\"width\":0.5},\"pattern\":{\"fillmode\":\"overlay\",\"size\":10,\"solidity\":0.2}},\"type\":\"bar\"}],\"scattergeo\":[{\"type\":\"scattergeo\",\"marker\":{\"colorbar\":{\"outlinewidth\":0,\"ticks\":\"\"}}}],\"scatterpolar\":[{\"type\":\"scatterpolar\",\"marker\":{\"colorbar\":{\"outlinewidth\":0,\"ticks\":\"\"}}}],\"histogram\":[{\"marker\":{\"pattern\":{\"fillmode\":\"overlay\",\"size\":10,\"solidity\":0.2}},\"type\":\"histogram\"}],\"scattergl\":[{\"type\":\"scattergl\",\"marker\":{\"colorbar\":{\"outlinewidth\":0,\"ticks\":\"\"}}}],\"scatter3d\":[{\"type\":\"scatter3d\",\"line\":{\"colorbar\":{\"outlinewidth\":0,\"ticks\":\"\"}},\"marker\":{\"colorbar\":{\"outlinewidth\":0,\"ticks\":\"\"}}}],\"scattermapbox\":[{\"type\":\"scattermapbox\",\"marker\":{\"colorbar\":{\"outlinewidth\":0,\"ticks\":\"\"}}}],\"scatterternary\":[{\"type\":\"scatterternary\",\"marker\":{\"colorbar\":{\"outlinewidth\":0,\"ticks\":\"\"}}}],\"scattercarpet\":[{\"type\":\"scattercarpet\",\"marker\":{\"colorbar\":{\"outlinewidth\":0,\"ticks\":\"\"}}}],\"carpet\":[{\"aaxis\":{\"endlinecolor\":\"#2a3f5f\",\"gridcolor\":\"white\",\"linecolor\":\"white\",\"minorgridcolor\":\"white\",\"startlinecolor\":\"#2a3f5f\"},\"baxis\":{\"endlinecolor\":\"#2a3f5f\",\"gridcolor\":\"white\",\"linecolor\":\"white\",\"minorgridcolor\":\"white\",\"startlinecolor\":\"#2a3f5f\"},\"type\":\"carpet\"}],\"table\":[{\"cells\":{\"fill\":{\"color\":\"#EBF0F8\"},\"line\":{\"color\":\"white\"}},\"header\":{\"fill\":{\"color\":\"#C8D4E3\"},\"line\":{\"color\":\"white\"}},\"type\":\"table\"}],\"barpolar\":[{\"marker\":{\"line\":{\"color\":\"#E5ECF6\",\"width\":0.5},\"pattern\":{\"fillmode\":\"overlay\",\"size\":10,\"solidity\":0.2}},\"type\":\"barpolar\"}],\"pie\":[{\"automargin\":true,\"type\":\"pie\"}]},\"layout\":{\"autotypenumbers\":\"strict\",\"colorway\":[\"#636efa\",\"#EF553B\",\"#00cc96\",\"#ab63fa\",\"#FFA15A\",\"#19d3f3\",\"#FF6692\",\"#B6E880\",\"#FF97FF\",\"#FECB52\"],\"font\":{\"color\":\"#2a3f5f\"},\"hovermode\":\"closest\",\"hoverlabel\":{\"align\":\"left\"},\"paper_bgcolor\":\"white\",\"plot_bgcolor\":\"#E5ECF6\",\"polar\":{\"bgcolor\":\"#E5ECF6\",\"angularaxis\":{\"gridcolor\":\"white\",\"linecolor\":\"white\",\"ticks\":\"\"},\"radialaxis\":{\"gridcolor\":\"white\",\"linecolor\":\"white\",\"ticks\":\"\"}},\"ternary\":{\"bgcolor\":\"#E5ECF6\",\"aaxis\":{\"gridcolor\":\"white\",\"linecolor\":\"white\",\"ticks\":\"\"},\"baxis\":{\"gridcolor\":\"white\",\"linecolor\":\"white\",\"ticks\":\"\"},\"caxis\":{\"gridcolor\":\"white\",\"linecolor\":\"white\",\"ticks\":\"\"}},\"coloraxis\":{\"colorbar\":{\"outlinewidth\":0,\"ticks\":\"\"}},\"colorscale\":{\"sequential\":[[0.0,\"#0d0887\"],[0.1111111111111111,\"#46039f\"],[0.2222222222222222,\"#7201a8\"],[0.3333333333333333,\"#9c179e\"],[0.4444444444444444,\"#bd3786\"],[0.5555555555555556,\"#d8576b\"],[0.6666666666666666,\"#ed7953\"],[0.7777777777777778,\"#fb9f3a\"],[0.8888888888888888,\"#fdca26\"],[1.0,\"#f0f921\"]],\"sequentialminus\":[[0.0,\"#0d0887\"],[0.1111111111111111,\"#46039f\"],[0.2222222222222222,\"#7201a8\"],[0.3333333333333333,\"#9c179e\"],[0.4444444444444444,\"#bd3786\"],[0.5555555555555556,\"#d8576b\"],[0.6666666666666666,\"#ed7953\"],[0.7777777777777778,\"#fb9f3a\"],[0.8888888888888888,\"#fdca26\"],[1.0,\"#f0f921\"]],\"diverging\":[[0,\"#8e0152\"],[0.1,\"#c51b7d\"],[0.2,\"#de77ae\"],[0.3,\"#f1b6da\"],[0.4,\"#fde0ef\"],[0.5,\"#f7f7f7\"],[0.6,\"#e6f5d0\"],[0.7,\"#b8e186\"],[0.8,\"#7fbc41\"],[0.9,\"#4d9221\"],[1,\"#276419\"]]},\"xaxis\":{\"gridcolor\":\"white\",\"linecolor\":\"white\",\"ticks\":\"\",\"title\":{\"standoff\":15},\"zerolinecolor\":\"white\",\"automargin\":true,\"zerolinewidth\":2},\"yaxis\":{\"gridcolor\":\"white\",\"linecolor\":\"white\",\"ticks\":\"\",\"title\":{\"standoff\":15},\"zerolinecolor\":\"white\",\"automargin\":true,\"zerolinewidth\":2},\"scene\":{\"xaxis\":{\"backgroundcolor\":\"#E5ECF6\",\"gridcolor\":\"white\",\"linecolor\":\"white\",\"showbackground\":true,\"ticks\":\"\",\"zerolinecolor\":\"white\",\"gridwidth\":2},\"yaxis\":{\"backgroundcolor\":\"#E5ECF6\",\"gridcolor\":\"white\",\"linecolor\":\"white\",\"showbackground\":true,\"ticks\":\"\",\"zerolinecolor\":\"white\",\"gridwidth\":2},\"zaxis\":{\"backgroundcolor\":\"#E5ECF6\",\"gridcolor\":\"white\",\"linecolor\":\"white\",\"showbackground\":true,\"ticks\":\"\",\"zerolinecolor\":\"white\",\"gridwidth\":2}},\"shapedefaults\":{\"line\":{\"color\":\"#2a3f5f\"}},\"annotationdefaults\":{\"arrowcolor\":\"#2a3f5f\",\"arrowhead\":0,\"arrowwidth\":1},\"geo\":{\"bgcolor\":\"white\",\"landcolor\":\"#E5ECF6\",\"subunitcolor\":\"white\",\"showland\":true,\"showlakes\":true,\"lakecolor\":\"white\"},\"title\":{\"x\":0.05},\"mapbox\":{\"style\":\"light\"}}},\"xaxis\":{\"rangeslider\":{\"visible\":true},\"showticklabels\":true,\"rangebreaks\":[{\"bounds\":[\"sat\",\"mon\"]},{\"bounds\":[16,9],\"pattern\":\"hour\"}]},\"yaxis\":{\"showticklabels\":true}},                        {\"responsive\": true}                    ).then(function(){\n",
       "                            \n",
       "var gd = document.getElementById('e5091e07-bc32-426c-bb7a-ef1d47e2605d');\n",
       "var x = new MutationObserver(function (mutations, observer) {{\n",
       "        var display = window.getComputedStyle(gd).display;\n",
       "        if (!display || display === 'none') {{\n",
       "            console.log([gd, 'removed!']);\n",
       "            Plotly.purge(gd);\n",
       "            observer.disconnect();\n",
       "        }}\n",
       "}});\n",
       "\n",
       "// Listen for the removal of the full notebook cells\n",
       "var notebookContainer = gd.closest('#notebook-container');\n",
       "if (notebookContainer) {{\n",
       "    x.observe(notebookContainer, {childList: true});\n",
       "}}\n",
       "\n",
       "// Listen for the clearing of the current output cell\n",
       "var outputEl = gd.closest('.output');\n",
       "if (outputEl) {{\n",
       "    x.observe(outputEl, {childList: true});\n",
       "}}\n",
       "\n",
       "                        })                };                });            </script>        </div>"
      ]
     },
     "metadata": {},
     "output_type": "display_data"
    }
   ],
   "source": [
    "vis.plotOptionData(option_data)"
   ]
  },
  {
   "cell_type": "code",
   "execution_count": 23,
   "metadata": {},
   "outputs": [
    {
     "data": {
      "text/html": [
       "<div>\n",
       "<style scoped>\n",
       "    .dataframe tbody tr th:only-of-type {\n",
       "        vertical-align: middle;\n",
       "    }\n",
       "\n",
       "    .dataframe tbody tr th {\n",
       "        vertical-align: top;\n",
       "    }\n",
       "\n",
       "    .dataframe thead th {\n",
       "        text-align: right;\n",
       "    }\n",
       "</style>\n",
       "<table border=\"1\" class=\"dataframe\">\n",
       "  <thead>\n",
       "    <tr style=\"text-align: right;\">\n",
       "      <th></th>\n",
       "      <th>datetime</th>\n",
       "      <th>close</th>\n",
       "      <th>date</th>\n",
       "      <th>high</th>\n",
       "      <th>low</th>\n",
       "      <th>oi</th>\n",
       "      <th>open</th>\n",
       "      <th>symbol</th>\n",
       "      <th>time</th>\n",
       "      <th>volume</th>\n",
       "    </tr>\n",
       "    <tr>\n",
       "      <th>datetime</th>\n",
       "      <th></th>\n",
       "      <th></th>\n",
       "      <th></th>\n",
       "      <th></th>\n",
       "      <th></th>\n",
       "      <th></th>\n",
       "      <th></th>\n",
       "      <th></th>\n",
       "      <th></th>\n",
       "      <th></th>\n",
       "    </tr>\n",
       "  </thead>\n",
       "  <tbody>\n",
       "    <tr>\n",
       "      <th>2022-01-03 09:15:00</th>\n",
       "      <td>2022-01-03 09:15:00</td>\n",
       "      <td>204.65</td>\n",
       "      <td>2022-01-03</td>\n",
       "      <td>218.75</td>\n",
       "      <td>151.00</td>\n",
       "      <td>1240700.0</td>\n",
       "      <td>180.00</td>\n",
       "      <td>BANKNIFTY06JAN2236000CE</td>\n",
       "      <td>09:15:00</td>\n",
       "      <td>350653</td>\n",
       "    </tr>\n",
       "    <tr>\n",
       "      <th>2022-01-03 09:16:00</th>\n",
       "      <td>2022-01-03 09:16:00</td>\n",
       "      <td>198.50</td>\n",
       "      <td>2022-01-03</td>\n",
       "      <td>206.85</td>\n",
       "      <td>197.60</td>\n",
       "      <td>1240700.0</td>\n",
       "      <td>203.20</td>\n",
       "      <td>BANKNIFTY06JAN2236000CE</td>\n",
       "      <td>09:16:00</td>\n",
       "      <td>220250</td>\n",
       "    </tr>\n",
       "    <tr>\n",
       "      <th>2022-01-03 09:17:00</th>\n",
       "      <td>2022-01-03 09:17:00</td>\n",
       "      <td>194.40</td>\n",
       "      <td>2022-01-03</td>\n",
       "      <td>200.10</td>\n",
       "      <td>187.10</td>\n",
       "      <td>1326650.0</td>\n",
       "      <td>197.25</td>\n",
       "      <td>BANKNIFTY06JAN2236000CE</td>\n",
       "      <td>09:17:00</td>\n",
       "      <td>277150</td>\n",
       "    </tr>\n",
       "    <tr>\n",
       "      <th>2022-01-03 09:18:00</th>\n",
       "      <td>2022-01-03 09:18:00</td>\n",
       "      <td>205.55</td>\n",
       "      <td>2022-01-03</td>\n",
       "      <td>207.80</td>\n",
       "      <td>194.75</td>\n",
       "      <td>1326650.0</td>\n",
       "      <td>195.70</td>\n",
       "      <td>BANKNIFTY06JAN2236000CE</td>\n",
       "      <td>09:18:00</td>\n",
       "      <td>245375</td>\n",
       "    </tr>\n",
       "    <tr>\n",
       "      <th>2022-01-03 09:19:00</th>\n",
       "      <td>2022-01-03 09:19:00</td>\n",
       "      <td>203.95</td>\n",
       "      <td>2022-01-03</td>\n",
       "      <td>207.70</td>\n",
       "      <td>200.00</td>\n",
       "      <td>1326650.0</td>\n",
       "      <td>204.20</td>\n",
       "      <td>BANKNIFTY06JAN2236000CE</td>\n",
       "      <td>09:19:00</td>\n",
       "      <td>199100</td>\n",
       "    </tr>\n",
       "  </tbody>\n",
       "</table>\n",
       "</div>"
      ],
      "text/plain": [
       "                               datetime   close        date    high     low  \\\n",
       "datetime                                                                      \n",
       "2022-01-03 09:15:00 2022-01-03 09:15:00  204.65  2022-01-03  218.75  151.00   \n",
       "2022-01-03 09:16:00 2022-01-03 09:16:00  198.50  2022-01-03  206.85  197.60   \n",
       "2022-01-03 09:17:00 2022-01-03 09:17:00  194.40  2022-01-03  200.10  187.10   \n",
       "2022-01-03 09:18:00 2022-01-03 09:18:00  205.55  2022-01-03  207.80  194.75   \n",
       "2022-01-03 09:19:00 2022-01-03 09:19:00  203.95  2022-01-03  207.70  200.00   \n",
       "\n",
       "                            oi    open                   symbol      time  \\\n",
       "datetime                                                                    \n",
       "2022-01-03 09:15:00  1240700.0  180.00  BANKNIFTY06JAN2236000CE  09:15:00   \n",
       "2022-01-03 09:16:00  1240700.0  203.20  BANKNIFTY06JAN2236000CE  09:16:00   \n",
       "2022-01-03 09:17:00  1326650.0  197.25  BANKNIFTY06JAN2236000CE  09:17:00   \n",
       "2022-01-03 09:18:00  1326650.0  195.70  BANKNIFTY06JAN2236000CE  09:18:00   \n",
       "2022-01-03 09:19:00  1326650.0  204.20  BANKNIFTY06JAN2236000CE  09:19:00   \n",
       "\n",
       "                     volume  \n",
       "datetime                     \n",
       "2022-01-03 09:15:00  350653  \n",
       "2022-01-03 09:16:00  220250  \n",
       "2022-01-03 09:17:00  277150  \n",
       "2022-01-03 09:18:00  245375  \n",
       "2022-01-03 09:19:00  199100  "
      ]
     },
     "execution_count": 23,
     "metadata": {},
     "output_type": "execute_result"
    }
   ],
   "source": [
    "option_data.head()"
   ]
  },
  {
   "cell_type": "code",
   "execution_count": 24,
   "metadata": {},
   "outputs": [
    {
     "data": {
      "text/html": [
       "<div>\n",
       "<style scoped>\n",
       "    .dataframe tbody tr th:only-of-type {\n",
       "        vertical-align: middle;\n",
       "    }\n",
       "\n",
       "    .dataframe tbody tr th {\n",
       "        vertical-align: top;\n",
       "    }\n",
       "\n",
       "    .dataframe thead th {\n",
       "        text-align: right;\n",
       "    }\n",
       "</style>\n",
       "<table border=\"1\" class=\"dataframe\">\n",
       "  <thead>\n",
       "    <tr style=\"text-align: right;\">\n",
       "      <th></th>\n",
       "      <th>datetime</th>\n",
       "      <th>close</th>\n",
       "      <th>date</th>\n",
       "      <th>high</th>\n",
       "      <th>low</th>\n",
       "      <th>oi</th>\n",
       "      <th>open</th>\n",
       "      <th>symbol</th>\n",
       "      <th>time</th>\n",
       "      <th>volume</th>\n",
       "    </tr>\n",
       "    <tr>\n",
       "      <th>datetime</th>\n",
       "      <th></th>\n",
       "      <th></th>\n",
       "      <th></th>\n",
       "      <th></th>\n",
       "      <th></th>\n",
       "      <th></th>\n",
       "      <th></th>\n",
       "      <th></th>\n",
       "      <th></th>\n",
       "      <th></th>\n",
       "    </tr>\n",
       "  </thead>\n",
       "  <tbody>\n",
       "    <tr>\n",
       "      <th>2022-01-03 15:26:00</th>\n",
       "      <td>2022-01-03 15:26:00</td>\n",
       "      <td>622.0</td>\n",
       "      <td>2022-01-03</td>\n",
       "      <td>622.0</td>\n",
       "      <td>612.75</td>\n",
       "      <td>1278675.0</td>\n",
       "      <td>617.45</td>\n",
       "      <td>BANKNIFTY06JAN2236000CE</td>\n",
       "      <td>15:26:00</td>\n",
       "      <td>41600</td>\n",
       "    </tr>\n",
       "    <tr>\n",
       "      <th>2022-01-03 15:27:00</th>\n",
       "      <td>2022-01-03 15:27:00</td>\n",
       "      <td>626.9</td>\n",
       "      <td>2022-01-03</td>\n",
       "      <td>627.0</td>\n",
       "      <td>620.15</td>\n",
       "      <td>1244025.0</td>\n",
       "      <td>620.15</td>\n",
       "      <td>BANKNIFTY06JAN2236000CE</td>\n",
       "      <td>15:27:00</td>\n",
       "      <td>34475</td>\n",
       "    </tr>\n",
       "    <tr>\n",
       "      <th>2022-01-03 15:28:00</th>\n",
       "      <td>2022-01-03 15:28:00</td>\n",
       "      <td>624.2</td>\n",
       "      <td>2022-01-03</td>\n",
       "      <td>629.5</td>\n",
       "      <td>620.15</td>\n",
       "      <td>1244025.0</td>\n",
       "      <td>626.90</td>\n",
       "      <td>BANKNIFTY06JAN2236000CE</td>\n",
       "      <td>15:28:00</td>\n",
       "      <td>59400</td>\n",
       "    </tr>\n",
       "    <tr>\n",
       "      <th>2022-01-03 15:29:00</th>\n",
       "      <td>2022-01-03 15:29:00</td>\n",
       "      <td>639.0</td>\n",
       "      <td>2022-01-03</td>\n",
       "      <td>639.0</td>\n",
       "      <td>623.90</td>\n",
       "      <td>1244025.0</td>\n",
       "      <td>623.90</td>\n",
       "      <td>BANKNIFTY06JAN2236000CE</td>\n",
       "      <td>15:29:00</td>\n",
       "      <td>38775</td>\n",
       "    </tr>\n",
       "    <tr>\n",
       "      <th>2022-01-03 15:30:00</th>\n",
       "      <td>2022-01-03 15:30:00</td>\n",
       "      <td>639.0</td>\n",
       "      <td>2022-01-03</td>\n",
       "      <td>639.0</td>\n",
       "      <td>639.00</td>\n",
       "      <td>1244025.0</td>\n",
       "      <td>639.00</td>\n",
       "      <td>BANKNIFTY06JAN2236000CE</td>\n",
       "      <td>15:30:00</td>\n",
       "      <td>25</td>\n",
       "    </tr>\n",
       "  </tbody>\n",
       "</table>\n",
       "</div>"
      ],
      "text/plain": [
       "                               datetime  close        date   high     low  \\\n",
       "datetime                                                                    \n",
       "2022-01-03 15:26:00 2022-01-03 15:26:00  622.0  2022-01-03  622.0  612.75   \n",
       "2022-01-03 15:27:00 2022-01-03 15:27:00  626.9  2022-01-03  627.0  620.15   \n",
       "2022-01-03 15:28:00 2022-01-03 15:28:00  624.2  2022-01-03  629.5  620.15   \n",
       "2022-01-03 15:29:00 2022-01-03 15:29:00  639.0  2022-01-03  639.0  623.90   \n",
       "2022-01-03 15:30:00 2022-01-03 15:30:00  639.0  2022-01-03  639.0  639.00   \n",
       "\n",
       "                            oi    open                   symbol      time  \\\n",
       "datetime                                                                    \n",
       "2022-01-03 15:26:00  1278675.0  617.45  BANKNIFTY06JAN2236000CE  15:26:00   \n",
       "2022-01-03 15:27:00  1244025.0  620.15  BANKNIFTY06JAN2236000CE  15:27:00   \n",
       "2022-01-03 15:28:00  1244025.0  626.90  BANKNIFTY06JAN2236000CE  15:28:00   \n",
       "2022-01-03 15:29:00  1244025.0  623.90  BANKNIFTY06JAN2236000CE  15:29:00   \n",
       "2022-01-03 15:30:00  1244025.0  639.00  BANKNIFTY06JAN2236000CE  15:30:00   \n",
       "\n",
       "                     volume  \n",
       "datetime                     \n",
       "2022-01-03 15:26:00   41600  \n",
       "2022-01-03 15:27:00   34475  \n",
       "2022-01-03 15:28:00   59400  \n",
       "2022-01-03 15:29:00   38775  \n",
       "2022-01-03 15:30:00      25  "
      ]
     },
     "execution_count": 24,
     "metadata": {},
     "output_type": "execute_result"
    }
   ],
   "source": [
    "option_data.tail()"
   ]
  },
  {
   "cell_type": "code",
   "execution_count": 25,
   "metadata": {},
   "outputs": [
    {
     "name": "stderr",
     "output_type": "stream",
     "text": [
      "/Users/rishabhiyer/opt/anaconda3/lib/python3.9/site-packages/plotly/graph_objs/_deprecations.py:378: DeprecationWarning:\n",
      "\n",
      "plotly.graph_objs.Line is deprecated.\n",
      "Please replace it with one of the following more specific types\n",
      "  - plotly.graph_objs.scatter.Line\n",
      "  - plotly.graph_objs.layout.shape.Line\n",
      "  - etc.\n",
      "\n",
      "\n"
     ]
    },
    {
     "data": {
      "application/vnd.plotly.v1+json": {
       "config": {
        "plotlyServerURL": "https://plot.ly"
       },
       "data": [
        {
         "mode": "lines",
         "name": "Close",
         "type": "scatter",
         "x": [
          "2022-01-03T09:15:00",
          "2022-01-03T09:16:00",
          "2022-01-03T09:17:00",
          "2022-01-03T09:18:00",
          "2022-01-03T09:19:00",
          "2022-01-03T09:20:00",
          "2022-01-03T09:21:00",
          "2022-01-03T09:22:00",
          "2022-01-03T09:23:00",
          "2022-01-03T09:24:00",
          "2022-01-03T09:25:00",
          "2022-01-03T09:26:00",
          "2022-01-03T09:27:00",
          "2022-01-03T09:28:00",
          "2022-01-03T09:29:00",
          "2022-01-03T09:30:00",
          "2022-01-03T09:31:00",
          "2022-01-03T09:32:00",
          "2022-01-03T09:33:00",
          "2022-01-03T09:34:00",
          "2022-01-03T09:35:00",
          "2022-01-03T09:36:00",
          "2022-01-03T09:37:00",
          "2022-01-03T09:38:00",
          "2022-01-03T09:39:00",
          "2022-01-03T09:40:00",
          "2022-01-03T09:41:00",
          "2022-01-03T09:42:00",
          "2022-01-03T09:43:00",
          "2022-01-03T09:44:00",
          "2022-01-03T09:45:00",
          "2022-01-03T09:46:00",
          "2022-01-03T09:47:00",
          "2022-01-03T09:48:00",
          "2022-01-03T09:49:00",
          "2022-01-03T09:50:00",
          "2022-01-03T09:51:00",
          "2022-01-03T09:52:00",
          "2022-01-03T09:53:00",
          "2022-01-03T09:54:00",
          "2022-01-03T09:55:00",
          "2022-01-03T09:56:00",
          "2022-01-03T09:57:00",
          "2022-01-03T09:58:00",
          "2022-01-03T09:59:00",
          "2022-01-03T10:00:00",
          "2022-01-03T10:01:00",
          "2022-01-03T10:02:00",
          "2022-01-03T10:03:00",
          "2022-01-03T10:04:00",
          "2022-01-03T10:05:00",
          "2022-01-03T10:06:00",
          "2022-01-03T10:07:00",
          "2022-01-03T10:08:00",
          "2022-01-03T10:09:00",
          "2022-01-03T10:10:00",
          "2022-01-03T10:11:00",
          "2022-01-03T10:12:00",
          "2022-01-03T10:13:00",
          "2022-01-03T10:14:00",
          "2022-01-03T10:15:00",
          "2022-01-03T10:16:00",
          "2022-01-03T10:17:00",
          "2022-01-03T10:18:00",
          "2022-01-03T10:19:00",
          "2022-01-03T10:20:00",
          "2022-01-03T10:21:00",
          "2022-01-03T10:22:00",
          "2022-01-03T10:23:00",
          "2022-01-03T10:24:00",
          "2022-01-03T10:25:00",
          "2022-01-03T10:26:00",
          "2022-01-03T10:27:00",
          "2022-01-03T10:28:00",
          "2022-01-03T10:29:00",
          "2022-01-03T10:30:00",
          "2022-01-03T10:31:00",
          "2022-01-03T10:32:00",
          "2022-01-03T10:33:00",
          "2022-01-03T10:34:00",
          "2022-01-03T10:35:00",
          "2022-01-03T10:36:00",
          "2022-01-03T10:37:00",
          "2022-01-03T10:38:00",
          "2022-01-03T10:39:00",
          "2022-01-03T10:40:00",
          "2022-01-03T10:41:00",
          "2022-01-03T10:42:00",
          "2022-01-03T10:43:00",
          "2022-01-03T10:44:00",
          "2022-01-03T10:45:00",
          "2022-01-03T10:46:00",
          "2022-01-03T10:47:00",
          "2022-01-03T10:48:00",
          "2022-01-03T10:49:00",
          "2022-01-03T10:50:00",
          "2022-01-03T10:51:00",
          "2022-01-03T10:52:00",
          "2022-01-03T10:53:00",
          "2022-01-03T10:54:00",
          "2022-01-03T10:55:00",
          "2022-01-03T10:56:00",
          "2022-01-03T10:57:00",
          "2022-01-03T10:58:00",
          "2022-01-03T10:59:00",
          "2022-01-03T11:00:00",
          "2022-01-03T11:01:00",
          "2022-01-03T11:02:00",
          "2022-01-03T11:03:00",
          "2022-01-03T11:04:00",
          "2022-01-03T11:05:00",
          "2022-01-03T11:06:00",
          "2022-01-03T11:07:00",
          "2022-01-03T11:08:00",
          "2022-01-03T11:09:00",
          "2022-01-03T11:10:00",
          "2022-01-03T11:11:00",
          "2022-01-03T11:12:00",
          "2022-01-03T11:13:00",
          "2022-01-03T11:14:00",
          "2022-01-03T11:15:00",
          "2022-01-03T11:16:00",
          "2022-01-03T11:17:00",
          "2022-01-03T11:18:00",
          "2022-01-03T11:19:00",
          "2022-01-03T11:20:00",
          "2022-01-03T11:21:00",
          "2022-01-03T11:22:00",
          "2022-01-03T11:23:00",
          "2022-01-03T11:24:00",
          "2022-01-03T11:25:00",
          "2022-01-03T11:26:00",
          "2022-01-03T11:27:00",
          "2022-01-03T11:28:00",
          "2022-01-03T11:29:00",
          "2022-01-03T11:30:00",
          "2022-01-03T11:31:00",
          "2022-01-03T11:32:00",
          "2022-01-03T11:33:00",
          "2022-01-03T11:34:00",
          "2022-01-03T11:35:00",
          "2022-01-03T11:36:00",
          "2022-01-03T11:37:00",
          "2022-01-03T11:38:00",
          "2022-01-03T11:39:00",
          "2022-01-03T11:40:00",
          "2022-01-03T11:41:00",
          "2022-01-03T11:42:00",
          "2022-01-03T11:43:00",
          "2022-01-03T11:44:00",
          "2022-01-03T11:45:00",
          "2022-01-03T11:46:00",
          "2022-01-03T11:47:00",
          "2022-01-03T11:48:00",
          "2022-01-03T11:49:00",
          "2022-01-03T11:50:00",
          "2022-01-03T11:51:00",
          "2022-01-03T11:52:00",
          "2022-01-03T11:53:00",
          "2022-01-03T11:54:00",
          "2022-01-03T11:55:00",
          "2022-01-03T11:56:00",
          "2022-01-03T11:57:00",
          "2022-01-03T11:58:00",
          "2022-01-03T11:59:00",
          "2022-01-03T12:00:00",
          "2022-01-03T12:01:00",
          "2022-01-03T12:02:00",
          "2022-01-03T12:03:00",
          "2022-01-03T12:04:00",
          "2022-01-03T12:05:00",
          "2022-01-03T12:06:00",
          "2022-01-03T12:07:00",
          "2022-01-03T12:08:00",
          "2022-01-03T12:09:00",
          "2022-01-03T12:10:00",
          "2022-01-03T12:11:00",
          "2022-01-03T12:12:00",
          "2022-01-03T12:13:00",
          "2022-01-03T12:14:00",
          "2022-01-03T12:15:00",
          "2022-01-03T12:16:00",
          "2022-01-03T12:17:00",
          "2022-01-03T12:18:00",
          "2022-01-03T12:19:00",
          "2022-01-03T12:20:00",
          "2022-01-03T12:21:00",
          "2022-01-03T12:22:00",
          "2022-01-03T12:23:00",
          "2022-01-03T12:24:00",
          "2022-01-03T12:25:00",
          "2022-01-03T12:26:00",
          "2022-01-03T12:27:00",
          "2022-01-03T12:28:00",
          "2022-01-03T12:29:00",
          "2022-01-03T12:30:00",
          "2022-01-03T12:31:00",
          "2022-01-03T12:32:00",
          "2022-01-03T12:33:00",
          "2022-01-03T12:34:00",
          "2022-01-03T12:35:00",
          "2022-01-03T12:36:00",
          "2022-01-03T12:37:00",
          "2022-01-03T12:38:00",
          "2022-01-03T12:39:00",
          "2022-01-03T12:40:00",
          "2022-01-03T12:41:00",
          "2022-01-03T12:42:00",
          "2022-01-03T12:43:00",
          "2022-01-03T12:44:00",
          "2022-01-03T12:45:00",
          "2022-01-03T12:46:00",
          "2022-01-03T12:47:00",
          "2022-01-03T12:48:00",
          "2022-01-03T12:49:00",
          "2022-01-03T12:50:00",
          "2022-01-03T12:51:00",
          "2022-01-03T12:52:00",
          "2022-01-03T12:53:00",
          "2022-01-03T12:54:00",
          "2022-01-03T12:55:00",
          "2022-01-03T12:56:00",
          "2022-01-03T12:57:00",
          "2022-01-03T12:58:00",
          "2022-01-03T12:59:00",
          "2022-01-03T13:00:00",
          "2022-01-03T13:01:00",
          "2022-01-03T13:02:00",
          "2022-01-03T13:03:00",
          "2022-01-03T13:04:00",
          "2022-01-03T13:05:00",
          "2022-01-03T13:06:00",
          "2022-01-03T13:07:00",
          "2022-01-03T13:08:00",
          "2022-01-03T13:09:00",
          "2022-01-03T13:10:00",
          "2022-01-03T13:11:00",
          "2022-01-03T13:12:00",
          "2022-01-03T13:13:00",
          "2022-01-03T13:14:00",
          "2022-01-03T13:15:00",
          "2022-01-03T13:16:00",
          "2022-01-03T13:17:00",
          "2022-01-03T13:18:00",
          "2022-01-03T13:19:00",
          "2022-01-03T13:20:00",
          "2022-01-03T13:21:00",
          "2022-01-03T13:22:00",
          "2022-01-03T13:23:00",
          "2022-01-03T13:24:00",
          "2022-01-03T13:25:00",
          "2022-01-03T13:26:00",
          "2022-01-03T13:27:00",
          "2022-01-03T13:28:00",
          "2022-01-03T13:29:00",
          "2022-01-03T13:30:00",
          "2022-01-03T13:31:00",
          "2022-01-03T13:32:00",
          "2022-01-03T13:33:00",
          "2022-01-03T13:34:00",
          "2022-01-03T13:35:00",
          "2022-01-03T13:36:00",
          "2022-01-03T13:37:00",
          "2022-01-03T13:38:00",
          "2022-01-03T13:39:00",
          "2022-01-03T13:40:00",
          "2022-01-03T13:41:00",
          "2022-01-03T13:42:00",
          "2022-01-03T13:43:00",
          "2022-01-03T13:44:00",
          "2022-01-03T13:45:00",
          "2022-01-03T13:46:00",
          "2022-01-03T13:47:00",
          "2022-01-03T13:48:00",
          "2022-01-03T13:49:00",
          "2022-01-03T13:50:00",
          "2022-01-03T13:51:00",
          "2022-01-03T13:52:00",
          "2022-01-03T13:53:00",
          "2022-01-03T13:54:00",
          "2022-01-03T13:55:00",
          "2022-01-03T13:56:00",
          "2022-01-03T13:57:00",
          "2022-01-03T13:58:00",
          "2022-01-03T13:59:00",
          "2022-01-03T14:00:00",
          "2022-01-03T14:01:00",
          "2022-01-03T14:02:00",
          "2022-01-03T14:03:00",
          "2022-01-03T14:04:00",
          "2022-01-03T14:05:00",
          "2022-01-03T14:06:00",
          "2022-01-03T14:07:00",
          "2022-01-03T14:08:00",
          "2022-01-03T14:09:00",
          "2022-01-03T14:10:00",
          "2022-01-03T14:11:00",
          "2022-01-03T14:12:00",
          "2022-01-03T14:13:00",
          "2022-01-03T14:14:00",
          "2022-01-03T14:15:00",
          "2022-01-03T14:16:00",
          "2022-01-03T14:17:00",
          "2022-01-03T14:18:00",
          "2022-01-03T14:19:00",
          "2022-01-03T14:20:00",
          "2022-01-03T14:21:00",
          "2022-01-03T14:22:00",
          "2022-01-03T14:23:00",
          "2022-01-03T14:24:00",
          "2022-01-03T14:25:00",
          "2022-01-03T14:26:00",
          "2022-01-03T14:27:00",
          "2022-01-03T14:28:00",
          "2022-01-03T14:29:00",
          "2022-01-03T14:30:00",
          "2022-01-03T14:31:00",
          "2022-01-03T14:32:00",
          "2022-01-03T14:33:00",
          "2022-01-03T14:34:00",
          "2022-01-03T14:35:00",
          "2022-01-03T14:36:00",
          "2022-01-03T14:37:00",
          "2022-01-03T14:38:00",
          "2022-01-03T14:39:00",
          "2022-01-03T14:40:00",
          "2022-01-03T14:41:00",
          "2022-01-03T14:42:00",
          "2022-01-03T14:43:00",
          "2022-01-03T14:44:00",
          "2022-01-03T14:45:00",
          "2022-01-03T14:46:00",
          "2022-01-03T14:47:00",
          "2022-01-03T14:48:00",
          "2022-01-03T14:49:00",
          "2022-01-03T14:50:00",
          "2022-01-03T14:51:00",
          "2022-01-03T14:52:00",
          "2022-01-03T14:53:00",
          "2022-01-03T14:54:00",
          "2022-01-03T14:55:00",
          "2022-01-03T14:56:00",
          "2022-01-03T14:57:00",
          "2022-01-03T14:58:00",
          "2022-01-03T14:59:00",
          "2022-01-03T15:00:00",
          "2022-01-03T15:01:00",
          "2022-01-03T15:02:00",
          "2022-01-03T15:03:00",
          "2022-01-03T15:04:00",
          "2022-01-03T15:05:00",
          "2022-01-03T15:06:00",
          "2022-01-03T15:07:00",
          "2022-01-03T15:08:00",
          "2022-01-03T15:09:00",
          "2022-01-03T15:10:00",
          "2022-01-03T15:11:00",
          "2022-01-03T15:12:00",
          "2022-01-03T15:13:00",
          "2022-01-03T15:14:00",
          "2022-01-03T15:15:00",
          "2022-01-03T15:16:00",
          "2022-01-03T15:17:00",
          "2022-01-03T15:18:00",
          "2022-01-03T15:19:00",
          "2022-01-03T15:20:00",
          "2022-01-03T15:21:00",
          "2022-01-03T15:22:00",
          "2022-01-03T15:23:00",
          "2022-01-03T15:24:00",
          "2022-01-03T15:25:00",
          "2022-01-03T15:26:00",
          "2022-01-03T15:27:00",
          "2022-01-03T15:28:00",
          "2022-01-03T15:29:00",
          "2022-01-03T15:30:00"
         ],
         "y": [
          204.65,
          198.5,
          194.4,
          205.55,
          203.95,
          195.1,
          188,
          190.2,
          173.05,
          157.9,
          162.3,
          164.8,
          167,
          173.15,
          167.35,
          166.2,
          152,
          147.3,
          154.1,
          164.7,
          163.4,
          168.7,
          168.2,
          171.7,
          173.9,
          171,
          174,
          169.9,
          171.05,
          165.75,
          169.45,
          185.2,
          194.15,
          199.7,
          202.5,
          209.8,
          207,
          207.55,
          217.4,
          218.1,
          210.05,
          208.3,
          221.4,
          215,
          214,
          216.75,
          215.2,
          215.7,
          232.35,
          241.95,
          236.1,
          225.05,
          230.25,
          231.3,
          231.35,
          231.55,
          232.2,
          231.1,
          228.95,
          226.75,
          220.8,
          217.05,
          216.9,
          218.55,
          223,
          228.75,
          231.55,
          229.6,
          244.6,
          248.45,
          246.85,
          256.45,
          252.7,
          254.95,
          258.85,
          265.85,
          260.05,
          286.35,
          277.95,
          274.75,
          275.85,
          265.4,
          268.1,
          262.95,
          258.8,
          264.45,
          263.8,
          259.4,
          257.25,
          259.95,
          262.7,
          264.7,
          260.8,
          256.65,
          259.7,
          258.55,
          260.45,
          259.2,
          256.15,
          255.35,
          256.8,
          261.2,
          268.5,
          273.4,
          269.05,
          268.3,
          263.85,
          262,
          258,
          262,
          267.95,
          267.8,
          264.3,
          262.9,
          260.45,
          259.85,
          259.3,
          275.2,
          281.65,
          296.45,
          291,
          291.15,
          291.5,
          288.9,
          318.9,
          323.45,
          322.05,
          314,
          318.2,
          324.9,
          323.6,
          319.7,
          318.15,
          310.5,
          310.8,
          305.55,
          292.7,
          299.75,
          298.35,
          290.2,
          300.35,
          292.5,
          290.25,
          288.75,
          290.5,
          300.7,
          302.8,
          304.2,
          301.9,
          301.65,
          295.2,
          295.35,
          295.85,
          296.55,
          296.1,
          294.9,
          291.05,
          294.95,
          292.65,
          301,
          297.15,
          293.45,
          292.95,
          294.6,
          307.8,
          303.15,
          304.6,
          303,
          301.15,
          300.95,
          296.9,
          303.1,
          306.65,
          306.6,
          303,
          302.5,
          308.4,
          307.55,
          312.1,
          313.5,
          327.85,
          322,
          325.3,
          340,
          347,
          341.25,
          343.6,
          352,
          351.55,
          353.2,
          347,
          350.1,
          348.9,
          351.2,
          364,
          366.9,
          364.3,
          357.2,
          356,
          350.3,
          353.75,
          365.9,
          380,
          378.85,
          375.55,
          375,
          395.8,
          418.1,
          404.75,
          404.8,
          411.9,
          420,
          417.9,
          427.3,
          430.35,
          415.05,
          414.8,
          410.05,
          414.65,
          413.15,
          385.75,
          396.45,
          400,
          392.05,
          397.1,
          403.55,
          407.95,
          404.2,
          399.05,
          403.55,
          408.15,
          401.8,
          399.5,
          391.2,
          404,
          410.35,
          413.2,
          423.65,
          420,
          417.75,
          420.2,
          432.5,
          425.65,
          421.45,
          410,
          415,
          436.25,
          432.75,
          422.9,
          416.95,
          418.4,
          424.75,
          422.25,
          432.8,
          426.5,
          419.4,
          416.3,
          419.6,
          425.9,
          428.15,
          418.7,
          415.2,
          418.6,
          413.15,
          406.65,
          395.5,
          413.85,
          413.45,
          412,
          411.65,
          417.35,
          429.1,
          425.75,
          439.85,
          451.35,
          455.6,
          447.8,
          459.95,
          450.35,
          447.55,
          440.05,
          445.15,
          452.5,
          445.45,
          447.55,
          451.2,
          461.55,
          468,
          456.25,
          450,
          450.4,
          455,
          464,
          469.05,
          475.55,
          475.5,
          479.9,
          489,
          487.25,
          483.45,
          490,
          486.35,
          480.55,
          505.65,
          536.05,
          539.55,
          533.05,
          541.2,
          538,
          555.05,
          567.3,
          590,
          585.65,
          584.05,
          591.5,
          569.5,
          584,
          571.1,
          610.9,
          606.95,
          618.8,
          612.15,
          601,
          592.95,
          599.2,
          600.05,
          621.35,
          603.55,
          602,
          604.15,
          598.8,
          601.1,
          563.65,
          554.1,
          558.45,
          554.55,
          567.7,
          581.3,
          573.25,
          577.5,
          581.2,
          591.85,
          587.4,
          573.5,
          563,
          592.5,
          591.05,
          588.05,
          583.95,
          579.8,
          577.7,
          576.5,
          576.6,
          577,
          577.7,
          572.95,
          571.65,
          571.2,
          579.25,
          593.55,
          588,
          593.2,
          593.2,
          613.5,
          613.85,
          605.3,
          608.4,
          599.95,
          594.6,
          608.75,
          616.05,
          622,
          626.9,
          624.2,
          639,
          639
         ]
        }
       ],
       "layout": {
        "template": {
         "data": {
          "bar": [
           {
            "error_x": {
             "color": "#2a3f5f"
            },
            "error_y": {
             "color": "#2a3f5f"
            },
            "marker": {
             "line": {
              "color": "#E5ECF6",
              "width": 0.5
             },
             "pattern": {
              "fillmode": "overlay",
              "size": 10,
              "solidity": 0.2
             }
            },
            "type": "bar"
           }
          ],
          "barpolar": [
           {
            "marker": {
             "line": {
              "color": "#E5ECF6",
              "width": 0.5
             },
             "pattern": {
              "fillmode": "overlay",
              "size": 10,
              "solidity": 0.2
             }
            },
            "type": "barpolar"
           }
          ],
          "carpet": [
           {
            "aaxis": {
             "endlinecolor": "#2a3f5f",
             "gridcolor": "white",
             "linecolor": "white",
             "minorgridcolor": "white",
             "startlinecolor": "#2a3f5f"
            },
            "baxis": {
             "endlinecolor": "#2a3f5f",
             "gridcolor": "white",
             "linecolor": "white",
             "minorgridcolor": "white",
             "startlinecolor": "#2a3f5f"
            },
            "type": "carpet"
           }
          ],
          "choropleth": [
           {
            "colorbar": {
             "outlinewidth": 0,
             "ticks": ""
            },
            "type": "choropleth"
           }
          ],
          "contour": [
           {
            "colorbar": {
             "outlinewidth": 0,
             "ticks": ""
            },
            "colorscale": [
             [
              0,
              "#0d0887"
             ],
             [
              0.1111111111111111,
              "#46039f"
             ],
             [
              0.2222222222222222,
              "#7201a8"
             ],
             [
              0.3333333333333333,
              "#9c179e"
             ],
             [
              0.4444444444444444,
              "#bd3786"
             ],
             [
              0.5555555555555556,
              "#d8576b"
             ],
             [
              0.6666666666666666,
              "#ed7953"
             ],
             [
              0.7777777777777778,
              "#fb9f3a"
             ],
             [
              0.8888888888888888,
              "#fdca26"
             ],
             [
              1,
              "#f0f921"
             ]
            ],
            "type": "contour"
           }
          ],
          "contourcarpet": [
           {
            "colorbar": {
             "outlinewidth": 0,
             "ticks": ""
            },
            "type": "contourcarpet"
           }
          ],
          "heatmap": [
           {
            "colorbar": {
             "outlinewidth": 0,
             "ticks": ""
            },
            "colorscale": [
             [
              0,
              "#0d0887"
             ],
             [
              0.1111111111111111,
              "#46039f"
             ],
             [
              0.2222222222222222,
              "#7201a8"
             ],
             [
              0.3333333333333333,
              "#9c179e"
             ],
             [
              0.4444444444444444,
              "#bd3786"
             ],
             [
              0.5555555555555556,
              "#d8576b"
             ],
             [
              0.6666666666666666,
              "#ed7953"
             ],
             [
              0.7777777777777778,
              "#fb9f3a"
             ],
             [
              0.8888888888888888,
              "#fdca26"
             ],
             [
              1,
              "#f0f921"
             ]
            ],
            "type": "heatmap"
           }
          ],
          "heatmapgl": [
           {
            "colorbar": {
             "outlinewidth": 0,
             "ticks": ""
            },
            "colorscale": [
             [
              0,
              "#0d0887"
             ],
             [
              0.1111111111111111,
              "#46039f"
             ],
             [
              0.2222222222222222,
              "#7201a8"
             ],
             [
              0.3333333333333333,
              "#9c179e"
             ],
             [
              0.4444444444444444,
              "#bd3786"
             ],
             [
              0.5555555555555556,
              "#d8576b"
             ],
             [
              0.6666666666666666,
              "#ed7953"
             ],
             [
              0.7777777777777778,
              "#fb9f3a"
             ],
             [
              0.8888888888888888,
              "#fdca26"
             ],
             [
              1,
              "#f0f921"
             ]
            ],
            "type": "heatmapgl"
           }
          ],
          "histogram": [
           {
            "marker": {
             "pattern": {
              "fillmode": "overlay",
              "size": 10,
              "solidity": 0.2
             }
            },
            "type": "histogram"
           }
          ],
          "histogram2d": [
           {
            "colorbar": {
             "outlinewidth": 0,
             "ticks": ""
            },
            "colorscale": [
             [
              0,
              "#0d0887"
             ],
             [
              0.1111111111111111,
              "#46039f"
             ],
             [
              0.2222222222222222,
              "#7201a8"
             ],
             [
              0.3333333333333333,
              "#9c179e"
             ],
             [
              0.4444444444444444,
              "#bd3786"
             ],
             [
              0.5555555555555556,
              "#d8576b"
             ],
             [
              0.6666666666666666,
              "#ed7953"
             ],
             [
              0.7777777777777778,
              "#fb9f3a"
             ],
             [
              0.8888888888888888,
              "#fdca26"
             ],
             [
              1,
              "#f0f921"
             ]
            ],
            "type": "histogram2d"
           }
          ],
          "histogram2dcontour": [
           {
            "colorbar": {
             "outlinewidth": 0,
             "ticks": ""
            },
            "colorscale": [
             [
              0,
              "#0d0887"
             ],
             [
              0.1111111111111111,
              "#46039f"
             ],
             [
              0.2222222222222222,
              "#7201a8"
             ],
             [
              0.3333333333333333,
              "#9c179e"
             ],
             [
              0.4444444444444444,
              "#bd3786"
             ],
             [
              0.5555555555555556,
              "#d8576b"
             ],
             [
              0.6666666666666666,
              "#ed7953"
             ],
             [
              0.7777777777777778,
              "#fb9f3a"
             ],
             [
              0.8888888888888888,
              "#fdca26"
             ],
             [
              1,
              "#f0f921"
             ]
            ],
            "type": "histogram2dcontour"
           }
          ],
          "mesh3d": [
           {
            "colorbar": {
             "outlinewidth": 0,
             "ticks": ""
            },
            "type": "mesh3d"
           }
          ],
          "parcoords": [
           {
            "line": {
             "colorbar": {
              "outlinewidth": 0,
              "ticks": ""
             }
            },
            "type": "parcoords"
           }
          ],
          "pie": [
           {
            "automargin": true,
            "type": "pie"
           }
          ],
          "scatter": [
           {
            "fillpattern": {
             "fillmode": "overlay",
             "size": 10,
             "solidity": 0.2
            },
            "type": "scatter"
           }
          ],
          "scatter3d": [
           {
            "line": {
             "colorbar": {
              "outlinewidth": 0,
              "ticks": ""
             }
            },
            "marker": {
             "colorbar": {
              "outlinewidth": 0,
              "ticks": ""
             }
            },
            "type": "scatter3d"
           }
          ],
          "scattercarpet": [
           {
            "marker": {
             "colorbar": {
              "outlinewidth": 0,
              "ticks": ""
             }
            },
            "type": "scattercarpet"
           }
          ],
          "scattergeo": [
           {
            "marker": {
             "colorbar": {
              "outlinewidth": 0,
              "ticks": ""
             }
            },
            "type": "scattergeo"
           }
          ],
          "scattergl": [
           {
            "marker": {
             "colorbar": {
              "outlinewidth": 0,
              "ticks": ""
             }
            },
            "type": "scattergl"
           }
          ],
          "scattermapbox": [
           {
            "marker": {
             "colorbar": {
              "outlinewidth": 0,
              "ticks": ""
             }
            },
            "type": "scattermapbox"
           }
          ],
          "scatterpolar": [
           {
            "marker": {
             "colorbar": {
              "outlinewidth": 0,
              "ticks": ""
             }
            },
            "type": "scatterpolar"
           }
          ],
          "scatterpolargl": [
           {
            "marker": {
             "colorbar": {
              "outlinewidth": 0,
              "ticks": ""
             }
            },
            "type": "scatterpolargl"
           }
          ],
          "scatterternary": [
           {
            "marker": {
             "colorbar": {
              "outlinewidth": 0,
              "ticks": ""
             }
            },
            "type": "scatterternary"
           }
          ],
          "surface": [
           {
            "colorbar": {
             "outlinewidth": 0,
             "ticks": ""
            },
            "colorscale": [
             [
              0,
              "#0d0887"
             ],
             [
              0.1111111111111111,
              "#46039f"
             ],
             [
              0.2222222222222222,
              "#7201a8"
             ],
             [
              0.3333333333333333,
              "#9c179e"
             ],
             [
              0.4444444444444444,
              "#bd3786"
             ],
             [
              0.5555555555555556,
              "#d8576b"
             ],
             [
              0.6666666666666666,
              "#ed7953"
             ],
             [
              0.7777777777777778,
              "#fb9f3a"
             ],
             [
              0.8888888888888888,
              "#fdca26"
             ],
             [
              1,
              "#f0f921"
             ]
            ],
            "type": "surface"
           }
          ],
          "table": [
           {
            "cells": {
             "fill": {
              "color": "#EBF0F8"
             },
             "line": {
              "color": "white"
             }
            },
            "header": {
             "fill": {
              "color": "#C8D4E3"
             },
             "line": {
              "color": "white"
             }
            },
            "type": "table"
           }
          ]
         },
         "layout": {
          "annotationdefaults": {
           "arrowcolor": "#2a3f5f",
           "arrowhead": 0,
           "arrowwidth": 1
          },
          "autotypenumbers": "strict",
          "coloraxis": {
           "colorbar": {
            "outlinewidth": 0,
            "ticks": ""
           }
          },
          "colorscale": {
           "diverging": [
            [
             0,
             "#8e0152"
            ],
            [
             0.1,
             "#c51b7d"
            ],
            [
             0.2,
             "#de77ae"
            ],
            [
             0.3,
             "#f1b6da"
            ],
            [
             0.4,
             "#fde0ef"
            ],
            [
             0.5,
             "#f7f7f7"
            ],
            [
             0.6,
             "#e6f5d0"
            ],
            [
             0.7,
             "#b8e186"
            ],
            [
             0.8,
             "#7fbc41"
            ],
            [
             0.9,
             "#4d9221"
            ],
            [
             1,
             "#276419"
            ]
           ],
           "sequential": [
            [
             0,
             "#0d0887"
            ],
            [
             0.1111111111111111,
             "#46039f"
            ],
            [
             0.2222222222222222,
             "#7201a8"
            ],
            [
             0.3333333333333333,
             "#9c179e"
            ],
            [
             0.4444444444444444,
             "#bd3786"
            ],
            [
             0.5555555555555556,
             "#d8576b"
            ],
            [
             0.6666666666666666,
             "#ed7953"
            ],
            [
             0.7777777777777778,
             "#fb9f3a"
            ],
            [
             0.8888888888888888,
             "#fdca26"
            ],
            [
             1,
             "#f0f921"
            ]
           ],
           "sequentialminus": [
            [
             0,
             "#0d0887"
            ],
            [
             0.1111111111111111,
             "#46039f"
            ],
            [
             0.2222222222222222,
             "#7201a8"
            ],
            [
             0.3333333333333333,
             "#9c179e"
            ],
            [
             0.4444444444444444,
             "#bd3786"
            ],
            [
             0.5555555555555556,
             "#d8576b"
            ],
            [
             0.6666666666666666,
             "#ed7953"
            ],
            [
             0.7777777777777778,
             "#fb9f3a"
            ],
            [
             0.8888888888888888,
             "#fdca26"
            ],
            [
             1,
             "#f0f921"
            ]
           ]
          },
          "colorway": [
           "#636efa",
           "#EF553B",
           "#00cc96",
           "#ab63fa",
           "#FFA15A",
           "#19d3f3",
           "#FF6692",
           "#B6E880",
           "#FF97FF",
           "#FECB52"
          ],
          "font": {
           "color": "#2a3f5f"
          },
          "geo": {
           "bgcolor": "white",
           "lakecolor": "white",
           "landcolor": "#E5ECF6",
           "showlakes": true,
           "showland": true,
           "subunitcolor": "white"
          },
          "hoverlabel": {
           "align": "left"
          },
          "hovermode": "closest",
          "mapbox": {
           "style": "light"
          },
          "paper_bgcolor": "white",
          "plot_bgcolor": "#E5ECF6",
          "polar": {
           "angularaxis": {
            "gridcolor": "white",
            "linecolor": "white",
            "ticks": ""
           },
           "bgcolor": "#E5ECF6",
           "radialaxis": {
            "gridcolor": "white",
            "linecolor": "white",
            "ticks": ""
           }
          },
          "scene": {
           "xaxis": {
            "backgroundcolor": "#E5ECF6",
            "gridcolor": "white",
            "gridwidth": 2,
            "linecolor": "white",
            "showbackground": true,
            "ticks": "",
            "zerolinecolor": "white"
           },
           "yaxis": {
            "backgroundcolor": "#E5ECF6",
            "gridcolor": "white",
            "gridwidth": 2,
            "linecolor": "white",
            "showbackground": true,
            "ticks": "",
            "zerolinecolor": "white"
           },
           "zaxis": {
            "backgroundcolor": "#E5ECF6",
            "gridcolor": "white",
            "gridwidth": 2,
            "linecolor": "white",
            "showbackground": true,
            "ticks": "",
            "zerolinecolor": "white"
           }
          },
          "shapedefaults": {
           "line": {
            "color": "#2a3f5f"
           }
          },
          "ternary": {
           "aaxis": {
            "gridcolor": "white",
            "linecolor": "white",
            "ticks": ""
           },
           "baxis": {
            "gridcolor": "white",
            "linecolor": "white",
            "ticks": ""
           },
           "bgcolor": "#E5ECF6",
           "caxis": {
            "gridcolor": "white",
            "linecolor": "white",
            "ticks": ""
           }
          },
          "title": {
           "x": 0.05
          },
          "xaxis": {
           "automargin": true,
           "gridcolor": "white",
           "linecolor": "white",
           "ticks": "",
           "title": {
            "standoff": 15
           },
           "zerolinecolor": "white",
           "zerolinewidth": 2
          },
          "yaxis": {
           "automargin": true,
           "gridcolor": "white",
           "linecolor": "white",
           "ticks": "",
           "title": {
            "standoff": 15
           },
           "zerolinecolor": "white",
           "zerolinewidth": 2
          }
         }
        },
        "xaxis": {
         "rangebreaks": [
          {
           "bounds": [
            "sat",
            "mon"
           ]
          },
          {
           "bounds": [
            16,
            9
           ],
           "pattern": "hour"
          }
         ],
         "rangeslider": {
          "visible": true
         },
         "showticklabels": true
        },
        "yaxis": {
         "showticklabels": true
        }
       }
      },
      "text/html": [
       "<div>                            <div id=\"966befbf-d6eb-40dc-b448-ee2a90364d04\" class=\"plotly-graph-div\" style=\"height:525px; width:100%;\"></div>            <script type=\"text/javascript\">                require([\"plotly\"], function(Plotly) {                    window.PLOTLYENV=window.PLOTLYENV || {};                                    if (document.getElementById(\"966befbf-d6eb-40dc-b448-ee2a90364d04\")) {                    Plotly.newPlot(                        \"966befbf-d6eb-40dc-b448-ee2a90364d04\",                        [{\"mode\":\"lines\",\"name\":\"Close\",\"x\":[\"2022-01-03T09:15:00\",\"2022-01-03T09:16:00\",\"2022-01-03T09:17:00\",\"2022-01-03T09:18:00\",\"2022-01-03T09:19:00\",\"2022-01-03T09:20:00\",\"2022-01-03T09:21:00\",\"2022-01-03T09:22:00\",\"2022-01-03T09:23:00\",\"2022-01-03T09:24:00\",\"2022-01-03T09:25:00\",\"2022-01-03T09:26:00\",\"2022-01-03T09:27:00\",\"2022-01-03T09:28:00\",\"2022-01-03T09:29:00\",\"2022-01-03T09:30:00\",\"2022-01-03T09:31:00\",\"2022-01-03T09:32:00\",\"2022-01-03T09:33:00\",\"2022-01-03T09:34:00\",\"2022-01-03T09:35:00\",\"2022-01-03T09:36:00\",\"2022-01-03T09:37:00\",\"2022-01-03T09:38:00\",\"2022-01-03T09:39:00\",\"2022-01-03T09:40:00\",\"2022-01-03T09:41:00\",\"2022-01-03T09:42:00\",\"2022-01-03T09:43:00\",\"2022-01-03T09:44:00\",\"2022-01-03T09:45:00\",\"2022-01-03T09:46:00\",\"2022-01-03T09:47:00\",\"2022-01-03T09:48:00\",\"2022-01-03T09:49:00\",\"2022-01-03T09:50:00\",\"2022-01-03T09:51:00\",\"2022-01-03T09:52:00\",\"2022-01-03T09:53:00\",\"2022-01-03T09:54:00\",\"2022-01-03T09:55:00\",\"2022-01-03T09:56:00\",\"2022-01-03T09:57:00\",\"2022-01-03T09:58:00\",\"2022-01-03T09:59:00\",\"2022-01-03T10:00:00\",\"2022-01-03T10:01:00\",\"2022-01-03T10:02:00\",\"2022-01-03T10:03:00\",\"2022-01-03T10:04:00\",\"2022-01-03T10:05:00\",\"2022-01-03T10:06:00\",\"2022-01-03T10:07:00\",\"2022-01-03T10:08:00\",\"2022-01-03T10:09:00\",\"2022-01-03T10:10:00\",\"2022-01-03T10:11:00\",\"2022-01-03T10:12:00\",\"2022-01-03T10:13:00\",\"2022-01-03T10:14:00\",\"2022-01-03T10:15:00\",\"2022-01-03T10:16:00\",\"2022-01-03T10:17:00\",\"2022-01-03T10:18:00\",\"2022-01-03T10:19:00\",\"2022-01-03T10:20:00\",\"2022-01-03T10:21:00\",\"2022-01-03T10:22:00\",\"2022-01-03T10:23:00\",\"2022-01-03T10:24:00\",\"2022-01-03T10:25:00\",\"2022-01-03T10:26:00\",\"2022-01-03T10:27:00\",\"2022-01-03T10:28:00\",\"2022-01-03T10:29:00\",\"2022-01-03T10:30:00\",\"2022-01-03T10:31:00\",\"2022-01-03T10:32:00\",\"2022-01-03T10:33:00\",\"2022-01-03T10:34:00\",\"2022-01-03T10:35:00\",\"2022-01-03T10:36:00\",\"2022-01-03T10:37:00\",\"2022-01-03T10:38:00\",\"2022-01-03T10:39:00\",\"2022-01-03T10:40:00\",\"2022-01-03T10:41:00\",\"2022-01-03T10:42:00\",\"2022-01-03T10:43:00\",\"2022-01-03T10:44:00\",\"2022-01-03T10:45:00\",\"2022-01-03T10:46:00\",\"2022-01-03T10:47:00\",\"2022-01-03T10:48:00\",\"2022-01-03T10:49:00\",\"2022-01-03T10:50:00\",\"2022-01-03T10:51:00\",\"2022-01-03T10:52:00\",\"2022-01-03T10:53:00\",\"2022-01-03T10:54:00\",\"2022-01-03T10:55:00\",\"2022-01-03T10:56:00\",\"2022-01-03T10:57:00\",\"2022-01-03T10:58:00\",\"2022-01-03T10:59:00\",\"2022-01-03T11:00:00\",\"2022-01-03T11:01:00\",\"2022-01-03T11:02:00\",\"2022-01-03T11:03:00\",\"2022-01-03T11:04:00\",\"2022-01-03T11:05:00\",\"2022-01-03T11:06:00\",\"2022-01-03T11:07:00\",\"2022-01-03T11:08:00\",\"2022-01-03T11:09:00\",\"2022-01-03T11:10:00\",\"2022-01-03T11:11:00\",\"2022-01-03T11:12:00\",\"2022-01-03T11:13:00\",\"2022-01-03T11:14:00\",\"2022-01-03T11:15:00\",\"2022-01-03T11:16:00\",\"2022-01-03T11:17:00\",\"2022-01-03T11:18:00\",\"2022-01-03T11:19:00\",\"2022-01-03T11:20:00\",\"2022-01-03T11:21:00\",\"2022-01-03T11:22:00\",\"2022-01-03T11:23:00\",\"2022-01-03T11:24:00\",\"2022-01-03T11:25:00\",\"2022-01-03T11:26:00\",\"2022-01-03T11:27:00\",\"2022-01-03T11:28:00\",\"2022-01-03T11:29:00\",\"2022-01-03T11:30:00\",\"2022-01-03T11:31:00\",\"2022-01-03T11:32:00\",\"2022-01-03T11:33:00\",\"2022-01-03T11:34:00\",\"2022-01-03T11:35:00\",\"2022-01-03T11:36:00\",\"2022-01-03T11:37:00\",\"2022-01-03T11:38:00\",\"2022-01-03T11:39:00\",\"2022-01-03T11:40:00\",\"2022-01-03T11:41:00\",\"2022-01-03T11:42:00\",\"2022-01-03T11:43:00\",\"2022-01-03T11:44:00\",\"2022-01-03T11:45:00\",\"2022-01-03T11:46:00\",\"2022-01-03T11:47:00\",\"2022-01-03T11:48:00\",\"2022-01-03T11:49:00\",\"2022-01-03T11:50:00\",\"2022-01-03T11:51:00\",\"2022-01-03T11:52:00\",\"2022-01-03T11:53:00\",\"2022-01-03T11:54:00\",\"2022-01-03T11:55:00\",\"2022-01-03T11:56:00\",\"2022-01-03T11:57:00\",\"2022-01-03T11:58:00\",\"2022-01-03T11:59:00\",\"2022-01-03T12:00:00\",\"2022-01-03T12:01:00\",\"2022-01-03T12:02:00\",\"2022-01-03T12:03:00\",\"2022-01-03T12:04:00\",\"2022-01-03T12:05:00\",\"2022-01-03T12:06:00\",\"2022-01-03T12:07:00\",\"2022-01-03T12:08:00\",\"2022-01-03T12:09:00\",\"2022-01-03T12:10:00\",\"2022-01-03T12:11:00\",\"2022-01-03T12:12:00\",\"2022-01-03T12:13:00\",\"2022-01-03T12:14:00\",\"2022-01-03T12:15:00\",\"2022-01-03T12:16:00\",\"2022-01-03T12:17:00\",\"2022-01-03T12:18:00\",\"2022-01-03T12:19:00\",\"2022-01-03T12:20:00\",\"2022-01-03T12:21:00\",\"2022-01-03T12:22:00\",\"2022-01-03T12:23:00\",\"2022-01-03T12:24:00\",\"2022-01-03T12:25:00\",\"2022-01-03T12:26:00\",\"2022-01-03T12:27:00\",\"2022-01-03T12:28:00\",\"2022-01-03T12:29:00\",\"2022-01-03T12:30:00\",\"2022-01-03T12:31:00\",\"2022-01-03T12:32:00\",\"2022-01-03T12:33:00\",\"2022-01-03T12:34:00\",\"2022-01-03T12:35:00\",\"2022-01-03T12:36:00\",\"2022-01-03T12:37:00\",\"2022-01-03T12:38:00\",\"2022-01-03T12:39:00\",\"2022-01-03T12:40:00\",\"2022-01-03T12:41:00\",\"2022-01-03T12:42:00\",\"2022-01-03T12:43:00\",\"2022-01-03T12:44:00\",\"2022-01-03T12:45:00\",\"2022-01-03T12:46:00\",\"2022-01-03T12:47:00\",\"2022-01-03T12:48:00\",\"2022-01-03T12:49:00\",\"2022-01-03T12:50:00\",\"2022-01-03T12:51:00\",\"2022-01-03T12:52:00\",\"2022-01-03T12:53:00\",\"2022-01-03T12:54:00\",\"2022-01-03T12:55:00\",\"2022-01-03T12:56:00\",\"2022-01-03T12:57:00\",\"2022-01-03T12:58:00\",\"2022-01-03T12:59:00\",\"2022-01-03T13:00:00\",\"2022-01-03T13:01:00\",\"2022-01-03T13:02:00\",\"2022-01-03T13:03:00\",\"2022-01-03T13:04:00\",\"2022-01-03T13:05:00\",\"2022-01-03T13:06:00\",\"2022-01-03T13:07:00\",\"2022-01-03T13:08:00\",\"2022-01-03T13:09:00\",\"2022-01-03T13:10:00\",\"2022-01-03T13:11:00\",\"2022-01-03T13:12:00\",\"2022-01-03T13:13:00\",\"2022-01-03T13:14:00\",\"2022-01-03T13:15:00\",\"2022-01-03T13:16:00\",\"2022-01-03T13:17:00\",\"2022-01-03T13:18:00\",\"2022-01-03T13:19:00\",\"2022-01-03T13:20:00\",\"2022-01-03T13:21:00\",\"2022-01-03T13:22:00\",\"2022-01-03T13:23:00\",\"2022-01-03T13:24:00\",\"2022-01-03T13:25:00\",\"2022-01-03T13:26:00\",\"2022-01-03T13:27:00\",\"2022-01-03T13:28:00\",\"2022-01-03T13:29:00\",\"2022-01-03T13:30:00\",\"2022-01-03T13:31:00\",\"2022-01-03T13:32:00\",\"2022-01-03T13:33:00\",\"2022-01-03T13:34:00\",\"2022-01-03T13:35:00\",\"2022-01-03T13:36:00\",\"2022-01-03T13:37:00\",\"2022-01-03T13:38:00\",\"2022-01-03T13:39:00\",\"2022-01-03T13:40:00\",\"2022-01-03T13:41:00\",\"2022-01-03T13:42:00\",\"2022-01-03T13:43:00\",\"2022-01-03T13:44:00\",\"2022-01-03T13:45:00\",\"2022-01-03T13:46:00\",\"2022-01-03T13:47:00\",\"2022-01-03T13:48:00\",\"2022-01-03T13:49:00\",\"2022-01-03T13:50:00\",\"2022-01-03T13:51:00\",\"2022-01-03T13:52:00\",\"2022-01-03T13:53:00\",\"2022-01-03T13:54:00\",\"2022-01-03T13:55:00\",\"2022-01-03T13:56:00\",\"2022-01-03T13:57:00\",\"2022-01-03T13:58:00\",\"2022-01-03T13:59:00\",\"2022-01-03T14:00:00\",\"2022-01-03T14:01:00\",\"2022-01-03T14:02:00\",\"2022-01-03T14:03:00\",\"2022-01-03T14:04:00\",\"2022-01-03T14:05:00\",\"2022-01-03T14:06:00\",\"2022-01-03T14:07:00\",\"2022-01-03T14:08:00\",\"2022-01-03T14:09:00\",\"2022-01-03T14:10:00\",\"2022-01-03T14:11:00\",\"2022-01-03T14:12:00\",\"2022-01-03T14:13:00\",\"2022-01-03T14:14:00\",\"2022-01-03T14:15:00\",\"2022-01-03T14:16:00\",\"2022-01-03T14:17:00\",\"2022-01-03T14:18:00\",\"2022-01-03T14:19:00\",\"2022-01-03T14:20:00\",\"2022-01-03T14:21:00\",\"2022-01-03T14:22:00\",\"2022-01-03T14:23:00\",\"2022-01-03T14:24:00\",\"2022-01-03T14:25:00\",\"2022-01-03T14:26:00\",\"2022-01-03T14:27:00\",\"2022-01-03T14:28:00\",\"2022-01-03T14:29:00\",\"2022-01-03T14:30:00\",\"2022-01-03T14:31:00\",\"2022-01-03T14:32:00\",\"2022-01-03T14:33:00\",\"2022-01-03T14:34:00\",\"2022-01-03T14:35:00\",\"2022-01-03T14:36:00\",\"2022-01-03T14:37:00\",\"2022-01-03T14:38:00\",\"2022-01-03T14:39:00\",\"2022-01-03T14:40:00\",\"2022-01-03T14:41:00\",\"2022-01-03T14:42:00\",\"2022-01-03T14:43:00\",\"2022-01-03T14:44:00\",\"2022-01-03T14:45:00\",\"2022-01-03T14:46:00\",\"2022-01-03T14:47:00\",\"2022-01-03T14:48:00\",\"2022-01-03T14:49:00\",\"2022-01-03T14:50:00\",\"2022-01-03T14:51:00\",\"2022-01-03T14:52:00\",\"2022-01-03T14:53:00\",\"2022-01-03T14:54:00\",\"2022-01-03T14:55:00\",\"2022-01-03T14:56:00\",\"2022-01-03T14:57:00\",\"2022-01-03T14:58:00\",\"2022-01-03T14:59:00\",\"2022-01-03T15:00:00\",\"2022-01-03T15:01:00\",\"2022-01-03T15:02:00\",\"2022-01-03T15:03:00\",\"2022-01-03T15:04:00\",\"2022-01-03T15:05:00\",\"2022-01-03T15:06:00\",\"2022-01-03T15:07:00\",\"2022-01-03T15:08:00\",\"2022-01-03T15:09:00\",\"2022-01-03T15:10:00\",\"2022-01-03T15:11:00\",\"2022-01-03T15:12:00\",\"2022-01-03T15:13:00\",\"2022-01-03T15:14:00\",\"2022-01-03T15:15:00\",\"2022-01-03T15:16:00\",\"2022-01-03T15:17:00\",\"2022-01-03T15:18:00\",\"2022-01-03T15:19:00\",\"2022-01-03T15:20:00\",\"2022-01-03T15:21:00\",\"2022-01-03T15:22:00\",\"2022-01-03T15:23:00\",\"2022-01-03T15:24:00\",\"2022-01-03T15:25:00\",\"2022-01-03T15:26:00\",\"2022-01-03T15:27:00\",\"2022-01-03T15:28:00\",\"2022-01-03T15:29:00\",\"2022-01-03T15:30:00\"],\"y\":[204.65,198.5,194.4,205.55,203.95,195.1,188.0,190.2,173.05,157.9,162.3,164.8,167.0,173.15,167.35,166.2,152.0,147.3,154.1,164.7,163.4,168.7,168.2,171.7,173.9,171.0,174.0,169.9,171.05,165.75,169.45,185.2,194.15,199.7,202.5,209.8,207.0,207.55,217.4,218.1,210.05,208.3,221.4,215.0,214.0,216.75,215.2,215.7,232.35,241.95,236.1,225.05,230.25,231.3,231.35,231.55,232.2,231.1,228.95,226.75,220.8,217.05,216.9,218.55,223.0,228.75,231.55,229.6,244.6,248.45,246.85,256.45,252.7,254.95,258.85,265.85,260.05,286.35,277.95,274.75,275.85,265.4,268.1,262.95,258.8,264.45,263.8,259.4,257.25,259.95,262.7,264.7,260.8,256.65,259.7,258.55,260.45,259.2,256.15,255.35,256.8,261.2,268.5,273.4,269.05,268.3,263.85,262.0,258.0,262.0,267.95,267.8,264.3,262.9,260.45,259.85,259.3,275.2,281.65,296.45,291.0,291.15,291.5,288.9,318.9,323.45,322.05,314.0,318.2,324.9,323.6,319.7,318.15,310.5,310.8,305.55,292.7,299.75,298.35,290.2,300.35,292.5,290.25,288.75,290.5,300.7,302.8,304.2,301.9,301.65,295.2,295.35,295.85,296.55,296.1,294.9,291.05,294.95,292.65,301.0,297.15,293.45,292.95,294.6,307.8,303.15,304.6,303.0,301.15,300.95,296.9,303.1,306.65,306.6,303.0,302.5,308.4,307.55,312.1,313.5,327.85,322.0,325.3,340.0,347.0,341.25,343.6,352.0,351.55,353.2,347.0,350.1,348.9,351.2,364.0,366.9,364.3,357.2,356.0,350.3,353.75,365.9,380.0,378.85,375.55,375.0,395.8,418.1,404.75,404.8,411.9,420.0,417.9,427.3,430.35,415.05,414.8,410.05,414.65,413.15,385.75,396.45,400.0,392.05,397.1,403.55,407.95,404.2,399.05,403.55,408.15,401.8,399.5,391.2,404.0,410.35,413.2,423.65,420.0,417.75,420.2,432.5,425.65,421.45,410.0,415.0,436.25,432.75,422.9,416.95,418.4,424.75,422.25,432.8,426.5,419.4,416.3,419.6,425.9,428.15,418.7,415.2,418.6,413.15,406.65,395.5,413.85,413.45,412.0,411.65,417.35,429.1,425.75,439.85,451.35,455.6,447.8,459.95,450.35,447.55,440.05,445.15,452.5,445.45,447.55,451.2,461.55,468.0,456.25,450.0,450.4,455.0,464.0,469.05,475.55,475.5,479.9,489.0,487.25,483.45,490.0,486.35,480.55,505.65,536.05,539.55,533.05,541.2,538.0,555.05,567.3,590.0,585.65,584.05,591.5,569.5,584.0,571.1,610.9,606.95,618.8,612.15,601.0,592.95,599.2,600.05,621.35,603.55,602.0,604.15,598.8,601.1,563.65,554.1,558.45,554.55,567.7,581.3,573.25,577.5,581.2,591.85,587.4,573.5,563.0,592.5,591.05,588.05,583.95,579.8,577.7,576.5,576.6,577.0,577.7,572.95,571.65,571.2,579.25,593.55,588.0,593.2,593.2,613.5,613.85,605.3,608.4,599.95,594.6,608.75,616.05,622.0,626.9,624.2,639.0,639.0],\"type\":\"scatter\"}],                        {\"template\":{\"data\":{\"histogram2dcontour\":[{\"type\":\"histogram2dcontour\",\"colorbar\":{\"outlinewidth\":0,\"ticks\":\"\"},\"colorscale\":[[0.0,\"#0d0887\"],[0.1111111111111111,\"#46039f\"],[0.2222222222222222,\"#7201a8\"],[0.3333333333333333,\"#9c179e\"],[0.4444444444444444,\"#bd3786\"],[0.5555555555555556,\"#d8576b\"],[0.6666666666666666,\"#ed7953\"],[0.7777777777777778,\"#fb9f3a\"],[0.8888888888888888,\"#fdca26\"],[1.0,\"#f0f921\"]]}],\"choropleth\":[{\"type\":\"choropleth\",\"colorbar\":{\"outlinewidth\":0,\"ticks\":\"\"}}],\"histogram2d\":[{\"type\":\"histogram2d\",\"colorbar\":{\"outlinewidth\":0,\"ticks\":\"\"},\"colorscale\":[[0.0,\"#0d0887\"],[0.1111111111111111,\"#46039f\"],[0.2222222222222222,\"#7201a8\"],[0.3333333333333333,\"#9c179e\"],[0.4444444444444444,\"#bd3786\"],[0.5555555555555556,\"#d8576b\"],[0.6666666666666666,\"#ed7953\"],[0.7777777777777778,\"#fb9f3a\"],[0.8888888888888888,\"#fdca26\"],[1.0,\"#f0f921\"]]}],\"heatmap\":[{\"type\":\"heatmap\",\"colorbar\":{\"outlinewidth\":0,\"ticks\":\"\"},\"colorscale\":[[0.0,\"#0d0887\"],[0.1111111111111111,\"#46039f\"],[0.2222222222222222,\"#7201a8\"],[0.3333333333333333,\"#9c179e\"],[0.4444444444444444,\"#bd3786\"],[0.5555555555555556,\"#d8576b\"],[0.6666666666666666,\"#ed7953\"],[0.7777777777777778,\"#fb9f3a\"],[0.8888888888888888,\"#fdca26\"],[1.0,\"#f0f921\"]]}],\"heatmapgl\":[{\"type\":\"heatmapgl\",\"colorbar\":{\"outlinewidth\":0,\"ticks\":\"\"},\"colorscale\":[[0.0,\"#0d0887\"],[0.1111111111111111,\"#46039f\"],[0.2222222222222222,\"#7201a8\"],[0.3333333333333333,\"#9c179e\"],[0.4444444444444444,\"#bd3786\"],[0.5555555555555556,\"#d8576b\"],[0.6666666666666666,\"#ed7953\"],[0.7777777777777778,\"#fb9f3a\"],[0.8888888888888888,\"#fdca26\"],[1.0,\"#f0f921\"]]}],\"contourcarpet\":[{\"type\":\"contourcarpet\",\"colorbar\":{\"outlinewidth\":0,\"ticks\":\"\"}}],\"contour\":[{\"type\":\"contour\",\"colorbar\":{\"outlinewidth\":0,\"ticks\":\"\"},\"colorscale\":[[0.0,\"#0d0887\"],[0.1111111111111111,\"#46039f\"],[0.2222222222222222,\"#7201a8\"],[0.3333333333333333,\"#9c179e\"],[0.4444444444444444,\"#bd3786\"],[0.5555555555555556,\"#d8576b\"],[0.6666666666666666,\"#ed7953\"],[0.7777777777777778,\"#fb9f3a\"],[0.8888888888888888,\"#fdca26\"],[1.0,\"#f0f921\"]]}],\"surface\":[{\"type\":\"surface\",\"colorbar\":{\"outlinewidth\":0,\"ticks\":\"\"},\"colorscale\":[[0.0,\"#0d0887\"],[0.1111111111111111,\"#46039f\"],[0.2222222222222222,\"#7201a8\"],[0.3333333333333333,\"#9c179e\"],[0.4444444444444444,\"#bd3786\"],[0.5555555555555556,\"#d8576b\"],[0.6666666666666666,\"#ed7953\"],[0.7777777777777778,\"#fb9f3a\"],[0.8888888888888888,\"#fdca26\"],[1.0,\"#f0f921\"]]}],\"mesh3d\":[{\"type\":\"mesh3d\",\"colorbar\":{\"outlinewidth\":0,\"ticks\":\"\"}}],\"scatter\":[{\"fillpattern\":{\"fillmode\":\"overlay\",\"size\":10,\"solidity\":0.2},\"type\":\"scatter\"}],\"parcoords\":[{\"type\":\"parcoords\",\"line\":{\"colorbar\":{\"outlinewidth\":0,\"ticks\":\"\"}}}],\"scatterpolargl\":[{\"type\":\"scatterpolargl\",\"marker\":{\"colorbar\":{\"outlinewidth\":0,\"ticks\":\"\"}}}],\"bar\":[{\"error_x\":{\"color\":\"#2a3f5f\"},\"error_y\":{\"color\":\"#2a3f5f\"},\"marker\":{\"line\":{\"color\":\"#E5ECF6\",\"width\":0.5},\"pattern\":{\"fillmode\":\"overlay\",\"size\":10,\"solidity\":0.2}},\"type\":\"bar\"}],\"scattergeo\":[{\"type\":\"scattergeo\",\"marker\":{\"colorbar\":{\"outlinewidth\":0,\"ticks\":\"\"}}}],\"scatterpolar\":[{\"type\":\"scatterpolar\",\"marker\":{\"colorbar\":{\"outlinewidth\":0,\"ticks\":\"\"}}}],\"histogram\":[{\"marker\":{\"pattern\":{\"fillmode\":\"overlay\",\"size\":10,\"solidity\":0.2}},\"type\":\"histogram\"}],\"scattergl\":[{\"type\":\"scattergl\",\"marker\":{\"colorbar\":{\"outlinewidth\":0,\"ticks\":\"\"}}}],\"scatter3d\":[{\"type\":\"scatter3d\",\"line\":{\"colorbar\":{\"outlinewidth\":0,\"ticks\":\"\"}},\"marker\":{\"colorbar\":{\"outlinewidth\":0,\"ticks\":\"\"}}}],\"scattermapbox\":[{\"type\":\"scattermapbox\",\"marker\":{\"colorbar\":{\"outlinewidth\":0,\"ticks\":\"\"}}}],\"scatterternary\":[{\"type\":\"scatterternary\",\"marker\":{\"colorbar\":{\"outlinewidth\":0,\"ticks\":\"\"}}}],\"scattercarpet\":[{\"type\":\"scattercarpet\",\"marker\":{\"colorbar\":{\"outlinewidth\":0,\"ticks\":\"\"}}}],\"carpet\":[{\"aaxis\":{\"endlinecolor\":\"#2a3f5f\",\"gridcolor\":\"white\",\"linecolor\":\"white\",\"minorgridcolor\":\"white\",\"startlinecolor\":\"#2a3f5f\"},\"baxis\":{\"endlinecolor\":\"#2a3f5f\",\"gridcolor\":\"white\",\"linecolor\":\"white\",\"minorgridcolor\":\"white\",\"startlinecolor\":\"#2a3f5f\"},\"type\":\"carpet\"}],\"table\":[{\"cells\":{\"fill\":{\"color\":\"#EBF0F8\"},\"line\":{\"color\":\"white\"}},\"header\":{\"fill\":{\"color\":\"#C8D4E3\"},\"line\":{\"color\":\"white\"}},\"type\":\"table\"}],\"barpolar\":[{\"marker\":{\"line\":{\"color\":\"#E5ECF6\",\"width\":0.5},\"pattern\":{\"fillmode\":\"overlay\",\"size\":10,\"solidity\":0.2}},\"type\":\"barpolar\"}],\"pie\":[{\"automargin\":true,\"type\":\"pie\"}]},\"layout\":{\"autotypenumbers\":\"strict\",\"colorway\":[\"#636efa\",\"#EF553B\",\"#00cc96\",\"#ab63fa\",\"#FFA15A\",\"#19d3f3\",\"#FF6692\",\"#B6E880\",\"#FF97FF\",\"#FECB52\"],\"font\":{\"color\":\"#2a3f5f\"},\"hovermode\":\"closest\",\"hoverlabel\":{\"align\":\"left\"},\"paper_bgcolor\":\"white\",\"plot_bgcolor\":\"#E5ECF6\",\"polar\":{\"bgcolor\":\"#E5ECF6\",\"angularaxis\":{\"gridcolor\":\"white\",\"linecolor\":\"white\",\"ticks\":\"\"},\"radialaxis\":{\"gridcolor\":\"white\",\"linecolor\":\"white\",\"ticks\":\"\"}},\"ternary\":{\"bgcolor\":\"#E5ECF6\",\"aaxis\":{\"gridcolor\":\"white\",\"linecolor\":\"white\",\"ticks\":\"\"},\"baxis\":{\"gridcolor\":\"white\",\"linecolor\":\"white\",\"ticks\":\"\"},\"caxis\":{\"gridcolor\":\"white\",\"linecolor\":\"white\",\"ticks\":\"\"}},\"coloraxis\":{\"colorbar\":{\"outlinewidth\":0,\"ticks\":\"\"}},\"colorscale\":{\"sequential\":[[0.0,\"#0d0887\"],[0.1111111111111111,\"#46039f\"],[0.2222222222222222,\"#7201a8\"],[0.3333333333333333,\"#9c179e\"],[0.4444444444444444,\"#bd3786\"],[0.5555555555555556,\"#d8576b\"],[0.6666666666666666,\"#ed7953\"],[0.7777777777777778,\"#fb9f3a\"],[0.8888888888888888,\"#fdca26\"],[1.0,\"#f0f921\"]],\"sequentialminus\":[[0.0,\"#0d0887\"],[0.1111111111111111,\"#46039f\"],[0.2222222222222222,\"#7201a8\"],[0.3333333333333333,\"#9c179e\"],[0.4444444444444444,\"#bd3786\"],[0.5555555555555556,\"#d8576b\"],[0.6666666666666666,\"#ed7953\"],[0.7777777777777778,\"#fb9f3a\"],[0.8888888888888888,\"#fdca26\"],[1.0,\"#f0f921\"]],\"diverging\":[[0,\"#8e0152\"],[0.1,\"#c51b7d\"],[0.2,\"#de77ae\"],[0.3,\"#f1b6da\"],[0.4,\"#fde0ef\"],[0.5,\"#f7f7f7\"],[0.6,\"#e6f5d0\"],[0.7,\"#b8e186\"],[0.8,\"#7fbc41\"],[0.9,\"#4d9221\"],[1,\"#276419\"]]},\"xaxis\":{\"gridcolor\":\"white\",\"linecolor\":\"white\",\"ticks\":\"\",\"title\":{\"standoff\":15},\"zerolinecolor\":\"white\",\"automargin\":true,\"zerolinewidth\":2},\"yaxis\":{\"gridcolor\":\"white\",\"linecolor\":\"white\",\"ticks\":\"\",\"title\":{\"standoff\":15},\"zerolinecolor\":\"white\",\"automargin\":true,\"zerolinewidth\":2},\"scene\":{\"xaxis\":{\"backgroundcolor\":\"#E5ECF6\",\"gridcolor\":\"white\",\"linecolor\":\"white\",\"showbackground\":true,\"ticks\":\"\",\"zerolinecolor\":\"white\",\"gridwidth\":2},\"yaxis\":{\"backgroundcolor\":\"#E5ECF6\",\"gridcolor\":\"white\",\"linecolor\":\"white\",\"showbackground\":true,\"ticks\":\"\",\"zerolinecolor\":\"white\",\"gridwidth\":2},\"zaxis\":{\"backgroundcolor\":\"#E5ECF6\",\"gridcolor\":\"white\",\"linecolor\":\"white\",\"showbackground\":true,\"ticks\":\"\",\"zerolinecolor\":\"white\",\"gridwidth\":2}},\"shapedefaults\":{\"line\":{\"color\":\"#2a3f5f\"}},\"annotationdefaults\":{\"arrowcolor\":\"#2a3f5f\",\"arrowhead\":0,\"arrowwidth\":1},\"geo\":{\"bgcolor\":\"white\",\"landcolor\":\"#E5ECF6\",\"subunitcolor\":\"white\",\"showland\":true,\"showlakes\":true,\"lakecolor\":\"white\"},\"title\":{\"x\":0.05},\"mapbox\":{\"style\":\"light\"}}},\"xaxis\":{\"rangeslider\":{\"visible\":true},\"showticklabels\":true,\"rangebreaks\":[{\"bounds\":[\"sat\",\"mon\"]},{\"bounds\":[16,9],\"pattern\":\"hour\"}]},\"yaxis\":{\"showticklabels\":true}},                        {\"responsive\": true}                    ).then(function(){\n",
       "                            \n",
       "var gd = document.getElementById('966befbf-d6eb-40dc-b448-ee2a90364d04');\n",
       "var x = new MutationObserver(function (mutations, observer) {{\n",
       "        var display = window.getComputedStyle(gd).display;\n",
       "        if (!display || display === 'none') {{\n",
       "            console.log([gd, 'removed!']);\n",
       "            Plotly.purge(gd);\n",
       "            observer.disconnect();\n",
       "        }}\n",
       "}});\n",
       "\n",
       "// Listen for the removal of the full notebook cells\n",
       "var notebookContainer = gd.closest('#notebook-container');\n",
       "if (notebookContainer) {{\n",
       "    x.observe(notebookContainer, {childList: true});\n",
       "}}\n",
       "\n",
       "// Listen for the clearing of the current output cell\n",
       "var outputEl = gd.closest('.output');\n",
       "if (outputEl) {{\n",
       "    x.observe(outputEl, {childList: true});\n",
       "}}\n",
       "\n",
       "                        })                };                });            </script>        </div>"
      ]
     },
     "metadata": {},
     "output_type": "display_data"
    }
   ],
   "source": []
  },
  {
   "cell_type": "code",
   "execution_count": null,
   "metadata": {},
   "outputs": [],
   "source": []
  }
 ],
 "metadata": {
  "kernelspec": {
   "display_name": "Python 3 (ipykernel)",
   "language": "python",
   "name": "python3"
  },
  "language_info": {
   "codemirror_mode": {
    "name": "ipython",
    "version": 3
   },
   "file_extension": ".py",
   "mimetype": "text/x-python",
   "name": "python",
   "nbconvert_exporter": "python",
   "pygments_lexer": "ipython3",
   "version": "3.9.7"
  },
  "vscode": {
   "interpreter": {
    "hash": "81794d4967e6c3204c66dcd87b604927b115b27c00565d3d43f05ba2f3a2cb0d"
   }
  }
 },
 "nbformat": 4,
 "nbformat_minor": 2
}
