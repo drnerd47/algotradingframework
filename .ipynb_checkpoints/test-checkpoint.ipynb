{
 "cells": [
  {
   "cell_type": "code",
   "execution_count": 13,
   "metadata": {},
   "outputs": [],
   "source": [
    "import datetime\n",
    "import atomic as atom\n",
    "import definitions as defs\n",
    "from pathlib import Path\n",
    "import pandas as pd\n",
    "import strategies\n",
    "import reporting as rep\n",
    "import generalconfigs as genconfigs\n",
    "import positionconfigs as posconfigs\n",
    "from openbox import sp\n",
    "import numpy as np\n",
    "import TIconfigs\n",
    "import operator\n",
    "import TIStrategies as tis\n",
    "import directional as direc\n",
    "from openbox import Optimizer\n",
    "\n",
    "import warnings\n",
    "warnings.filterwarnings(\"ignore\")\n",
    "\n",
    "user = \"SD\"\n",
    "\n",
    "if user == \"SD\":\n",
    "  Root = \"D:/Work/Sykes and Ray/\"\n",
    "  Result_path = \"D:/Work/Sykes and Ray/NIFTYOptionsData/OptionsData/Results/\"\n",
    "elif user == \"RI\":\n",
    "  Root = \"../\"\n",
    "  Result_path = \"Results/\"\n",
    "\n",
    "Banknifty_Path = Root + \"NIFTYOptionsData/OptionsData/Banknifty/\"\n",
    "Nifty_Path = Root + \"NIFTYOptionsData/OptionsData/Nifty/\"\n"
   ]
  },
  {
   "cell_type": "code",
   "execution_count": 14,
   "metadata": {},
   "outputs": [],
   "source": [
    "def get_RSI_ADXconfig_space_directionalN():\n",
    "    cs = sp.Space()\n",
    "    TBull = sp.Int(\"TBull\", 40, 80, q=5, default_value=60)\n",
    "    TBear = sp.Int(\"TBear\", 20, 60, q=5, default_value=40)\n",
    "    Sl = sp.Int(\"SL\", 0, 1, default_value=1)\n",
    "    Target = sp.Int(\"Target\", 0, 1, default_value=1)\n",
    "    SLPc = sp.Int(\"SLPc\", 5, 30, q=5, default_value=20)\n",
    "    TargetPc = sp.Int(\"TargetPc\", 50, 100, q=5, default_value=70)\n",
    "    Resample = sp.Int(\"Resample\", 1, 5, q=1, default_value=3)\n",
    "    ADXTBear = sp.Int(\"ADXTBear\", 15, 40, q=5, default_value=20)\n",
    "    ADXTBull = sp.Int(\"ADXTBull\", 15, 40, q=5, default_value=20)\n",
    "    rolling = sp.Int('rolling', 0, 1, default_value=1)\n",
    "    reenter = sp.Int('reenter', 0, 1, default_value=1)\n",
    "    Delta = sp.Int(\"Delta\", 0, 1500, q=50, default_value=0)\n",
    "    window = sp.Int(\"window\", 10, 20, q=2, default_value=14)\n",
    "    cs.add_variables([TBull, TBear, Sl, SLPc, Target, TargetPc, ADXTBear, ADXTBull, Resample, rolling, reenter, Delta, window])\n",
    "    return cs \n"
   ]
  },
  {
   "cell_type": "code",
   "execution_count": 15,
   "metadata": {},
   "outputs": [],
   "source": [
    "def get_objective_functionRSIADXNb(config):\n",
    "    # print(config)\n",
    "    start_date = datetime.date(2019, 2, 1)\n",
    "    end_date = datetime.date(2020, 12, 31)\n",
    "    delta = datetime.timedelta(days=1)\n",
    "\n",
    "    Resample = config['Resample']\n",
    "    window = config['window']\n",
    "    TBull = config['TBull']\n",
    "    TBear = config['TBear']\n",
    "    Sl = config['Sl']\n",
    "    Target = config['Target']\n",
    "    SLPc = config['SLPc']\n",
    "    TargetPc = config['TargetPc']\n",
    "    ADXTBull = config['ADXTBull']\n",
    "    ADXTBear = config['ADXTBear']\n",
    "    symbol = defs.N\n",
    "    action = defs.BUY\n",
    "    rolling = config['rolling']\n",
    "    reenter = config['reenter']\n",
    "    Delta = config[\"Delta\"]\n",
    "    \n",
    "\n",
    "    (TIconfig, generalconfig, positionconfig) = tis.GetRSIADXconfigsPB(action, symbol, Delta, Resample, TBull, TBear, Sl, SLPc, Target, TargetPc, \n",
    "                                                                       ADXTBull, ADXTBear, rolling, reenter, window)\n",
    "    data = direc.getTIIndicatorData(start_date, end_date, Nifty_Path, Banknifty_Path, generalconfig, TIconfig)\n",
    "    # print(TIconfig[0]['ThreshBull'])\n",
    "    # print(TIconfig[1]['ThreshBull'])\n",
    "    trade = pd.DataFrame()\n",
    "    trades = pd.DataFrame()\n",
    "\n",
    "    while start_date <= end_date:\n",
    "      date_string = start_date.strftime(\"%Y/Data%Y%m%d.csv\")\n",
    "      BNPath = Banknifty_Path + date_string\n",
    "      NPath = Nifty_Path + date_string\n",
    "      my_fileN = Path(NPath)\n",
    "      my_fileBN = Path(BNPath)\n",
    "      #print(\"Working on file - \"+date_string)\n",
    "      if my_fileN.exists() and my_fileBN.exists():\n",
    "        masterdfN = atom.LoadDF(NPath)\n",
    "        masterdfBN = atom.LoadDF(BNPath)\n",
    "        if (generalconfig[\"symbol\"] == defs.BN):\n",
    "          trade = strategies.DirectionalStrategy(data, masterdfBN, generalconfig, positionconfig, TIconfig, start_date)\n",
    "        elif (generalconfig[\"symbol\"] == defs.N):\n",
    "          trade = strategies.DirectionalStrategy(data, masterdfN, generalconfig, positionconfig, TIconfig, start_date)\n",
    "        #print(trade)\n",
    "        if (len(trade) > 0):\n",
    "          trades = trades.append(trade)\n",
    "      # else:\n",
    "      #   #print(\"No data for \" + start_date.strftime(\"%Y-%m-%d\"))  \n",
    "      start_date += delta\n",
    "\n",
    "    #data.to_csv(Result_path + \"Data_\" + approach + \".csv\")\n",
    "    # print(trades)\n",
    "    trades['date'] = pd.to_datetime(trades[\"date\"])\n",
    "    trades = trades.reset_index()\n",
    "    trades = trades.drop([\"index\"], axis = 1)\n",
    "    Daily_Chart = rep.GetDailyChart(trades)\n",
    "    Total_Profit_on_win_days = Daily_Chart[Daily_Chart[\"Daily pnl\"] > 0][\"Daily pnl\"].sum()\n",
    "    Total_Loss_on_bad_days = Daily_Chart[Daily_Chart[\"Daily pnl\"] < 0][\"Daily pnl\"].sum()\n",
    "    Overall_Net = Total_Profit_on_win_days - (-Total_Loss_on_bad_days)\n",
    "    Roll_max = Daily_Chart[\"Daily Cummulative pnl\"].rolling(window=Daily_Chart.size, min_periods=1).max()\n",
    "    Daily_Drawdown = Daily_Chart[\"Daily Cummulative pnl\"] - Roll_max\n",
    "    Max_Drawdown = min(Daily_Drawdown)\n",
    "    result = dict()\n",
    "    result['objs'] = [-1*Overall_Net, -1*Max_Drawdown]\n",
    "    return result"
   ]
  },
  {
   "cell_type": "code",
   "execution_count": 16,
   "metadata": {},
   "outputs": [
    {
     "data": {
      "text/plain": [
       "{'objs': [422194.61320000014, 422376.3524000001]}"
      ]
     },
     "execution_count": 16,
     "metadata": {},
     "output_type": "execute_result"
    }
   ],
   "source": [
    "config = {}\n",
    "config['Resample'] = 3\n",
    "config['window'] = 14\n",
    "config['TBull'] = 60\n",
    "config['TBear'] = 40\n",
    "config['SLPc'] = 20\n",
    "config['TargetPc'] = 70\n",
    "config['ADXTBear'] = 20\n",
    "config['ADXTBull'] = 20\n",
    "config['rolling'] = defs.YES\n",
    "config['reenter'] = defs.YES\n",
    "config[\"Delta\"] = 0\n",
    "config['Sl'] = defs.YES\n",
    "config['Target'] = defs.YES\n",
    "\n",
    "get_objective_functionRSIADXNb(config)"
   ]
  },
  {
   "cell_type": "markdown",
   "metadata": {},
   "source": [
    "RSI-ADX Nb"
   ]
  },
  {
   "cell_type": "code",
   "execution_count": 17,
   "metadata": {},
   "outputs": [
    {
     "name": "stderr",
     "output_type": "stream",
     "text": [
      "  0%|          | 0/50 [00:00<?, ?it/s]"
     ]
    },
    {
     "name": "stdout",
     "output_type": "stream",
     "text": [
      "[INFO] [2023-01-03 20:53:00,803] [MOHistoryContainer] Update pareto: config=Configuration(values={\n",
      "  'ADXTBear': 20,\n",
      "  'ADXTBull': 20,\n",
      "  'Delta': 0,\n",
      "  'Resample': 3,\n",
      "  'SL': 1,\n",
      "  'SLPc': 20,\n",
      "  'TBear': 40,\n",
      "  'TBull': 60,\n",
      "  'Target': 1,\n",
      "  'TargetPc': 70,\n",
      "  'reenter': 1,\n",
      "  'rolling': 1,\n",
      "  'window': 14,\n",
      "})\n",
      ", objs=[311724.4750000001, 311468.54999999964].\n",
      "[INFO] [2023-01-03 20:53:00,805] [OpenBox-mo] Iteration 1, objective value: [311724.4750000001, 311468.54999999964].\n"
     ]
    },
    {
     "name": "stderr",
     "output_type": "stream",
     "text": [
      "  2%|▏         | 1/50 [03:09<2:35:08, 189.98s/it]"
     ]
    },
    {
     "name": "stdout",
     "output_type": "stream",
     "text": [
      "[WARNING] [2023-01-03 20:53:08,494] [OpenBox-mo] Exception when calling objective function: index 12 is out of bounds for axis 0 with size 10\n",
      "[INFO] [2023-01-03 20:53:08,496] [OpenBox-mo] Iteration 2, objective value: [2147483647, 2147483647].\n"
     ]
    },
    {
     "name": "stderr",
     "output_type": "stream",
     "text": [
      "  4%|▍         | 2/50 [03:17<1:06:11, 82.75s/it] "
     ]
    },
    {
     "name": "stdout",
     "output_type": "stream",
     "text": [
      "[INFO] [2023-01-03 20:55:05,536] [MOHistoryContainer] Update pareto: config=Configuration(values={\n",
      "  'ADXTBear': 20,\n",
      "  'ADXTBull': 40,\n",
      "  'Delta': 950,\n",
      "  'Resample': 2,\n",
      "  'SL': 0,\n",
      "  'SLPc': 10,\n",
      "  'TBear': 40,\n",
      "  'TBull': 60,\n",
      "  'Target': 0,\n",
      "  'TargetPc': 75,\n",
      "  'reenter': 1,\n",
      "  'rolling': 1,\n",
      "  'window': 20,\n",
      "})\n",
      ", objs=[22025.350000000017, 26527.375000000015].\n",
      "[INFO] [2023-01-03 20:55:05,537] [MOHistoryContainer] Remove from pareto: config=Configuration(values={\n",
      "  'ADXTBear': 20,\n",
      "  'ADXTBull': 20,\n",
      "  'Delta': 0,\n",
      "  'Resample': 3,\n",
      "  'SL': 1,\n",
      "  'SLPc': 20,\n",
      "  'TBear': 40,\n",
      "  'TBull': 60,\n",
      "  'Target': 1,\n",
      "  'TargetPc': 70,\n",
      "  'reenter': 1,\n",
      "  'rolling': 1,\n",
      "  'window': 14,\n",
      "})\n",
      ", objs=[311724.4750000001, 311468.54999999964].\n",
      "[INFO] [2023-01-03 20:55:05,538] [OpenBox-mo] Iteration 3, objective value: [22025.350000000017, 26527.375000000015].\n"
     ]
    },
    {
     "name": "stderr",
     "output_type": "stream",
     "text": [
      "  6%|▌         | 3/50 [05:14<1:17:05, 98.41s/it]"
     ]
    },
    {
     "name": "stdout",
     "output_type": "stream",
     "text": [
      "[INFO] [2023-01-03 20:56:55,439] [OpenBox-mo] Iteration 4, objective value: [108788.60000000005, 119376.47500000005].\n"
     ]
    },
    {
     "name": "stderr",
     "output_type": "stream",
     "text": [
      "  8%|▊         | 4/50 [07:04<1:18:55, 102.95s/it]"
     ]
    },
    {
     "name": "stdout",
     "output_type": "stream",
     "text": [
      "[INFO] [2023-01-03 20:59:32,234] [MOHistoryContainer] Update pareto: config=Configuration(values={\n",
      "  'ADXTBear': 35,\n",
      "  'ADXTBull': 30,\n",
      "  'Delta': 1500,\n",
      "  'Resample': 1,\n",
      "  'SL': 1,\n",
      "  'SLPc': 30,\n",
      "  'TBear': 30,\n",
      "  'TBull': 50,\n",
      "  'Target': 1,\n",
      "  'TargetPc': 65,\n",
      "  'reenter': 0,\n",
      "  'rolling': 0,\n",
      "  'window': 16,\n",
      "})\n",
      ", objs=[14461.750000000016, 16747.27500000001].\n",
      "[INFO] [2023-01-03 20:59:32,234] [MOHistoryContainer] Remove from pareto: config=Configuration(values={\n",
      "  'ADXTBear': 20,\n",
      "  'ADXTBull': 40,\n",
      "  'Delta': 950,\n",
      "  'Resample': 2,\n",
      "  'SL': 0,\n",
      "  'SLPc': 10,\n",
      "  'TBear': 40,\n",
      "  'TBull': 60,\n",
      "  'Target': 0,\n",
      "  'TargetPc': 75,\n",
      "  'reenter': 1,\n",
      "  'rolling': 1,\n",
      "  'window': 20,\n",
      "})\n",
      ", objs=[22025.350000000017, 26527.375000000015].\n",
      "[INFO] [2023-01-03 20:59:32,234] [OpenBox-mo] Iteration 5, objective value: [14461.750000000016, 16747.27500000001].\n"
     ]
    },
    {
     "name": "stderr",
     "output_type": "stream",
     "text": [
      " 10%|█         | 5/50 [09:41<1:31:46, 122.36s/it]"
     ]
    },
    {
     "name": "stdout",
     "output_type": "stream",
     "text": [
      "[INFO] [2023-01-03 21:02:25,882] [OpenBox-mo] Iteration 6, objective value: [31825.300000000003, 44487.52499999999].\n"
     ]
    },
    {
     "name": "stderr",
     "output_type": "stream",
     "text": [
      " 12%|█▏        | 6/50 [12:35<1:42:31, 139.80s/it]"
     ]
    },
    {
     "name": "stdout",
     "output_type": "stream",
     "text": [
      "[INFO] [2023-01-03 21:04:01,709] [OpenBox-mo] Iteration 7, objective value: [24291.024999999994, 42743.62499999999].\n"
     ]
    },
    {
     "name": "stderr",
     "output_type": "stream",
     "text": [
      " 14%|█▍        | 7/50 [14:10<1:29:53, 125.42s/it]"
     ]
    },
    {
     "name": "stdout",
     "output_type": "stream",
     "text": [
      "[INFO] [2023-01-03 21:05:56,720] [MOHistoryContainer] Update pareto: config=Configuration(values={\n",
      "  'ADXTBear': 25,\n",
      "  'ADXTBull': 25,\n",
      "  'Delta': 1200,\n",
      "  'Resample': 3,\n",
      "  'SL': 0,\n",
      "  'SLPc': 10,\n",
      "  'TBear': 45,\n",
      "  'TBull': 60,\n",
      "  'Target': 1,\n",
      "  'TargetPc': 70,\n",
      "  'reenter': 0,\n",
      "  'rolling': 1,\n",
      "  'window': 10,\n",
      "})\n",
      ", objs=[12869.64999999998, 13330.499999999985].\n",
      "[INFO] [2023-01-03 21:05:56,721] [MOHistoryContainer] Remove from pareto: config=Configuration(values={\n",
      "  'ADXTBear': 35,\n",
      "  'ADXTBull': 30,\n",
      "  'Delta': 1500,\n",
      "  'Resample': 1,\n",
      "  'SL': 1,\n",
      "  'SLPc': 30,\n",
      "  'TBear': 30,\n",
      "  'TBull': 50,\n",
      "  'Target': 1,\n",
      "  'TargetPc': 65,\n",
      "  'reenter': 0,\n",
      "  'rolling': 0,\n",
      "  'window': 16,\n",
      "})\n",
      ", objs=[14461.750000000016, 16747.27500000001].\n",
      "[INFO] [2023-01-03 21:05:56,723] [OpenBox-mo] Iteration 8, objective value: [12869.64999999998, 13330.499999999985].\n"
     ]
    },
    {
     "name": "stderr",
     "output_type": "stream",
     "text": [
      " 16%|█▌        | 8/50 [16:05<1:25:28, 122.11s/it]"
     ]
    },
    {
     "name": "stdout",
     "output_type": "stream",
     "text": [
      "[WARNING] [2023-01-03 21:06:05,065] [OpenBox-mo] Exception when calling objective function: negative dimensions are not allowed\n",
      "[INFO] [2023-01-03 21:06:05,067] [OpenBox-mo] Iteration 9, objective value: [2147483647, 2147483647].\n"
     ]
    },
    {
     "name": "stderr",
     "output_type": "stream",
     "text": [
      " 18%|█▊        | 9/50 [16:14<59:08, 86.55s/it]   "
     ]
    },
    {
     "name": "stdout",
     "output_type": "stream",
     "text": [
      "[WARNING] [2023-01-03 21:06:13,592] [OpenBox-mo] Exception when calling objective function: negative dimensions are not allowed\n",
      "[INFO] [2023-01-03 21:06:13,594] [OpenBox-mo] Iteration 10, objective value: [2147483647, 2147483647].\n"
     ]
    },
    {
     "name": "stderr",
     "output_type": "stream",
     "text": [
      " 20%|██        | 10/50 [16:22<41:38, 62.46s/it]"
     ]
    },
    {
     "name": "stdout",
     "output_type": "stream",
     "text": [
      "[WARNING] [2023-01-03 21:06:13,595] [Advisor] No enough successful initial trials! Sample random configuration.\n",
      "[WARNING] [2023-01-03 21:06:22,291] [OpenBox-mo] Exception when calling objective function: index 20 is out of bounds for axis 0 with size 12\n",
      "[INFO] [2023-01-03 21:06:22,293] [OpenBox-mo] Iteration 11, objective value: [2147483647, 2147483647].\n"
     ]
    },
    {
     "name": "stderr",
     "output_type": "stream",
     "text": [
      " 22%|██▏       | 11/50 [16:31<29:54, 46.01s/it]"
     ]
    },
    {
     "name": "stdout",
     "output_type": "stream",
     "text": [
      "[WARNING] [2023-01-03 21:06:22,294] [Advisor] No enough successful initial trials! Sample random configuration.\n",
      "[INFO] [2023-01-03 21:08:42,931] [OpenBox-mo] Iteration 12, objective value: [45603.82499999999, 54097.87500000003].\n"
     ]
    },
    {
     "name": "stderr",
     "output_type": "stream",
     "text": [
      " 24%|██▍       | 12/50 [18:52<47:22, 74.79s/it]"
     ]
    },
    {
     "name": "stdout",
     "output_type": "stream",
     "text": [
      "[INFO] [2023-01-03 21:08:42,932] [Advisor] Sample random config. rand_prob=0.100000.\n",
      "[INFO] [2023-01-03 21:15:58,671] [OpenBox-mo] Iteration 13, objective value: [209608.65000000014, 215688.12500000003].\n"
     ]
    },
    {
     "name": "stderr",
     "output_type": "stream",
     "text": [
      " 26%|██▌       | 13/50 [26:07<1:53:33, 184.14s/it]"
     ]
    },
    {
     "name": "stdout",
     "output_type": "stream",
     "text": [
      "[WARNING] [2023-01-03 21:15:58,672] [Advisor] No enough successful initial trials! Sample random configuration.\n",
      "[INFO] [2023-01-03 21:17:38,976] [MOHistoryContainer] Update pareto: config=Configuration(values={\n",
      "  'ADXTBear': 35,\n",
      "  'ADXTBull': 25,\n",
      "  'Delta': 1350,\n",
      "  'Resample': 4,\n",
      "  'SL': 1,\n",
      "  'SLPc': 15,\n",
      "  'TBear': 45,\n",
      "  'TBull': 80,\n",
      "  'Target': 0,\n",
      "  'TargetPc': 85,\n",
      "  'reenter': 0,\n",
      "  'rolling': 1,\n",
      "  'window': 12,\n",
      "})\n",
      ", objs=[929.0500000000029, 13382.425].\n",
      "[INFO] [2023-01-03 21:17:38,977] [OpenBox-mo] Iteration 14, objective value: [929.0500000000029, 13382.425].\n"
     ]
    },
    {
     "name": "stderr",
     "output_type": "stream",
     "text": [
      " 28%|██▊       | 14/50 [27:48<1:35:17, 158.82s/it]"
     ]
    },
    {
     "name": "stdout",
     "output_type": "stream",
     "text": [
      "[INFO] [2023-01-03 21:19:42,509] [OpenBox-mo] Iteration 15, objective value: [14221.499999999993, 22154.349999999988].\n"
     ]
    },
    {
     "name": "stderr",
     "output_type": "stream",
     "text": [
      " 30%|███       | 15/50 [29:51<1:26:26, 148.18s/it]"
     ]
    },
    {
     "name": "stdout",
     "output_type": "stream",
     "text": [
      "[INFO] [2023-01-03 21:21:56,132] [OpenBox-mo] Iteration 16, objective value: [25177.875000000036, 29593.55000000001].\n"
     ]
    },
    {
     "name": "stderr",
     "output_type": "stream",
     "text": [
      " 32%|███▏      | 16/50 [32:05<1:21:29, 143.80s/it]"
     ]
    },
    {
     "name": "stdout",
     "output_type": "stream",
     "text": [
      "[INFO] [2023-01-03 21:23:59,931] [OpenBox-mo] Iteration 17, objective value: [16381.475000000017, 21356.97499999999].\n"
     ]
    },
    {
     "name": "stderr",
     "output_type": "stream",
     "text": [
      " 34%|███▍      | 17/50 [34:09<1:15:46, 137.78s/it]"
     ]
    },
    {
     "name": "stdout",
     "output_type": "stream",
     "text": [
      "[INFO] [2023-01-03 21:25:52,017] [MOHistoryContainer] Update pareto: config=Configuration(values={\n",
      "  'ADXTBear': 30,\n",
      "  'ADXTBull': 30,\n",
      "  'Delta': 1400,\n",
      "  'Resample': 4,\n",
      "  'SL': 0,\n",
      "  'SLPc': 15,\n",
      "  'TBear': 30,\n",
      "  'TBull': 55,\n",
      "  'Target': 0,\n",
      "  'TargetPc': 75,\n",
      "  'reenter': 1,\n",
      "  'rolling': 1,\n",
      "  'window': 20,\n",
      "})\n",
      ", objs=[-142.57499999999163, 7089.475000000009].\n",
      "[INFO] [2023-01-03 21:25:52,018] [MOHistoryContainer] Remove from pareto: config=Configuration(values={\n",
      "  'ADXTBear': 25,\n",
      "  'ADXTBull': 25,\n",
      "  'Delta': 1200,\n",
      "  'Resample': 3,\n",
      "  'SL': 0,\n",
      "  'SLPc': 10,\n",
      "  'TBear': 45,\n",
      "  'TBull': 60,\n",
      "  'Target': 1,\n",
      "  'TargetPc': 70,\n",
      "  'reenter': 0,\n",
      "  'rolling': 1,\n",
      "  'window': 10,\n",
      "})\n",
      ", objs=[12869.64999999998, 13330.499999999985].\n",
      "[INFO] [2023-01-03 21:25:52,018] [MOHistoryContainer] Remove from pareto: config=Configuration(values={\n",
      "  'ADXTBear': 35,\n",
      "  'ADXTBull': 25,\n",
      "  'Delta': 1350,\n",
      "  'Resample': 4,\n",
      "  'SL': 1,\n",
      "  'SLPc': 15,\n",
      "  'TBear': 45,\n",
      "  'TBull': 80,\n",
      "  'Target': 0,\n",
      "  'TargetPc': 85,\n",
      "  'reenter': 0,\n",
      "  'rolling': 1,\n",
      "  'window': 12,\n",
      "})\n",
      ", objs=[929.0500000000029, 13382.425].\n",
      "[INFO] [2023-01-03 21:25:52,020] [OpenBox-mo] Iteration 18, objective value: [-142.57499999999163, 7089.475000000009].\n"
     ]
    },
    {
     "name": "stderr",
     "output_type": "stream",
     "text": [
      " 36%|███▌      | 18/50 [36:01<1:09:21, 130.06s/it]"
     ]
    },
    {
     "name": "stdout",
     "output_type": "stream",
     "text": [
      "[INFO] [2023-01-03 21:28:02,506] [OpenBox-mo] Iteration 19, objective value: [18355.375000000004, 18372.050000000003].\n"
     ]
    },
    {
     "name": "stderr",
     "output_type": "stream",
     "text": [
      " 38%|███▊      | 19/50 [38:11<1:07:15, 130.19s/it]"
     ]
    },
    {
     "name": "stdout",
     "output_type": "stream",
     "text": [
      "[INFO] [2023-01-03 21:28:02,508] [Advisor] Sample random config. rand_prob=0.100000.\n",
      "[WARNING] [2023-01-03 21:28:11,322] [OpenBox-mo] Exception when calling objective function: negative dimensions are not allowed\n",
      "[INFO] [2023-01-03 21:28:11,322] [OpenBox-mo] Iteration 20, objective value: [2147483647, 2147483647].\n"
     ]
    },
    {
     "name": "stderr",
     "output_type": "stream",
     "text": [
      " 40%|████      | 20/50 [38:20<46:52, 93.75s/it]   "
     ]
    },
    {
     "name": "stdout",
     "output_type": "stream",
     "text": [
      "[INFO] [2023-01-03 21:30:31,121] [MOHistoryContainer] Update pareto: config=Configuration(values={\n",
      "  'ADXTBear': 25,\n",
      "  'ADXTBull': 30,\n",
      "  'Delta': 1300,\n",
      "  'Resample': 2,\n",
      "  'SL': 0,\n",
      "  'SLPc': 10,\n",
      "  'TBear': 30,\n",
      "  'TBull': 55,\n",
      "  'Target': 0,\n",
      "  'TargetPc': 75,\n",
      "  'reenter': 1,\n",
      "  'rolling': 1,\n",
      "  'window': 16,\n",
      "})\n",
      ", objs=[-8738.500000000004, 12478.924999999996].\n",
      "[INFO] [2023-01-03 21:30:31,123] [OpenBox-mo] Iteration 21, objective value: [-8738.500000000004, 12478.924999999996].\n"
     ]
    },
    {
     "name": "stderr",
     "output_type": "stream",
     "text": [
      " 42%|████▏     | 21/50 [40:40<51:59, 107.57s/it]"
     ]
    },
    {
     "name": "stdout",
     "output_type": "stream",
     "text": [
      "[INFO] [2023-01-03 21:32:35,533] [OpenBox-mo] Iteration 22, objective value: [17426.09999999998, 16966.09999999998].\n"
     ]
    },
    {
     "name": "stderr",
     "output_type": "stream",
     "text": [
      " 44%|████▍     | 22/50 [42:44<52:33, 112.63s/it]"
     ]
    },
    {
     "name": "stdout",
     "output_type": "stream",
     "text": [
      "[INFO] [2023-01-03 21:35:47,652] [MOHistoryContainer] Update pareto: config=Configuration(values={\n",
      "  'ADXTBear': 40,\n",
      "  'ADXTBull': 15,\n",
      "  'Delta': 1250,\n",
      "  'Resample': 1,\n",
      "  'SL': 1,\n",
      "  'SLPc': 25,\n",
      "  'TBear': 50,\n",
      "  'TBull': 70,\n",
      "  'Target': 0,\n",
      "  'TargetPc': 85,\n",
      "  'reenter': 1,\n",
      "  'rolling': 0,\n",
      "  'window': 12,\n",
      "})\n",
      ", objs=[-15873.574999999986, 4031.8500000000067].\n",
      "[INFO] [2023-01-03 21:35:47,653] [MOHistoryContainer] Remove from pareto: config=Configuration(values={\n",
      "  'ADXTBear': 30,\n",
      "  'ADXTBull': 30,\n",
      "  'Delta': 1400,\n",
      "  'Resample': 4,\n",
      "  'SL': 0,\n",
      "  'SLPc': 15,\n",
      "  'TBear': 30,\n",
      "  'TBull': 55,\n",
      "  'Target': 0,\n",
      "  'TargetPc': 75,\n",
      "  'reenter': 1,\n",
      "  'rolling': 1,\n",
      "  'window': 20,\n",
      "})\n",
      ", objs=[-142.57499999999163, 7089.475000000009].\n",
      "[INFO] [2023-01-03 21:35:47,654] [MOHistoryContainer] Remove from pareto: config=Configuration(values={\n",
      "  'ADXTBear': 25,\n",
      "  'ADXTBull': 30,\n",
      "  'Delta': 1300,\n",
      "  'Resample': 2,\n",
      "  'SL': 0,\n",
      "  'SLPc': 10,\n",
      "  'TBear': 30,\n",
      "  'TBull': 55,\n",
      "  'Target': 0,\n",
      "  'TargetPc': 75,\n",
      "  'reenter': 1,\n",
      "  'rolling': 1,\n",
      "  'window': 16,\n",
      "})\n",
      ", objs=[-8738.500000000004, 12478.924999999996].\n",
      "[INFO] [2023-01-03 21:35:47,655] [OpenBox-mo] Iteration 23, objective value: [-15873.574999999986, 4031.8500000000067].\n"
     ]
    },
    {
     "name": "stderr",
     "output_type": "stream",
     "text": [
      " 46%|████▌     | 23/50 [45:56<1:01:24, 136.48s/it]"
     ]
    },
    {
     "name": "stdout",
     "output_type": "stream",
     "text": [
      "[INFO] [2023-01-03 21:38:10,694] [OpenBox-mo] Iteration 24, objective value: [49027.925, 45684.900000000016].\n"
     ]
    },
    {
     "name": "stderr",
     "output_type": "stream",
     "text": [
      " 48%|████▊     | 24/50 [48:19<59:59, 138.45s/it]  "
     ]
    },
    {
     "name": "stdout",
     "output_type": "stream",
     "text": [
      "[INFO] [2023-01-03 21:40:07,163] [OpenBox-mo] Iteration 25, objective value: [15458.824999999988, 24649.174999999992].\n"
     ]
    },
    {
     "name": "stderr",
     "output_type": "stream",
     "text": [
      " 50%|█████     | 25/50 [50:16<54:56, 131.85s/it]"
     ]
    },
    {
     "name": "stdout",
     "output_type": "stream",
     "text": [
      "[INFO] [2023-01-03 21:43:46,402] [OpenBox-mo] Iteration 26, objective value: [-7797.924999999988, 8338.049999999997].\n"
     ]
    },
    {
     "name": "stderr",
     "output_type": "stream",
     "text": [
      " 52%|█████▏    | 26/50 [53:55<1:03:13, 158.07s/it]"
     ]
    },
    {
     "name": "stdout",
     "output_type": "stream",
     "text": [
      "[INFO] [2023-01-03 21:46:56,661] [OpenBox-mo] Iteration 27, objective value: [15609.900000000005, 11678.825000000015].\n"
     ]
    },
    {
     "name": "stderr",
     "output_type": "stream",
     "text": [
      " 54%|█████▍    | 27/50 [57:05<1:04:17, 167.73s/it]"
     ]
    },
    {
     "name": "stdout",
     "output_type": "stream",
     "text": [
      "[INFO] [2023-01-03 21:50:43,507] [OpenBox-mo] Iteration 28, objective value: [25001.850000000017, 28455.97500000001].\n"
     ]
    },
    {
     "name": "stderr",
     "output_type": "stream",
     "text": [
      " 56%|█████▌    | 28/50 [1:00:52<1:08:00, 185.46s/it]"
     ]
    },
    {
     "name": "stdout",
     "output_type": "stream",
     "text": [
      "[INFO] [2023-01-03 21:52:47,839] [OpenBox-mo] Iteration 29, objective value: [-14057.624999999996, 6288.0999999999985].\n"
     ]
    },
    {
     "name": "stderr",
     "output_type": "stream",
     "text": [
      " 58%|█████▊    | 29/50 [1:02:57<58:29, 167.12s/it]  "
     ]
    },
    {
     "name": "stdout",
     "output_type": "stream",
     "text": [
      "[INFO] [2023-01-03 21:55:12,546] [MOHistoryContainer] Update pareto: config=Configuration(values={\n",
      "  'ADXTBear': 15,\n",
      "  'ADXTBull': 40,\n",
      "  'Delta': 1300,\n",
      "  'Resample': 2,\n",
      "  'SL': 1,\n",
      "  'SLPc': 10,\n",
      "  'TBear': 35,\n",
      "  'TBull': 60,\n",
      "  'Target': 0,\n",
      "  'TargetPc': 65,\n",
      "  'reenter': 0,\n",
      "  'rolling': 1,\n",
      "  'window': 18,\n",
      "})\n",
      ", objs=[-522.9499999999916, 3809.4750000000026].\n",
      "[INFO] [2023-01-03 21:55:12,547] [OpenBox-mo] Iteration 30, objective value: [-522.9499999999916, 3809.4750000000026].\n"
     ]
    },
    {
     "name": "stderr",
     "output_type": "stream",
     "text": [
      " 60%|██████    | 30/50 [1:05:21<53:27, 160.40s/it]"
     ]
    },
    {
     "name": "stdout",
     "output_type": "stream",
     "text": [
      "[INFO] [2023-01-03 21:57:13,691] [MOHistoryContainer] Update pareto: config=Configuration(values={\n",
      "  'ADXTBear': 20,\n",
      "  'ADXTBull': 30,\n",
      "  'Delta': 1200,\n",
      "  'Resample': 3,\n",
      "  'SL': 0,\n",
      "  'SLPc': 10,\n",
      "  'TBear': 25,\n",
      "  'TBull': 45,\n",
      "  'Target': 0,\n",
      "  'TargetPc': 70,\n",
      "  'reenter': 0,\n",
      "  'rolling': 1,\n",
      "  'window': 18,\n",
      "})\n",
      ", objs=[-16836.299999999996, 18144.474999999995].\n",
      "[INFO] [2023-01-03 21:57:13,693] [OpenBox-mo] Iteration 31, objective value: [-16836.299999999996, 18144.474999999995].\n"
     ]
    },
    {
     "name": "stderr",
     "output_type": "stream",
     "text": [
      " 62%|██████▏   | 31/50 [1:07:22<47:03, 148.62s/it]"
     ]
    },
    {
     "name": "stdout",
     "output_type": "stream",
     "text": [
      "[INFO] [2023-01-03 21:57:13,695] [Advisor] Sample random config. rand_prob=0.100000.\n",
      "[WARNING] [2023-01-03 21:57:23,776] [OpenBox-mo] Exception when calling objective function: index 20 is out of bounds for axis 0 with size 2\n",
      "[INFO] [2023-01-03 21:57:23,776] [OpenBox-mo] Iteration 32, objective value: [2147483647, 2147483647].\n"
     ]
    },
    {
     "name": "stderr",
     "output_type": "stream",
     "text": [
      " 64%|██████▍   | 32/50 [1:07:32<32:07, 107.06s/it]"
     ]
    },
    {
     "name": "stdout",
     "output_type": "stream",
     "text": [
      "[INFO] [2023-01-03 21:59:49,695] [OpenBox-mo] Iteration 33, objective value: [-3160.474999999985, 7687.375000000013].\n"
     ]
    },
    {
     "name": "stderr",
     "output_type": "stream",
     "text": [
      " 66%|██████▌   | 33/50 [1:09:58<33:38, 118.72s/it]"
     ]
    },
    {
     "name": "stdout",
     "output_type": "stream",
     "text": [
      "[INFO] [2023-01-03 21:59:49,695] [Advisor] Sample random config. rand_prob=0.100000.\n",
      "[WARNING] [2023-01-03 21:59:59,189] [OpenBox-mo] Exception when calling objective function: index 16 is out of bounds for axis 0 with size 6\n",
      "[INFO] [2023-01-03 21:59:59,189] [OpenBox-mo] Iteration 34, objective value: [2147483647, 2147483647].\n"
     ]
    },
    {
     "name": "stderr",
     "output_type": "stream",
     "text": [
      " 68%|██████▊   | 34/50 [1:10:08<22:55, 85.95s/it] "
     ]
    },
    {
     "name": "stdout",
     "output_type": "stream",
     "text": [
      "[INFO] [2023-01-03 22:02:03,160] [OpenBox-mo] Iteration 35, objective value: [131.1999999999971, 11387.5].\n"
     ]
    },
    {
     "name": "stderr",
     "output_type": "stream",
     "text": [
      " 70%|███████   | 35/50 [1:12:12<24:20, 97.36s/it]"
     ]
    },
    {
     "name": "stdout",
     "output_type": "stream",
     "text": [
      "[INFO] [2023-01-03 22:05:36,632] [OpenBox-mo] Iteration 36, objective value: [3771.474999999994, 10404.150000000003].\n"
     ]
    },
    {
     "name": "stderr",
     "output_type": "stream",
     "text": [
      " 72%|███████▏  | 36/50 [1:15:45<30:50, 132.19s/it]"
     ]
    },
    {
     "name": "stdout",
     "output_type": "stream",
     "text": [
      "[INFO] [2023-01-03 22:07:48,741] [OpenBox-mo] Iteration 37, objective value: [14094.499999999993, 26773.700000000004].\n"
     ]
    },
    {
     "name": "stderr",
     "output_type": "stream",
     "text": [
      " 74%|███████▍  | 37/50 [1:17:57<28:38, 132.17s/it]"
     ]
    },
    {
     "name": "stdout",
     "output_type": "stream",
     "text": [
      "[INFO] [2023-01-03 22:10:04,384] [MOHistoryContainer] Update pareto: config=Configuration(values={\n",
      "  'ADXTBear': 20,\n",
      "  'ADXTBull': 35,\n",
      "  'Delta': 1200,\n",
      "  'Resample': 3,\n",
      "  'SL': 0,\n",
      "  'SLPc': 5,\n",
      "  'TBear': 35,\n",
      "  'TBull': 55,\n",
      "  'Target': 0,\n",
      "  'TargetPc': 50,\n",
      "  'reenter': 1,\n",
      "  'rolling': 1,\n",
      "  'window': 20,\n",
      "})\n",
      ", objs=[-3933.5250000000024, 3845.4250000000015].\n",
      "[INFO] [2023-01-03 22:10:04,384] [OpenBox-mo] Iteration 38, objective value: [-3933.5250000000024, 3845.4250000000015].\n"
     ]
    },
    {
     "name": "stderr",
     "output_type": "stream",
     "text": [
      " 76%|███████▌  | 38/50 [1:20:13<26:38, 133.21s/it]"
     ]
    },
    {
     "name": "stdout",
     "output_type": "stream",
     "text": [
      "[INFO] [2023-01-03 22:13:37,374] [OpenBox-mo] Iteration 39, objective value: [63893.65, 65333.27499999998].\n"
     ]
    },
    {
     "name": "stderr",
     "output_type": "stream",
     "text": [
      " 78%|███████▊  | 39/50 [1:23:46<28:48, 157.14s/it]"
     ]
    },
    {
     "name": "stdout",
     "output_type": "stream",
     "text": [
      "[INFO] [2023-01-03 22:15:27,368] [MOHistoryContainer] Update pareto: config=Configuration(values={\n",
      "  'ADXTBear': 20,\n",
      "  'ADXTBull': 40,\n",
      "  'Delta': 1250,\n",
      "  'Resample': 5,\n",
      "  'SL': 0,\n",
      "  'SLPc': 10,\n",
      "  'TBear': 30,\n",
      "  'TBull': 60,\n",
      "  'Target': 0,\n",
      "  'TargetPc': 65,\n",
      "  'reenter': 1,\n",
      "  'rolling': 1,\n",
      "  'window': 16,\n",
      "})\n",
      ", objs=[-11397.24999999999, 3117.6749999999993].\n",
      "[INFO] [2023-01-03 22:15:27,368] [MOHistoryContainer] Remove from pareto: config=Configuration(values={\n",
      "  'ADXTBear': 15,\n",
      "  'ADXTBull': 40,\n",
      "  'Delta': 1300,\n",
      "  'Resample': 2,\n",
      "  'SL': 1,\n",
      "  'SLPc': 10,\n",
      "  'TBear': 35,\n",
      "  'TBull': 60,\n",
      "  'Target': 0,\n",
      "  'TargetPc': 65,\n",
      "  'reenter': 0,\n",
      "  'rolling': 1,\n",
      "  'window': 18,\n",
      "})\n",
      ", objs=[-522.9499999999916, 3809.4750000000026].\n",
      "[INFO] [2023-01-03 22:15:27,369] [MOHistoryContainer] Remove from pareto: config=Configuration(values={\n",
      "  'ADXTBear': 20,\n",
      "  'ADXTBull': 35,\n",
      "  'Delta': 1200,\n",
      "  'Resample': 3,\n",
      "  'SL': 0,\n",
      "  'SLPc': 5,\n",
      "  'TBear': 35,\n",
      "  'TBull': 55,\n",
      "  'Target': 0,\n",
      "  'TargetPc': 50,\n",
      "  'reenter': 1,\n",
      "  'rolling': 1,\n",
      "  'window': 20,\n",
      "})\n",
      ", objs=[-3933.5250000000024, 3845.4250000000015].\n",
      "[INFO] [2023-01-03 22:15:27,371] [OpenBox-mo] Iteration 40, objective value: [-11397.24999999999, 3117.6749999999993].\n"
     ]
    },
    {
     "name": "stderr",
     "output_type": "stream",
     "text": [
      " 80%|████████  | 40/50 [1:25:36<23:49, 143.00s/it]"
     ]
    },
    {
     "name": "stdout",
     "output_type": "stream",
     "text": [
      "[INFO] [2023-01-03 22:17:24,347] [MOHistoryContainer] Update pareto: config=Configuration(values={\n",
      "  'ADXTBear': 20,\n",
      "  'ADXTBull': 40,\n",
      "  'Delta': 1250,\n",
      "  'Resample': 5,\n",
      "  'SL': 0,\n",
      "  'SLPc': 5,\n",
      "  'TBear': 20,\n",
      "  'TBull': 45,\n",
      "  'Target': 1,\n",
      "  'TargetPc': 55,\n",
      "  'reenter': 0,\n",
      "  'rolling': 1,\n",
      "  'window': 20,\n",
      "})\n",
      ", objs=[3381.0500000000043, 393.9999999999941].\n",
      "[INFO] [2023-01-03 22:17:24,349] [OpenBox-mo] Iteration 41, objective value: [3381.0500000000043, 393.9999999999941].\n"
     ]
    },
    {
     "name": "stderr",
     "output_type": "stream",
     "text": [
      " 82%|████████▏ | 41/50 [1:27:33<20:16, 135.19s/it]"
     ]
    },
    {
     "name": "stdout",
     "output_type": "stream",
     "text": [
      "[INFO] [2023-01-03 22:19:26,379] [OpenBox-mo] Iteration 42, objective value: [10604.55000000001, 16176.975000000008].\n"
     ]
    },
    {
     "name": "stderr",
     "output_type": "stream",
     "text": [
      " 84%|████████▍ | 42/50 [1:29:35<17:29, 131.24s/it]"
     ]
    },
    {
     "name": "stdout",
     "output_type": "stream",
     "text": [
      "[INFO] [2023-01-03 22:21:18,552] [OpenBox-mo] Iteration 43, objective value: [-10722.849999999984, 6808.900000000003].\n"
     ]
    },
    {
     "name": "stderr",
     "output_type": "stream",
     "text": [
      " 86%|████████▌ | 43/50 [1:31:27<14:38, 125.52s/it]"
     ]
    },
    {
     "name": "stdout",
     "output_type": "stream",
     "text": [
      "[INFO] [2023-01-03 22:23:18,939] [OpenBox-mo] Iteration 44, objective value: [-12081.524999999998, 5100.9749999999985].\n"
     ]
    },
    {
     "name": "stderr",
     "output_type": "stream",
     "text": [
      " 88%|████████▊ | 44/50 [1:33:28<12:23, 123.98s/it]"
     ]
    },
    {
     "name": "stdout",
     "output_type": "stream",
     "text": [
      "[INFO] [2023-01-03 22:25:16,552] [MOHistoryContainer] Update pareto: config=Configuration(values={\n",
      "  'ADXTBear': 15,\n",
      "  'ADXTBull': 40,\n",
      "  'Delta': 1100,\n",
      "  'Resample': 3,\n",
      "  'SL': 0,\n",
      "  'SLPc': 5,\n",
      "  'TBear': 25,\n",
      "  'TBull': 45,\n",
      "  'Target': 0,\n",
      "  'TargetPc': 50,\n",
      "  'reenter': 1,\n",
      "  'rolling': 1,\n",
      "  'window': 16,\n",
      "})\n",
      ", objs=[-13342.049999999997, 3874.199999999997].\n",
      "[INFO] [2023-01-03 22:25:16,553] [OpenBox-mo] Iteration 45, objective value: [-13342.049999999997, 3874.199999999997].\n"
     ]
    },
    {
     "name": "stderr",
     "output_type": "stream",
     "text": [
      " 90%|█████████ | 45/50 [1:35:25<10:10, 122.07s/it]"
     ]
    },
    {
     "name": "stdout",
     "output_type": "stream",
     "text": [
      "[INFO] [2023-01-03 22:27:09,996] [OpenBox-mo] Iteration 46, objective value: [8552.625000000007, 12105.150000000005].\n"
     ]
    },
    {
     "name": "stderr",
     "output_type": "stream",
     "text": [
      " 92%|█████████▏| 46/50 [1:37:19<07:57, 119.48s/it]"
     ]
    },
    {
     "name": "stdout",
     "output_type": "stream",
     "text": [
      "[INFO] [2023-01-03 22:29:02,042] [OpenBox-mo] Iteration 47, objective value: [1781.0000000000073, 14894.20000000001].\n"
     ]
    },
    {
     "name": "stderr",
     "output_type": "stream",
     "text": [
      " 94%|█████████▍| 47/50 [1:39:11<05:51, 117.25s/it]"
     ]
    },
    {
     "name": "stdout",
     "output_type": "stream",
     "text": [
      "[INFO] [2023-01-03 22:31:06,568] [OpenBox-mo] Iteration 48, objective value: [7646.400000000014, 8730.925000000014].\n"
     ]
    },
    {
     "name": "stderr",
     "output_type": "stream",
     "text": [
      " 96%|█████████▌| 48/50 [1:41:15<03:58, 119.43s/it]"
     ]
    },
    {
     "name": "stdout",
     "output_type": "stream",
     "text": [
      "[INFO] [2023-01-03 22:31:06,569] [Advisor] Sample random config. rand_prob=0.100000.\n",
      "[INFO] [2023-01-03 22:33:14,592] [OpenBox-mo] Iteration 49, objective value: [35072.50000000001, 44643.72499999999].\n"
     ]
    },
    {
     "name": "stderr",
     "output_type": "stream",
     "text": [
      " 98%|█████████▊| 49/50 [1:43:23<02:02, 122.01s/it]"
     ]
    },
    {
     "name": "stdout",
     "output_type": "stream",
     "text": [
      "[INFO] [2023-01-03 22:35:21,808] [MOHistoryContainer] Update pareto: config=Configuration(values={\n",
      "  'ADXTBear': 20,\n",
      "  'ADXTBull': 40,\n",
      "  'Delta': 1400,\n",
      "  'Resample': 3,\n",
      "  'SL': 0,\n",
      "  'SLPc': 25,\n",
      "  'TBear': 35,\n",
      "  'TBull': 65,\n",
      "  'Target': 0,\n",
      "  'TargetPc': 95,\n",
      "  'reenter': 1,\n",
      "  'rolling': 1,\n",
      "  'window': 12,\n",
      "})\n",
      ", objs=[-4193.049999999997, 2070.4000000000015].\n",
      "[INFO] [2023-01-03 22:35:21,810] [OpenBox-mo] Iteration 50, objective value: [-4193.049999999997, 2070.4000000000015].\n"
     ]
    },
    {
     "name": "stderr",
     "output_type": "stream",
     "text": [
      "100%|██████████| 50/50 [1:45:30<00:00, 126.62s/it]\n"
     ]
    },
    {
     "data": {
      "text/plain": [
       "+--------------------------------------------------------------------------------------------------------------------------------------------------------------------------------------------------------------------------------------------------------------------------------------------+\n",
       "| Parameters              | Optimal Value                                                                                                                                                                                                                                                    |\n",
       "+-------------------------+-------------------------------------------+-------------------------------------------+------------------------------------------+-----------------------------------------+------------------------------------------+------------------------------------------+\n",
       "| ADXTBear                | 40                                        | 20                                        | 20                                       | 20                                      | 15                                       | 20                                       |\n",
       "| ADXTBull                | 15                                        | 30                                        | 40                                       | 40                                      | 40                                       | 40                                       |\n",
       "| Delta                   | 1250                                      | 1200                                      | 1250                                     | 1250                                    | 1100                                     | 1400                                     |\n",
       "| Resample                | 1                                         | 3                                         | 5                                        | 5                                       | 3                                        | 3                                        |\n",
       "| SL                      | 1                                         | 0                                         | 0                                        | 0                                       | 0                                        | 0                                        |\n",
       "| SLPc                    | 25                                        | 10                                        | 10                                       | 5                                       | 5                                        | 25                                       |\n",
       "| TBear                   | 50                                        | 25                                        | 30                                       | 20                                      | 25                                       | 35                                       |\n",
       "| TBull                   | 70                                        | 45                                        | 60                                       | 45                                      | 45                                       | 65                                       |\n",
       "| Target                  | 0                                         | 0                                         | 0                                        | 1                                       | 0                                        | 0                                        |\n",
       "| TargetPc                | 85                                        | 70                                        | 65                                       | 55                                      | 50                                       | 95                                       |\n",
       "| reenter                 | 1                                         | 0                                         | 1                                        | 0                                       | 1                                        | 1                                        |\n",
       "| rolling                 | 0                                         | 1                                         | 1                                        | 1                                       | 1                                        | 1                                        |\n",
       "| window                  | 12                                        | 18                                        | 16                                       | 20                                      | 16                                       | 12                                       |\n",
       "+-------------------------+-------------------------------------------+-------------------------------------------+------------------------------------------+-----------------------------------------+------------------------------------------+------------------------------------------+\n",
       "| Optimal Objective Value | [-15873.574999999986, 4031.8500000000067] | [-16836.299999999996, 18144.474999999995] | [-11397.24999999999, 3117.6749999999993] | [3381.0500000000043, 393.9999999999941] | [-13342.049999999997, 3874.199999999997] | [-4193.049999999997, 2070.4000000000015] |\n",
       "+-------------------------+-------------------------------------------+-------------------------------------------+------------------------------------------+-----------------------------------------+------------------------------------------+------------------------------------------+\n",
       "| Num Configs             | 50                                        |                                           |                                          |                                         |                                          |                                          |\n",
       "+-------------------------+-------------------------------------------+-------------------------------------------+------------------------------------------+-----------------------------------------+------------------------------------------+------------------------------------------+"
      ]
     },
     "execution_count": 17,
     "metadata": {},
     "output_type": "execute_result"
    }
   ],
   "source": [
    "\n",
    "ref_point = [-1000,0]\n",
    "space = get_RSI_ADXconfig_space_directionalN()\n",
    "opt = Optimizer(\n",
    "    get_objective_functionRSIADXNb,\n",
    "    space,\n",
    "    num_objs=2,\n",
    "    num_constraints=0,\n",
    "    max_runs=50,\n",
    "    surrogate_type='gp',\n",
    "    acq_type='ehvi',\n",
    "    acq_optimizer_type='random_scipy',\n",
    "    initial_runs=10,\n",
    "    init_strategy='sobol',\n",
    "    ref_point=ref_point,\n",
    "    time_limit_per_trial=10000,\n",
    "    task_id='mo',\n",
    "    random_state=1,\n",
    ")\n",
    "opt.run()"
   ]
  },
  {
   "cell_type": "code",
   "execution_count": 18,
   "metadata": {},
   "outputs": [],
   "source": [
    "def get_objective_functionRSIADXNs(config):\n",
    "    # print(config)\n",
    "    start_date = datetime.date(2019, 2, 1)\n",
    "    end_date = datetime.date(2020, 12, 31)\n",
    "    delta = datetime.timedelta(days=1)\n",
    "\n",
    "    Resample = config['Resample']\n",
    "    window = config['window']\n",
    "    TBull = config['TBull']\n",
    "    TBear = config['TBear']\n",
    "    Sl = config['Sl']\n",
    "    Target = config['Target']\n",
    "    SLPc = config['SLPc']\n",
    "    TargetPc = config['TargetPc']\n",
    "    ADXTBull = config['ADXTBull']\n",
    "    ADXTBear = config['ADXTBear']\n",
    "    symbol = defs.N\n",
    "    action = defs.SELL\n",
    "    rolling = config['rolling']\n",
    "    reenter = config['reenter']\n",
    "    Delta = config[\"Delta\"]\n",
    "    \n",
    "\n",
    "    (TIconfig, generalconfig, positionconfig) = tis.GetRSIADXconfigsPB(action, symbol, Delta, Resample, TBull, TBear, Sl, SLPc, Target, TargetPc, \n",
    "                                                                       ADXTBull, ADXTBear, rolling, reenter, window)\n",
    "    data = direc.getTIIndicatorData(start_date, end_date, Nifty_Path, Banknifty_Path, generalconfig, TIconfig)\n",
    "    # print(TIconfig[0]['ThreshBull'])\n",
    "    # print(TIconfig[1]['ThreshBull'])\n",
    "    trade = pd.DataFrame()\n",
    "    trades = pd.DataFrame()\n",
    "\n",
    "    while start_date <= end_date:\n",
    "      date_string = start_date.strftime(\"%Y/Data%Y%m%d.csv\")\n",
    "      BNPath = Banknifty_Path + date_string\n",
    "      NPath = Nifty_Path + date_string\n",
    "      my_fileN = Path(NPath)\n",
    "      my_fileBN = Path(BNPath)\n",
    "      #print(\"Working on file - \"+date_string)\n",
    "      if my_fileN.exists() and my_fileBN.exists():\n",
    "        masterdfN = atom.LoadDF(NPath)\n",
    "        masterdfBN = atom.LoadDF(BNPath)\n",
    "        if (generalconfig[\"symbol\"] == defs.BN):\n",
    "          trade = strategies.DirectionalStrategy(data, masterdfBN, generalconfig, positionconfig, TIconfig, start_date)\n",
    "        elif (generalconfig[\"symbol\"] == defs.N):\n",
    "          trade = strategies.DirectionalStrategy(data, masterdfN, generalconfig, positionconfig, TIconfig, start_date)\n",
    "        #print(trade)\n",
    "        if (len(trade) > 0):\n",
    "          trades = trades.append(trade)\n",
    "      # else:\n",
    "      #   #print(\"No data for \" + start_date.strftime(\"%Y-%m-%d\"))  \n",
    "      start_date += delta\n",
    "\n",
    "    #data.to_csv(Result_path + \"Data_\" + approach + \".csv\")\n",
    "    # print(trades)\n",
    "    trades['date'] = pd.to_datetime(trades[\"date\"])\n",
    "    trades = trades.reset_index()\n",
    "    trades = trades.drop([\"index\"], axis = 1)\n",
    "    Daily_Chart = rep.GetDailyChart(trades)\n",
    "    Total_Profit_on_win_days = Daily_Chart[Daily_Chart[\"Daily pnl\"] > 0][\"Daily pnl\"].sum()\n",
    "    Total_Loss_on_bad_days = Daily_Chart[Daily_Chart[\"Daily pnl\"] < 0][\"Daily pnl\"].sum()\n",
    "    Overall_Net = Total_Profit_on_win_days - (-Total_Loss_on_bad_days)\n",
    "    Roll_max = Daily_Chart[\"Daily Cummulative pnl\"].rolling(window=Daily_Chart.size, min_periods=1).max()\n",
    "    Daily_Drawdown = Daily_Chart[\"Daily Cummulative pnl\"] - Roll_max\n",
    "    Max_Drawdown = min(Daily_Drawdown)\n",
    "    result = dict()\n",
    "    result['objs'] = [-1*Overall_Net, -1*Max_Drawdown]\n",
    "    return result"
   ]
  },
  {
   "cell_type": "markdown",
   "metadata": {},
   "source": [
    "RSI-ADX Ns"
   ]
  },
  {
   "cell_type": "code",
   "execution_count": 21,
   "metadata": {},
   "outputs": [
    {
     "name": "stderr",
     "output_type": "stream",
     "text": [
      "  0%|          | 0/50 [00:00<?, ?it/s]"
     ]
    },
    {
     "name": "stdout",
     "output_type": "stream",
     "text": [
      "[INFO] [2023-01-03 22:56:18,081] [MOHistoryContainer] Update pareto: config=Configuration(values={\n",
      "  'ADXTBear': 20,\n",
      "  'ADXTBull': 20,\n",
      "  'Delta': 0,\n",
      "  'Resample': 3,\n",
      "  'SL': 1,\n",
      "  'SLPc': 20,\n",
      "  'TBear': 40,\n",
      "  'TBull': 60,\n",
      "  'Target': 1,\n",
      "  'TargetPc': 70,\n",
      "  'reenter': 1,\n",
      "  'rolling': 1,\n",
      "  'window': 14,\n",
      "})\n",
      ", objs=[-107438.7749999999, 36925.07499999995].\n",
      "[INFO] [2023-01-03 22:56:18,082] [OpenBox-mo] Iteration 1, objective value: [-107438.7749999999, 36925.07499999995].\n"
     ]
    },
    {
     "name": "stderr",
     "output_type": "stream",
     "text": [
      "  2%|▏         | 1/50 [03:36<2:57:12, 216.99s/it]"
     ]
    },
    {
     "name": "stdout",
     "output_type": "stream",
     "text": [
      "[WARNING] [2023-01-03 22:56:27,755] [OpenBox-mo] Exception when calling objective function: index 12 is out of bounds for axis 0 with size 10\n",
      "[INFO] [2023-01-03 22:56:27,756] [OpenBox-mo] Iteration 2, objective value: [2147483647, 2147483647].\n"
     ]
    },
    {
     "name": "stderr",
     "output_type": "stream",
     "text": [
      "  4%|▍         | 2/50 [03:46<1:16:01, 95.04s/it] "
     ]
    },
    {
     "name": "stdout",
     "output_type": "stream",
     "text": [
      "[INFO] [2023-01-03 22:58:54,690] [MOHistoryContainer] Update pareto: config=Configuration(values={\n",
      "  'ADXTBear': 20,\n",
      "  'ADXTBull': 40,\n",
      "  'Delta': 950,\n",
      "  'Resample': 2,\n",
      "  'SL': 0,\n",
      "  'SLPc': 10,\n",
      "  'TBear': 40,\n",
      "  'TBull': 60,\n",
      "  'Target': 0,\n",
      "  'TargetPc': 75,\n",
      "  'reenter': 1,\n",
      "  'rolling': 1,\n",
      "  'window': 20,\n",
      "})\n",
      ", objs=[-7854.649999999983, 6576.674999999997].\n",
      "[INFO] [2023-01-03 22:58:54,692] [OpenBox-mo] Iteration 3, objective value: [-7854.649999999983, 6576.674999999997].\n"
     ]
    },
    {
     "name": "stderr",
     "output_type": "stream",
     "text": [
      "  6%|▌         | 3/50 [06:13<1:33:00, 118.73s/it]"
     ]
    },
    {
     "name": "stdout",
     "output_type": "stream",
     "text": [
      "[INFO] [2023-01-03 23:01:13,999] [MOHistoryContainer] Update pareto: config=Configuration(values={\n",
      "  'ADXTBear': 15,\n",
      "  'ADXTBull': 20,\n",
      "  'Delta': 300,\n",
      "  'Resample': 5,\n",
      "  'SL': 0,\n",
      "  'SLPc': 10,\n",
      "  'TBear': 60,\n",
      "  'TBull': 75,\n",
      "  'Target': 0,\n",
      "  'TargetPc': 100,\n",
      "  'reenter': 1,\n",
      "  'rolling': 1,\n",
      "  'window': 14,\n",
      "})\n",
      ", objs=[-47111.399999999936, 31051.62499999999].\n",
      "[INFO] [2023-01-03 23:01:14,000] [OpenBox-mo] Iteration 4, objective value: [-47111.399999999936, 31051.62499999999].\n"
     ]
    },
    {
     "name": "stderr",
     "output_type": "stream",
     "text": [
      "  8%|▊         | 4/50 [08:32<1:37:15, 126.86s/it]"
     ]
    },
    {
     "name": "stdout",
     "output_type": "stream",
     "text": [
      "[INFO] [2023-01-03 23:04:08,934] [OpenBox-mo] Iteration 5, objective value: [-3245.3499999999967, 8318.124999999998].\n"
     ]
    },
    {
     "name": "stderr",
     "output_type": "stream",
     "text": [
      " 10%|█         | 5/50 [11:27<1:48:08, 144.19s/it]"
     ]
    },
    {
     "name": "stdout",
     "output_type": "stream",
     "text": [
      "[INFO] [2023-01-03 23:07:12,710] [MOHistoryContainer] Update pareto: config=Configuration(values={\n",
      "  'ADXTBear': 40,\n",
      "  'ADXTBull': 15,\n",
      "  'Delta': 1050,\n",
      "  'Resample': 1,\n",
      "  'SL': 1,\n",
      "  'SLPc': 20,\n",
      "  'TBear': 55,\n",
      "  'TBull': 70,\n",
      "  'Target': 0,\n",
      "  'TargetPc': 90,\n",
      "  'reenter': 1,\n",
      "  'rolling': 0,\n",
      "  'window': 14,\n",
      "})\n",
      ", objs=[-9754.700000000023, 15268.174999999997].\n",
      "[INFO] [2023-01-03 23:07:12,711] [OpenBox-mo] Iteration 6, objective value: [-9754.700000000023, 15268.174999999997].\n"
     ]
    },
    {
     "name": "stderr",
     "output_type": "stream",
     "text": [
      " 12%|█▏        | 6/50 [14:31<1:55:36, 157.65s/it]"
     ]
    },
    {
     "name": "stdout",
     "output_type": "stream",
     "text": [
      "[INFO] [2023-01-03 23:08:53,598] [OpenBox-mo] Iteration 7, objective value: [9037.57500000004, 33294.65000000002].\n"
     ]
    },
    {
     "name": "stderr",
     "output_type": "stream",
     "text": [
      " 14%|█▍        | 7/50 [16:12<1:39:41, 139.09s/it]"
     ]
    },
    {
     "name": "stdout",
     "output_type": "stream",
     "text": [
      "[INFO] [2023-01-03 23:10:56,771] [OpenBox-mo] Iteration 8, objective value: [14056.500000000005, 21409.22500000002].\n"
     ]
    },
    {
     "name": "stderr",
     "output_type": "stream",
     "text": [
      " 16%|█▌        | 8/50 [18:15<1:33:49, 134.03s/it]"
     ]
    },
    {
     "name": "stdout",
     "output_type": "stream",
     "text": [
      "[WARNING] [2023-01-03 23:11:05,530] [OpenBox-mo] Exception when calling objective function: negative dimensions are not allowed\n",
      "[INFO] [2023-01-03 23:11:05,532] [OpenBox-mo] Iteration 9, objective value: [2147483647, 2147483647].\n"
     ]
    },
    {
     "name": "stderr",
     "output_type": "stream",
     "text": [
      " 18%|█▊        | 9/50 [18:24<1:04:49, 94.87s/it] "
     ]
    },
    {
     "name": "stdout",
     "output_type": "stream",
     "text": [
      "[WARNING] [2023-01-03 23:11:14,280] [OpenBox-mo] Exception when calling objective function: negative dimensions are not allowed\n",
      "[INFO] [2023-01-03 23:11:14,296] [OpenBox-mo] Iteration 10, objective value: [2147483647, 2147483647].\n"
     ]
    },
    {
     "name": "stderr",
     "output_type": "stream",
     "text": [
      " 20%|██        | 10/50 [18:33<45:31, 68.28s/it] "
     ]
    },
    {
     "name": "stdout",
     "output_type": "stream",
     "text": [
      "[WARNING] [2023-01-03 23:11:14,296] [Advisor] No enough successful initial trials! Sample random configuration.\n",
      "[WARNING] [2023-01-03 23:11:23,136] [OpenBox-mo] Exception when calling objective function: index 20 is out of bounds for axis 0 with size 12\n",
      "[INFO] [2023-01-03 23:11:23,136] [OpenBox-mo] Iteration 11, objective value: [2147483647, 2147483647].\n"
     ]
    },
    {
     "name": "stderr",
     "output_type": "stream",
     "text": [
      " 22%|██▏       | 11/50 [18:42<32:33, 50.09s/it]"
     ]
    },
    {
     "name": "stdout",
     "output_type": "stream",
     "text": [
      "[WARNING] [2023-01-03 23:11:23,136] [Advisor] No enough successful initial trials! Sample random configuration.\n",
      "[INFO] [2023-01-03 23:13:49,640] [OpenBox-mo] Iteration 12, objective value: [-7781.174999999981, 30198.650000000012].\n"
     ]
    },
    {
     "name": "stderr",
     "output_type": "stream",
     "text": [
      " 24%|██▍       | 12/50 [21:08<50:18, 79.42s/it]"
     ]
    },
    {
     "name": "stdout",
     "output_type": "stream",
     "text": [
      "[INFO] [2023-01-03 23:13:49,640] [Advisor] Sample random config. rand_prob=0.100000.\n",
      "[INFO] [2023-01-03 23:20:45,674] [OpenBox-mo] Iteration 13, objective value: [36039.25, 86713.55000000006].\n"
     ]
    },
    {
     "name": "stderr",
     "output_type": "stream",
     "text": [
      " 26%|██▌       | 13/50 [28:04<1:51:51, 181.39s/it]"
     ]
    },
    {
     "name": "stdout",
     "output_type": "stream",
     "text": [
      "[WARNING] [2023-01-03 23:20:45,676] [Advisor] No enough successful initial trials! Sample random configuration.\n",
      "[INFO] [2023-01-03 23:22:26,635] [OpenBox-mo] Iteration 14, objective value: [5059.050000000005, 8170.350000000001].\n"
     ]
    },
    {
     "name": "stderr",
     "output_type": "stream",
     "text": [
      " 28%|██▊       | 14/50 [29:45<1:34:15, 157.10s/it]"
     ]
    },
    {
     "name": "stdout",
     "output_type": "stream",
     "text": [
      "[INFO] [2023-01-03 23:25:12,082] [OpenBox-mo] Iteration 15, objective value: [-28065.199999999953, 54089.42500000003].\n"
     ]
    },
    {
     "name": "stderr",
     "output_type": "stream",
     "text": [
      " 30%|███       | 15/50 [32:30<1:33:06, 159.61s/it]"
     ]
    },
    {
     "name": "stdout",
     "output_type": "stream",
     "text": [
      "[INFO] [2023-01-03 23:28:17,390] [OpenBox-mo] Iteration 16, objective value: [-40884.17499999999, 42326.87500000004].\n"
     ]
    },
    {
     "name": "stderr",
     "output_type": "stream",
     "text": [
      " 32%|███▏      | 16/50 [35:36<1:34:49, 167.35s/it]"
     ]
    },
    {
     "name": "stdout",
     "output_type": "stream",
     "text": [
      "[INFO] [2023-01-03 23:30:30,324] [OpenBox-mo] Iteration 17, objective value: [8231.925000000021, 18624.975000000002].\n"
     ]
    },
    {
     "name": "stderr",
     "output_type": "stream",
     "text": [
      " 34%|███▍      | 17/50 [37:49<1:26:21, 157.00s/it]"
     ]
    },
    {
     "name": "stdout",
     "output_type": "stream",
     "text": [
      "[INFO] [2023-01-03 23:33:04,208] [OpenBox-mo] Iteration 18, objective value: [-58026.32500000007, 50967.0].\n"
     ]
    },
    {
     "name": "stderr",
     "output_type": "stream",
     "text": [
      " 36%|███▌      | 18/50 [40:23<1:23:14, 156.06s/it]"
     ]
    },
    {
     "name": "stdout",
     "output_type": "stream",
     "text": [
      "[INFO] [2023-01-03 23:42:54,843] [OpenBox-mo] Iteration 19, objective value: [-13004.199999999953, 90623.05000000003].\n"
     ]
    },
    {
     "name": "stderr",
     "output_type": "stream",
     "text": [
      " 38%|███▊      | 19/50 [50:13<2:28:04, 286.58s/it]"
     ]
    },
    {
     "name": "stdout",
     "output_type": "stream",
     "text": [
      "[INFO] [2023-01-03 23:46:17,155] [MOHistoryContainer] Update pareto: config=Configuration(values={\n",
      "  'ADXTBear': 20,\n",
      "  'ADXTBull': 20,\n",
      "  'Delta': 200,\n",
      "  'Resample': 3,\n",
      "  'SL': 1,\n",
      "  'SLPc': 5,\n",
      "  'TBear': 40,\n",
      "  'TBull': 60,\n",
      "  'Target': 1,\n",
      "  'TargetPc': 70,\n",
      "  'reenter': 1,\n",
      "  'rolling': 1,\n",
      "  'window': 14,\n",
      "})\n",
      ", objs=[-124976.64999999997, 49288.72500000003].\n",
      "[INFO] [2023-01-03 23:46:17,155] [OpenBox-mo] Iteration 20, objective value: [-124976.64999999997, 49288.72500000003].\n"
     ]
    },
    {
     "name": "stderr",
     "output_type": "stream",
     "text": [
      " 40%|████      | 20/50 [53:36<2:10:38, 261.28s/it]"
     ]
    },
    {
     "name": "stdout",
     "output_type": "stream",
     "text": [
      "[INFO] [2023-01-03 23:48:24,619] [OpenBox-mo] Iteration 21, objective value: [567.1500000000015, 14330.550000000008].\n"
     ]
    },
    {
     "name": "stderr",
     "output_type": "stream",
     "text": [
      " 42%|████▏     | 21/50 [55:43<1:46:52, 221.11s/it]"
     ]
    },
    {
     "name": "stdout",
     "output_type": "stream",
     "text": [
      "[INFO] [2023-01-03 23:51:13,022] [OpenBox-mo] Iteration 22, objective value: [17630.54999999999, 87188.45000000001].\n"
     ]
    },
    {
     "name": "stderr",
     "output_type": "stream",
     "text": [
      " 44%|████▍     | 22/50 [58:31<1:35:48, 205.30s/it]"
     ]
    },
    {
     "name": "stdout",
     "output_type": "stream",
     "text": [
      "[INFO] [2023-01-03 23:53:21,525] [OpenBox-mo] Iteration 23, objective value: [15967.349999999995, 27763.324999999997].\n"
     ]
    },
    {
     "name": "stderr",
     "output_type": "stream",
     "text": [
      " 46%|████▌     | 23/50 [1:00:40<1:22:00, 182.25s/it]"
     ]
    },
    {
     "name": "stdout",
     "output_type": "stream",
     "text": [
      "[INFO] [2023-01-03 23:55:38,872] [MOHistoryContainer] Update pareto: config=Configuration(values={\n",
      "  'ADXTBear': 20,\n",
      "  'ADXTBull': 20,\n",
      "  'Delta': 1150,\n",
      "  'Resample': 3,\n",
      "  'SL': 1,\n",
      "  'SLPc': 15,\n",
      "  'TBear': 40,\n",
      "  'TBull': 60,\n",
      "  'Target': 0,\n",
      "  'TargetPc': 75,\n",
      "  'reenter': 1,\n",
      "  'rolling': 1,\n",
      "  'window': 14,\n",
      "})\n",
      ", objs=[-16208.725000000017, 17251.100000000002].\n",
      "[INFO] [2023-01-03 23:55:38,874] [OpenBox-mo] Iteration 24, objective value: [-16208.725000000017, 17251.100000000002].\n"
     ]
    },
    {
     "name": "stderr",
     "output_type": "stream",
     "text": [
      " 48%|████▊     | 24/50 [1:02:57<1:13:08, 168.78s/it]"
     ]
    },
    {
     "name": "stdout",
     "output_type": "stream",
     "text": [
      "[INFO] [2023-01-03 23:57:53,818] [OpenBox-mo] Iteration 25, objective value: [4849.0500000000175, 35283.77500000001].\n"
     ]
    },
    {
     "name": "stderr",
     "output_type": "stream",
     "text": [
      " 50%|█████     | 25/50 [1:05:12<1:06:05, 158.63s/it]"
     ]
    },
    {
     "name": "stdout",
     "output_type": "stream",
     "text": [
      "[INFO] [2023-01-04 00:02:01,048] [OpenBox-mo] Iteration 26, objective value: [-71937.5249999999, 41071.125000000015].\n"
     ]
    },
    {
     "name": "stderr",
     "output_type": "stream",
     "text": [
      " 52%|█████▏    | 26/50 [1:09:19<1:14:05, 185.21s/it]"
     ]
    },
    {
     "name": "stdout",
     "output_type": "stream",
     "text": [
      "[INFO] [2023-01-04 00:04:03,913] [OpenBox-mo] Iteration 27, objective value: [18001.899999999994, 22858.374999999996].\n"
     ]
    },
    {
     "name": "stderr",
     "output_type": "stream",
     "text": [
      " 54%|█████▍    | 27/50 [1:11:22<1:03:49, 166.51s/it]"
     ]
    },
    {
     "name": "stdout",
     "output_type": "stream",
     "text": [
      "[INFO] [2023-01-04 00:06:17,715] [MOHistoryContainer] Update pareto: config=Configuration(values={\n",
      "  'ADXTBear': 20,\n",
      "  'ADXTBull': 20,\n",
      "  'Delta': 800,\n",
      "  'Resample': 3,\n",
      "  'SL': 1,\n",
      "  'SLPc': 10,\n",
      "  'TBear': 40,\n",
      "  'TBull': 60,\n",
      "  'Target': 0,\n",
      "  'TargetPc': 75,\n",
      "  'reenter': 1,\n",
      "  'rolling': 1,\n",
      "  'window': 18,\n",
      "})\n",
      ", objs=[-10252.424999999996, 6802.724999999999].\n",
      "[INFO] [2023-01-04 00:06:17,716] [MOHistoryContainer] Remove from pareto: config=Configuration(values={\n",
      "  'ADXTBear': 40,\n",
      "  'ADXTBull': 15,\n",
      "  'Delta': 1050,\n",
      "  'Resample': 1,\n",
      "  'SL': 1,\n",
      "  'SLPc': 20,\n",
      "  'TBear': 55,\n",
      "  'TBull': 70,\n",
      "  'Target': 0,\n",
      "  'TargetPc': 90,\n",
      "  'reenter': 1,\n",
      "  'rolling': 0,\n",
      "  'window': 14,\n",
      "})\n",
      ", objs=[-9754.700000000023, 15268.174999999997].\n",
      "[INFO] [2023-01-04 00:06:17,718] [OpenBox-mo] Iteration 28, objective value: [-10252.424999999996, 6802.724999999999].\n"
     ]
    },
    {
     "name": "stderr",
     "output_type": "stream",
     "text": [
      " 56%|█████▌    | 28/50 [1:13:36<57:27, 156.69s/it]  "
     ]
    },
    {
     "name": "stdout",
     "output_type": "stream",
     "text": [
      "[INFO] [2023-01-04 00:08:34,961] [OpenBox-mo] Iteration 29, objective value: [13419.075000000019, 22667.30000000001].\n"
     ]
    },
    {
     "name": "stderr",
     "output_type": "stream",
     "text": [
      " 58%|█████▊    | 29/50 [1:15:53<52:48, 150.86s/it]"
     ]
    },
    {
     "name": "stdout",
     "output_type": "stream",
     "text": [
      "[INFO] [2023-01-04 00:10:49,046] [OpenBox-mo] Iteration 30, objective value: [-9518.049999999974, 21721.175000000007].\n"
     ]
    },
    {
     "name": "stderr",
     "output_type": "stream",
     "text": [
      " 60%|██████    | 30/50 [1:18:07<48:36, 145.83s/it]"
     ]
    },
    {
     "name": "stdout",
     "output_type": "stream",
     "text": [
      "[INFO] [2023-01-04 00:14:18,064] [MOHistoryContainer] Update pareto: config=Configuration(values={\n",
      "  'ADXTBear': 20,\n",
      "  'ADXTBull': 20,\n",
      "  'Delta': 0,\n",
      "  'Resample': 4,\n",
      "  'SL': 1,\n",
      "  'SLPc': 20,\n",
      "  'TBear': 45,\n",
      "  'TBull': 60,\n",
      "  'Target': 1,\n",
      "  'TargetPc': 75,\n",
      "  'reenter': 1,\n",
      "  'rolling': 1,\n",
      "  'window': 12,\n",
      "})\n",
      ", objs=[-91621.57499999995, 31304.375000000007].\n",
      "[INFO] [2023-01-04 00:14:18,065] [OpenBox-mo] Iteration 31, objective value: [-91621.57499999995, 31304.375000000007].\n"
     ]
    },
    {
     "name": "stderr",
     "output_type": "stream",
     "text": [
      " 62%|██████▏   | 31/50 [1:21:36<52:10, 164.78s/it]"
     ]
    },
    {
     "name": "stdout",
     "output_type": "stream",
     "text": [
      "[INFO] [2023-01-04 00:16:27,512] [OpenBox-mo] Iteration 32, objective value: [14395.025000000009, 19733.824999999997].\n"
     ]
    },
    {
     "name": "stderr",
     "output_type": "stream",
     "text": [
      " 64%|██████▍   | 32/50 [1:23:46<46:15, 154.18s/it]"
     ]
    },
    {
     "name": "stdout",
     "output_type": "stream",
     "text": [
      "[INFO] [2023-01-04 00:16:27,514] [Advisor] Sample random config. rand_prob=0.100000.\n",
      "[INFO] [2023-01-04 00:18:31,724] [OpenBox-mo] Iteration 33, objective value: [7738.600000000013, 29865.899999999994].\n"
     ]
    },
    {
     "name": "stderr",
     "output_type": "stream",
     "text": [
      " 66%|██████▌   | 33/50 [1:25:50<41:08, 145.19s/it]"
     ]
    },
    {
     "name": "stdout",
     "output_type": "stream",
     "text": [
      "[INFO] [2023-01-04 00:18:31,726] [Advisor] Sample random config. rand_prob=0.100000.\n",
      "[WARNING] [2023-01-04 00:18:40,660] [OpenBox-mo] Exception when calling objective function: index 16 is out of bounds for axis 0 with size 6\n",
      "[INFO] [2023-01-04 00:18:40,663] [OpenBox-mo] Iteration 34, objective value: [2147483647, 2147483647].\n"
     ]
    },
    {
     "name": "stderr",
     "output_type": "stream",
     "text": [
      " 68%|██████▊   | 34/50 [1:25:59<27:49, 104.32s/it]"
     ]
    },
    {
     "name": "stdout",
     "output_type": "stream",
     "text": [
      "[INFO] [2023-01-04 00:21:52,129] [OpenBox-mo] Iteration 35, objective value: [-59876.024999999965, 37934.200000000026].\n"
     ]
    },
    {
     "name": "stderr",
     "output_type": "stream",
     "text": [
      " 70%|███████   | 35/50 [1:29:11<32:36, 130.46s/it]"
     ]
    },
    {
     "name": "stdout",
     "output_type": "stream",
     "text": [
      "[INFO] [2023-01-04 00:25:15,648] [OpenBox-mo] Iteration 36, objective value: [-8671.374999999942, 60370.55000000005].\n"
     ]
    },
    {
     "name": "stderr",
     "output_type": "stream",
     "text": [
      " 72%|███████▏  | 36/50 [1:32:34<35:33, 152.38s/it]"
     ]
    },
    {
     "name": "stdout",
     "output_type": "stream",
     "text": [
      "[INFO] [2023-01-04 00:28:38,021] [MOHistoryContainer] Update pareto: config=Configuration(values={\n",
      "  'ADXTBear': 25,\n",
      "  'ADXTBull': 20,\n",
      "  'Delta': 0,\n",
      "  'Resample': 4,\n",
      "  'SL': 1,\n",
      "  'SLPc': 20,\n",
      "  'TBear': 45,\n",
      "  'TBull': 60,\n",
      "  'Target': 1,\n",
      "  'TargetPc': 70,\n",
      "  'reenter': 1,\n",
      "  'rolling': 1,\n",
      "  'window': 12,\n",
      "})\n",
      ", objs=[-149307.02499999985, 25117.79999999996].\n",
      "[INFO] [2023-01-04 00:28:38,021] [MOHistoryContainer] Remove from pareto: config=Configuration(values={\n",
      "  'ADXTBear': 20,\n",
      "  'ADXTBull': 20,\n",
      "  'Delta': 0,\n",
      "  'Resample': 3,\n",
      "  'SL': 1,\n",
      "  'SLPc': 20,\n",
      "  'TBear': 40,\n",
      "  'TBull': 60,\n",
      "  'Target': 1,\n",
      "  'TargetPc': 70,\n",
      "  'reenter': 1,\n",
      "  'rolling': 1,\n",
      "  'window': 14,\n",
      "})\n",
      ", objs=[-107438.7749999999, 36925.07499999995].\n",
      "[INFO] [2023-01-04 00:28:38,022] [MOHistoryContainer] Remove from pareto: config=Configuration(values={\n",
      "  'ADXTBear': 15,\n",
      "  'ADXTBull': 20,\n",
      "  'Delta': 300,\n",
      "  'Resample': 5,\n",
      "  'SL': 0,\n",
      "  'SLPc': 10,\n",
      "  'TBear': 60,\n",
      "  'TBull': 75,\n",
      "  'Target': 0,\n",
      "  'TargetPc': 100,\n",
      "  'reenter': 1,\n",
      "  'rolling': 1,\n",
      "  'window': 14,\n",
      "})\n",
      ", objs=[-47111.399999999936, 31051.62499999999].\n",
      "[INFO] [2023-01-04 00:28:38,023] [MOHistoryContainer] Remove from pareto: config=Configuration(values={\n",
      "  'ADXTBear': 20,\n",
      "  'ADXTBull': 20,\n",
      "  'Delta': 200,\n",
      "  'Resample': 3,\n",
      "  'SL': 1,\n",
      "  'SLPc': 5,\n",
      "  'TBear': 40,\n",
      "  'TBull': 60,\n",
      "  'Target': 1,\n",
      "  'TargetPc': 70,\n",
      "  'reenter': 1,\n",
      "  'rolling': 1,\n",
      "  'window': 14,\n",
      "})\n",
      ", objs=[-124976.64999999997, 49288.72500000003].\n",
      "[INFO] [2023-01-04 00:28:38,025] [MOHistoryContainer] Remove from pareto: config=Configuration(values={\n",
      "  'ADXTBear': 20,\n",
      "  'ADXTBull': 20,\n",
      "  'Delta': 0,\n",
      "  'Resample': 4,\n",
      "  'SL': 1,\n",
      "  'SLPc': 20,\n",
      "  'TBear': 45,\n",
      "  'TBull': 60,\n",
      "  'Target': 1,\n",
      "  'TargetPc': 75,\n",
      "  'reenter': 1,\n",
      "  'rolling': 1,\n",
      "  'window': 12,\n",
      "})\n",
      ", objs=[-91621.57499999995, 31304.375000000007].\n",
      "[INFO] [2023-01-04 00:28:38,026] [OpenBox-mo] Iteration 37, objective value: [-149307.02499999985, 25117.79999999996].\n"
     ]
    },
    {
     "name": "stderr",
     "output_type": "stream",
     "text": [
      " 74%|███████▍  | 37/50 [1:35:56<36:15, 167.38s/it]"
     ]
    },
    {
     "name": "stdout",
     "output_type": "stream",
     "text": [
      "[INFO] [2023-01-04 00:31:38,030] [OpenBox-mo] Iteration 38, objective value: [-80294.97499999998, 35212.525].\n"
     ]
    },
    {
     "name": "stderr",
     "output_type": "stream",
     "text": [
      " 76%|███████▌  | 38/50 [1:38:56<34:13, 171.17s/it]"
     ]
    },
    {
     "name": "stdout",
     "output_type": "stream",
     "text": [
      "[INFO] [2023-01-04 00:34:47,399] [OpenBox-mo] Iteration 39, objective value: [-127014.12499999994, 25565.32500000002].\n"
     ]
    },
    {
     "name": "stderr",
     "output_type": "stream",
     "text": [
      " 78%|███████▊  | 39/50 [1:42:06<32:22, 176.63s/it]"
     ]
    },
    {
     "name": "stdout",
     "output_type": "stream",
     "text": [
      "[INFO] [2023-01-04 00:37:58,472] [MOHistoryContainer] Update pareto: config=Configuration(values={\n",
      "  'ADXTBear': 35,\n",
      "  'ADXTBull': 20,\n",
      "  'Delta': 0,\n",
      "  'Resample': 4,\n",
      "  'SL': 1,\n",
      "  'SLPc': 15,\n",
      "  'TBear': 40,\n",
      "  'TBull': 60,\n",
      "  'Target': 1,\n",
      "  'TargetPc': 70,\n",
      "  'reenter': 1,\n",
      "  'rolling': 1,\n",
      "  'window': 10,\n",
      "})\n",
      ", objs=[-130303.0, 18722.899999999998].\n",
      "[INFO] [2023-01-04 00:37:58,474] [OpenBox-mo] Iteration 40, objective value: [-130303.0, 18722.899999999998].\n"
     ]
    },
    {
     "name": "stderr",
     "output_type": "stream",
     "text": [
      " 80%|████████  | 40/50 [1:45:17<30:09, 180.96s/it]"
     ]
    },
    {
     "name": "stdout",
     "output_type": "stream",
     "text": [
      "[INFO] [2023-01-04 00:40:43,477] [OpenBox-mo] Iteration 41, objective value: [-125465.12499999988, 26672.750000000015].\n"
     ]
    },
    {
     "name": "stderr",
     "output_type": "stream",
     "text": [
      " 82%|████████▏ | 41/50 [1:48:02<26:25, 176.17s/it]"
     ]
    },
    {
     "name": "stdout",
     "output_type": "stream",
     "text": [
      "[INFO] [2023-01-04 00:43:43,450] [OpenBox-mo] Iteration 42, objective value: [-91537.74999999988, 28388.124999999993].\n"
     ]
    },
    {
     "name": "stderr",
     "output_type": "stream",
     "text": [
      " 84%|████████▍ | 42/50 [1:51:02<23:38, 177.31s/it]"
     ]
    },
    {
     "name": "stdout",
     "output_type": "stream",
     "text": [
      "[INFO] [2023-01-04 00:46:20,074] [OpenBox-mo] Iteration 43, objective value: [-117438.94999999995, 26064.35000000002].\n"
     ]
    },
    {
     "name": "stderr",
     "output_type": "stream",
     "text": [
      " 86%|████████▌ | 43/50 [1:53:38<19:57, 171.11s/it]"
     ]
    },
    {
     "name": "stdout",
     "output_type": "stream",
     "text": [
      "[INFO] [2023-01-04 00:48:59,573] [OpenBox-mo] Iteration 44, objective value: [-113184.65000000002, 21146.925000000032].\n"
     ]
    },
    {
     "name": "stderr",
     "output_type": "stream",
     "text": [
      " 88%|████████▊ | 44/50 [1:56:18<16:45, 167.62s/it]"
     ]
    },
    {
     "name": "stdout",
     "output_type": "stream",
     "text": [
      "[INFO] [2023-01-04 00:51:46,056] [OpenBox-mo] Iteration 45, objective value: [-102869.375, 25739.600000000006].\n"
     ]
    },
    {
     "name": "stderr",
     "output_type": "stream",
     "text": [
      " 90%|█████████ | 45/50 [1:59:04<13:56, 167.28s/it]"
     ]
    },
    {
     "name": "stdout",
     "output_type": "stream",
     "text": [
      "[INFO] [2023-01-04 00:51:46,057] [Advisor] Sample random config. rand_prob=0.100000.\n",
      "[INFO] [2023-01-04 00:55:47,824] [OpenBox-mo] Iteration 46, objective value: [-8740.074999999968, 34672.925].\n"
     ]
    },
    {
     "name": "stderr",
     "output_type": "stream",
     "text": [
      " 92%|█████████▏| 46/50 [2:03:06<12:38, 189.63s/it]"
     ]
    },
    {
     "name": "stdout",
     "output_type": "stream",
     "text": [
      "[INFO] [2023-01-04 00:59:30,052] [OpenBox-mo] Iteration 47, objective value: [-112616.67499999999, 22290.124999999956].\n"
     ]
    },
    {
     "name": "stderr",
     "output_type": "stream",
     "text": [
      " 94%|█████████▍| 47/50 [2:06:48<09:58, 199.41s/it]"
     ]
    },
    {
     "name": "stdout",
     "output_type": "stream",
     "text": [
      "[INFO] [2023-01-04 01:02:18,183] [OpenBox-mo] Iteration 48, objective value: [-91430.67499999993, 32972.20000000007].\n"
     ]
    },
    {
     "name": "stderr",
     "output_type": "stream",
     "text": [
      " 96%|█████████▌| 48/50 [2:09:37<06:20, 190.03s/it]"
     ]
    },
    {
     "name": "stdout",
     "output_type": "stream",
     "text": [
      "[INFO] [2023-01-04 01:04:35,153] [OpenBox-mo] Iteration 49, objective value: [-91142.17499999993, 19697.325000000084].\n"
     ]
    },
    {
     "name": "stderr",
     "output_type": "stream",
     "text": [
      " 98%|█████████▊| 49/50 [2:11:54<02:54, 174.11s/it]"
     ]
    },
    {
     "name": "stdout",
     "output_type": "stream",
     "text": [
      "[INFO] [2023-01-04 01:06:08,245] [OpenBox-mo] Iteration 50, objective value: [10826.825000000015, 10884.900000000018].\n"
     ]
    },
    {
     "name": "stderr",
     "output_type": "stream",
     "text": [
      "100%|██████████| 50/50 [2:13:27<00:00, 160.14s/it]\n"
     ]
    },
    {
     "data": {
      "text/plain": [
       "+---------------------------------------------------------------------------------------------------------------------------------------------------------------------------------------------------------------------------------------+\n",
       "| Parameters              | Optimal Value                                                                                                                                                                                               |\n",
       "+-------------------------+-----------------------------------------+-------------------------------------------+------------------------------------------+------------------------------------------+---------------------------------+\n",
       "| ADXTBear                | 20                                      | 20                                        | 20                                       | 25                                       | 35                              |\n",
       "| ADXTBull                | 40                                      | 20                                        | 20                                       | 20                                       | 20                              |\n",
       "| Delta                   | 950                                     | 1150                                      | 800                                      | 0                                        | 0                               |\n",
       "| Resample                | 2                                       | 3                                         | 3                                        | 4                                        | 4                               |\n",
       "| SL                      | 0                                       | 1                                         | 1                                        | 1                                        | 1                               |\n",
       "| SLPc                    | 10                                      | 15                                        | 10                                       | 20                                       | 15                              |\n",
       "| TBear                   | 40                                      | 40                                        | 40                                       | 45                                       | 40                              |\n",
       "| TBull                   | 60                                      | 60                                        | 60                                       | 60                                       | 60                              |\n",
       "| Target                  | 0                                       | 0                                         | 0                                        | 1                                        | 1                               |\n",
       "| TargetPc                | 75                                      | 75                                        | 75                                       | 70                                       | 70                              |\n",
       "| reenter                 | 1                                       | 1                                         | 1                                        | 1                                        | 1                               |\n",
       "| rolling                 | 1                                       | 1                                         | 1                                        | 1                                        | 1                               |\n",
       "| window                  | 20                                      | 14                                        | 18                                       | 12                                       | 10                              |\n",
       "+-------------------------+-----------------------------------------+-------------------------------------------+------------------------------------------+------------------------------------------+---------------------------------+\n",
       "| Optimal Objective Value | [-7854.649999999983, 6576.674999999997] | [-16208.725000000017, 17251.100000000002] | [-10252.424999999996, 6802.724999999999] | [-149307.02499999985, 25117.79999999996] | [-130303.0, 18722.899999999998] |\n",
       "+-------------------------+-----------------------------------------+-------------------------------------------+------------------------------------------+------------------------------------------+---------------------------------+\n",
       "| Num Configs             | 50                                      |                                           |                                          |                                          |                                 |\n",
       "+-------------------------+-----------------------------------------+-------------------------------------------+------------------------------------------+------------------------------------------+---------------------------------+"
      ]
     },
     "execution_count": 21,
     "metadata": {},
     "output_type": "execute_result"
    }
   ],
   "source": [
    "\n",
    "ref_point = [-1000,0]\n",
    "space = get_RSI_ADXconfig_space_directionalN()\n",
    "opt = Optimizer(\n",
    "    get_objective_functionRSIADXNs,\n",
    "    space,\n",
    "    num_objs=2,\n",
    "    num_constraints=0,\n",
    "    max_runs=50,\n",
    "    surrogate_type='gp',\n",
    "    acq_type='ehvi',\n",
    "    acq_optimizer_type='random_scipy',\n",
    "    initial_runs=10,\n",
    "    init_strategy='sobol',\n",
    "    ref_point=ref_point,\n",
    "    time_limit_per_trial=10000,\n",
    "    task_id='mo',\n",
    "    random_state=1,\n",
    ")\n",
    "opt.run()"
   ]
  },
  {
   "cell_type": "markdown",
   "metadata": {},
   "source": [
    "BANKNIFTY RSI-ADX"
   ]
  },
  {
   "cell_type": "code",
   "execution_count": 22,
   "metadata": {},
   "outputs": [],
   "source": [
    "def get_RSI_ADXconfig_space_directionalBN():\n",
    "    cs = sp.Space()\n",
    "    TBull = sp.Int(\"TBull\", 40, 80, q=5, default_value=60)\n",
    "    TBear = sp.Int(\"TBear\", 20, 60, q=5, default_value=40)\n",
    "    Sl = sp.Int(\"SL\", 0, 1, default_value=1)\n",
    "    Target = sp.Int(\"Target\", 0, 1, default_value=1)\n",
    "    SLPc = sp.Int(\"SLPc\", 5, 30, q=5, default_value=20)\n",
    "    TargetPc = sp.Int(\"TargetPc\", 50, 100, q=5, default_value=70)\n",
    "    Resample = sp.Int(\"Resample\", 1, 5, q=1, default_value=3)\n",
    "    ADXTBear = sp.Int(\"ADXTBear\", 15, 40, q=5, default_value=20)\n",
    "    ADXTBull = sp.Int(\"ADXTBull\", 15, 40, q=5, default_value=20)\n",
    "    rolling = sp.Int('rolling', 0, 1, default_value=1)\n",
    "    reenter = sp.Int('reenter', 0, 1, default_value=1)\n",
    "    Delta = sp.Int(\"Delta\", 0, 1500, q=100, default_value=0)\n",
    "    window = sp.Int(\"window\", 10, 20, q=2, default_value=14)\n",
    "    cs.add_variables([TBull, TBear, Sl, SLPc, Target, TargetPc, ADXTBear, ADXTBull, Resample, rolling, reenter, Delta, window])\n",
    "    return cs \n"
   ]
  },
  {
   "cell_type": "code",
   "execution_count": 23,
   "metadata": {},
   "outputs": [],
   "source": [
    "def get_objective_functionRSIADXBNs(config):\n",
    "    # print(config)\n",
    "    start_date = datetime.date(2019, 2, 1)\n",
    "    end_date = datetime.date(2020, 12, 31)\n",
    "    delta = datetime.timedelta(days=1)\n",
    "\n",
    "    Resample = config['Resample']\n",
    "    window = config['window']\n",
    "    TBull = config['TBull']\n",
    "    TBear = config['TBear']\n",
    "    Sl = config['Sl']\n",
    "    Target = config['Target']\n",
    "    SLPc = config['SLPc']\n",
    "    TargetPc = config['TargetPc']\n",
    "    ADXTBull = config['ADXTBull']\n",
    "    ADXTBear = config['ADXTBear']\n",
    "    symbol = defs.BN\n",
    "    action = defs.SELL\n",
    "    rolling = config['rolling']\n",
    "    reenter = config['reenter']\n",
    "    Delta = config[\"Delta\"]\n",
    "    \n",
    "\n",
    "    (TIconfig, generalconfig, positionconfig) = tis.GetRSIADXconfigsPB(action, symbol, Delta, Resample, TBull, TBear, Sl, SLPc, Target, TargetPc, \n",
    "                                                                       ADXTBull, ADXTBear, rolling, reenter, window)\n",
    "    data = direc.getTIIndicatorData(start_date, end_date, Nifty_Path, Banknifty_Path, generalconfig, TIconfig)\n",
    "    # print(TIconfig[0]['ThreshBull'])\n",
    "    # print(TIconfig[1]['ThreshBull'])\n",
    "    trade = pd.DataFrame()\n",
    "    trades = pd.DataFrame()\n",
    "\n",
    "    while start_date <= end_date:\n",
    "      date_string = start_date.strftime(\"%Y/Data%Y%m%d.csv\")\n",
    "      BNPath = Banknifty_Path + date_string\n",
    "      NPath = Nifty_Path + date_string\n",
    "      my_fileN = Path(NPath)\n",
    "      my_fileBN = Path(BNPath)\n",
    "      #print(\"Working on file - \"+date_string)\n",
    "      if my_fileN.exists() and my_fileBN.exists():\n",
    "        masterdfN = atom.LoadDF(NPath)\n",
    "        masterdfBN = atom.LoadDF(BNPath)\n",
    "        if (generalconfig[\"symbol\"] == defs.BN):\n",
    "          trade = strategies.DirectionalStrategy(data, masterdfBN, generalconfig, positionconfig, TIconfig, start_date)\n",
    "        elif (generalconfig[\"symbol\"] == defs.N):\n",
    "          trade = strategies.DirectionalStrategy(data, masterdfN, generalconfig, positionconfig, TIconfig, start_date)\n",
    "        #print(trade)\n",
    "        if (len(trade) > 0):\n",
    "          trades = trades.append(trade)\n",
    "      # else:\n",
    "      #   #print(\"No data for \" + start_date.strftime(\"%Y-%m-%d\"))  \n",
    "      start_date += delta\n",
    "\n",
    "    #data.to_csv(Result_path + \"Data_\" + approach + \".csv\")\n",
    "    # print(trades)\n",
    "    trades['date'] = pd.to_datetime(trades[\"date\"])\n",
    "    trades = trades.reset_index()\n",
    "    trades = trades.drop([\"index\"], axis = 1)\n",
    "    Daily_Chart = rep.GetDailyChart(trades)\n",
    "    Total_Profit_on_win_days = Daily_Chart[Daily_Chart[\"Daily pnl\"] > 0][\"Daily pnl\"].sum()\n",
    "    Total_Loss_on_bad_days = Daily_Chart[Daily_Chart[\"Daily pnl\"] < 0][\"Daily pnl\"].sum()\n",
    "    Overall_Net = Total_Profit_on_win_days - (-Total_Loss_on_bad_days)\n",
    "    Roll_max = Daily_Chart[\"Daily Cummulative pnl\"].rolling(window=Daily_Chart.size, min_periods=1).max()\n",
    "    Daily_Drawdown = Daily_Chart[\"Daily Cummulative pnl\"] - Roll_max\n",
    "    Max_Drawdown = min(Daily_Drawdown)\n",
    "    result = dict()\n",
    "    result['objs'] = [-1*Overall_Net, -1*Max_Drawdown]\n",
    "    return result"
   ]
  },
  {
   "cell_type": "markdown",
   "metadata": {},
   "source": [
    "RSI-ADX BNs"
   ]
  },
  {
   "cell_type": "code",
   "execution_count": 24,
   "metadata": {},
   "outputs": [
    {
     "name": "stderr",
     "output_type": "stream",
     "text": [
      "  0%|          | 0/50 [00:00<?, ?it/s]"
     ]
    },
    {
     "name": "stdout",
     "output_type": "stream",
     "text": [
      "[INFO] [2023-01-04 01:09:17,493] [MOHistoryContainer] Update pareto: config=Configuration(values={\n",
      "  'ADXTBear': 20,\n",
      "  'ADXTBull': 20,\n",
      "  'Delta': 0,\n",
      "  'Resample': 3,\n",
      "  'SL': 1,\n",
      "  'SLPc': 20,\n",
      "  'TBear': 40,\n",
      "  'TBull': 60,\n",
      "  'Target': 1,\n",
      "  'TargetPc': 70,\n",
      "  'reenter': 1,\n",
      "  'rolling': 1,\n",
      "  'window': 14,\n",
      "})\n",
      ", objs=[-153868.8999999999, 48110.750000000015].\n",
      "[INFO] [2023-01-04 01:09:17,494] [OpenBox-mo] Iteration 1, objective value: [-153868.8999999999, 48110.750000000015].\n"
     ]
    },
    {
     "name": "stderr",
     "output_type": "stream",
     "text": [
      "  2%|▏         | 1/50 [03:09<2:34:25, 189.09s/it]"
     ]
    },
    {
     "name": "stdout",
     "output_type": "stream",
     "text": [
      "[WARNING] [2023-01-04 01:09:27,424] [OpenBox-mo] Exception when calling objective function: index 12 is out of bounds for axis 0 with size 10\n",
      "[INFO] [2023-01-04 01:09:27,427] [OpenBox-mo] Iteration 2, objective value: [2147483647, 2147483647].\n"
     ]
    },
    {
     "name": "stderr",
     "output_type": "stream",
     "text": [
      "  4%|▍         | 2/50 [03:19<1:06:57, 83.70s/it] "
     ]
    },
    {
     "name": "stdout",
     "output_type": "stream",
     "text": [
      "[INFO] [2023-01-04 01:11:53,682] [MOHistoryContainer] Update pareto: config=Configuration(values={\n",
      "  'ADXTBear': 20,\n",
      "  'ADXTBull': 40,\n",
      "  'Delta': 900,\n",
      "  'Resample': 2,\n",
      "  'SL': 0,\n",
      "  'SLPc': 10,\n",
      "  'TBear': 40,\n",
      "  'TBull': 60,\n",
      "  'Target': 0,\n",
      "  'TargetPc': 75,\n",
      "  'reenter': 1,\n",
      "  'rolling': 1,\n",
      "  'window': 20,\n",
      "})\n",
      ", objs=[-21256.537500000006, 37407.0625].\n",
      "[INFO] [2023-01-04 01:11:53,682] [OpenBox-mo] Iteration 3, objective value: [-21256.537500000006, 37407.0625].\n"
     ]
    },
    {
     "name": "stderr",
     "output_type": "stream",
     "text": [
      "  6%|▌         | 3/50 [05:45<1:27:56, 112.27s/it]"
     ]
    },
    {
     "name": "stdout",
     "output_type": "stream",
     "text": [
      "[INFO] [2023-01-04 01:13:51,707] [OpenBox-mo] Iteration 4, objective value: [-40669.92500000005, 71886.82500000001].\n"
     ]
    },
    {
     "name": "stderr",
     "output_type": "stream",
     "text": [
      "  8%|▊         | 4/50 [07:43<1:27:48, 114.54s/it]"
     ]
    },
    {
     "name": "stdout",
     "output_type": "stream",
     "text": [
      "[INFO] [2023-01-04 01:17:00,999] [OpenBox-mo] Iteration 5, objective value: [3474.687500000029, 44257.18750000001].\n"
     ]
    },
    {
     "name": "stderr",
     "output_type": "stream",
     "text": [
      " 10%|█         | 5/50 [10:52<1:46:07, 141.50s/it]"
     ]
    },
    {
     "name": "stdout",
     "output_type": "stream",
     "text": [
      "[INFO] [2023-01-04 01:21:05,148] [OpenBox-mo] Iteration 6, objective value: [-10416.649999999849, 77441.2875].\n"
     ]
    },
    {
     "name": "stderr",
     "output_type": "stream",
     "text": [
      " 12%|█▏        | 6/50 [14:56<2:09:21, 176.40s/it]"
     ]
    },
    {
     "name": "stdout",
     "output_type": "stream",
     "text": [
      "[INFO] [2023-01-04 01:22:52,165] [OpenBox-mo] Iteration 7, objective value: [-17053.099999999977, 129946.81250000001].\n"
     ]
    },
    {
     "name": "stderr",
     "output_type": "stream",
     "text": [
      " 14%|█▍        | 7/50 [16:43<1:50:09, 153.72s/it]"
     ]
    },
    {
     "name": "stdout",
     "output_type": "stream",
     "text": [
      "[INFO] [2023-01-04 01:25:26,783] [MOHistoryContainer] Update pareto: config=Configuration(values={\n",
      "  'ADXTBear': 25,\n",
      "  'ADXTBull': 25,\n",
      "  'Delta': 1200,\n",
      "  'Resample': 3,\n",
      "  'SL': 0,\n",
      "  'SLPc': 10,\n",
      "  'TBear': 45,\n",
      "  'TBull': 60,\n",
      "  'Target': 1,\n",
      "  'TargetPc': 70,\n",
      "  'reenter': 0,\n",
      "  'rolling': 1,\n",
      "  'window': 10,\n",
      "})\n",
      ", objs=[-57130.43749999977, 40936.82500000005].\n",
      "[INFO] [2023-01-04 01:25:26,783] [OpenBox-mo] Iteration 8, objective value: [-57130.43749999977, 40936.82500000005].\n"
     ]
    },
    {
     "name": "stderr",
     "output_type": "stream",
     "text": [
      " 16%|█▌        | 8/50 [19:18<1:47:48, 154.00s/it]"
     ]
    },
    {
     "name": "stdout",
     "output_type": "stream",
     "text": [
      "[WARNING] [2023-01-04 01:25:36,796] [OpenBox-mo] Exception when calling objective function: negative dimensions are not allowed\n",
      "[INFO] [2023-01-04 01:25:36,800] [OpenBox-mo] Iteration 9, objective value: [2147483647, 2147483647].\n"
     ]
    },
    {
     "name": "stderr",
     "output_type": "stream",
     "text": [
      " 18%|█▊        | 9/50 [19:28<1:14:28, 108.99s/it]"
     ]
    },
    {
     "name": "stdout",
     "output_type": "stream",
     "text": [
      "[WARNING] [2023-01-04 01:25:46,445] [OpenBox-mo] Exception when calling objective function: negative dimensions are not allowed\n",
      "[INFO] [2023-01-04 01:25:46,448] [OpenBox-mo] Iteration 10, objective value: [2147483647, 2147483647].\n"
     ]
    },
    {
     "name": "stderr",
     "output_type": "stream",
     "text": [
      " 20%|██        | 10/50 [19:38<52:12, 78.32s/it]  "
     ]
    },
    {
     "name": "stdout",
     "output_type": "stream",
     "text": [
      "[WARNING] [2023-01-04 01:25:46,449] [Advisor] No enough successful initial trials! Sample random configuration.\n",
      "[WARNING] [2023-01-04 01:25:56,365] [OpenBox-mo] Exception when calling objective function: index 20 is out of bounds for axis 0 with size 12\n",
      "[INFO] [2023-01-04 01:25:56,367] [OpenBox-mo] Iteration 11, objective value: [2147483647, 2147483647].\n"
     ]
    },
    {
     "name": "stderr",
     "output_type": "stream",
     "text": [
      " 22%|██▏       | 11/50 [19:47<37:18, 57.39s/it]"
     ]
    },
    {
     "name": "stdout",
     "output_type": "stream",
     "text": [
      "[WARNING] [2023-01-04 01:25:56,369] [Advisor] No enough successful initial trials! Sample random configuration.\n",
      "[INFO] [2023-01-04 01:28:52,993] [OpenBox-mo] Iteration 12, objective value: [-13156.625, 100195.13750000004].\n"
     ]
    },
    {
     "name": "stderr",
     "output_type": "stream",
     "text": [
      " 24%|██▍       | 12/50 [22:44<59:19, 93.66s/it]"
     ]
    },
    {
     "name": "stdout",
     "output_type": "stream",
     "text": [
      "[INFO] [2023-01-04 01:28:52,993] [Advisor] Sample random config. rand_prob=0.100000.\n",
      "[INFO] [2023-01-04 01:35:08,137] [OpenBox-mo] Iteration 13, objective value: [-80913.83749999979, 50522.100000000006].\n"
     ]
    },
    {
     "name": "stderr",
     "output_type": "stream",
     "text": [
      " 26%|██▌       | 13/50 [28:59<1:50:20, 178.93s/it]"
     ]
    },
    {
     "name": "stdout",
     "output_type": "stream",
     "text": [
      "[WARNING] [2023-01-04 01:35:08,138] [Advisor] No enough successful initial trials! Sample random configuration.\n",
      "[INFO] [2023-01-04 01:36:55,739] [OpenBox-mo] Iteration 14, objective value: [8207.975000000006, 42431.92499999999].\n"
     ]
    },
    {
     "name": "stderr",
     "output_type": "stream",
     "text": [
      " 28%|██▊       | 14/50 [30:47<1:34:25, 157.39s/it]"
     ]
    },
    {
     "name": "stdout",
     "output_type": "stream",
     "text": [
      "[INFO] [2023-01-04 01:40:05,443] [OpenBox-mo] Iteration 15, objective value: [-23174.149999999907, 94808.31250000004].\n"
     ]
    },
    {
     "name": "stderr",
     "output_type": "stream",
     "text": [
      " 30%|███       | 15/50 [33:57<1:37:29, 167.13s/it]"
     ]
    },
    {
     "name": "stdout",
     "output_type": "stream",
     "text": [
      "[INFO] [2023-01-04 01:42:27,003] [OpenBox-mo] Iteration 16, objective value: [62370.375, 125735.71250000005].\n"
     ]
    },
    {
     "name": "stderr",
     "output_type": "stream",
     "text": [
      " 32%|███▏      | 16/50 [36:18<1:30:20, 159.43s/it]"
     ]
    },
    {
     "name": "stdout",
     "output_type": "stream",
     "text": [
      "[INFO] [2023-01-04 01:46:17,397] [OpenBox-mo] Iteration 17, objective value: [-71163.57499999984, 60766.78750000003].\n"
     ]
    },
    {
     "name": "stderr",
     "output_type": "stream",
     "text": [
      " 34%|███▍      | 17/50 [40:08<1:39:25, 180.77s/it]"
     ]
    },
    {
     "name": "stdout",
     "output_type": "stream",
     "text": [
      "[INFO] [2023-01-04 01:48:37,625] [OpenBox-mo] Iteration 18, objective value: [-67301.77499999997, 57732.67500000001].\n"
     ]
    },
    {
     "name": "stderr",
     "output_type": "stream",
     "text": [
      " 36%|███▌      | 18/50 [42:29<1:29:54, 168.59s/it]"
     ]
    },
    {
     "name": "stdout",
     "output_type": "stream",
     "text": [
      "[INFO] [2023-01-04 01:51:38,862] [OpenBox-mo] Iteration 19, objective value: [-51475.962499999965, 48776.187500000015].\n"
     ]
    },
    {
     "name": "stderr",
     "output_type": "stream",
     "text": [
      " 38%|███▊      | 19/50 [45:30<1:29:04, 172.39s/it]"
     ]
    },
    {
     "name": "stdout",
     "output_type": "stream",
     "text": [
      "[INFO] [2023-01-04 01:55:30,257] [OpenBox-mo] Iteration 20, objective value: [-24537.04999999996, 58276.450000000026].\n"
     ]
    },
    {
     "name": "stderr",
     "output_type": "stream",
     "text": [
      " 40%|████      | 20/50 [51:11<1:16:47, 153.59s/it]\n"
     ]
    },
    {
     "ename": "KeyboardInterrupt",
     "evalue": "",
     "output_type": "error",
     "traceback": [
      "\u001b[1;31m---------------------------------------------------------------------------\u001b[0m",
      "\u001b[1;31mKeyboardInterrupt\u001b[0m                         Traceback (most recent call last)",
      "\u001b[1;32mc:\\Users\\shubh\\OneDrive\\Documents\\GitHub\\algotradingframeworkSD\\test.ipynb Cell 14\u001b[0m in \u001b[0;36m<cell line: 19>\u001b[1;34m()\u001b[0m\n\u001b[0;32m      <a href='vscode-notebook-cell:/c%3A/Users/shubh/OneDrive/Documents/GitHub/algotradingframeworkSD/test.ipynb#X21sZmlsZQ%3D%3D?line=1'>2</a>\u001b[0m space \u001b[39m=\u001b[39m get_RSI_ADXconfig_space_directionalBN()\n\u001b[0;32m      <a href='vscode-notebook-cell:/c%3A/Users/shubh/OneDrive/Documents/GitHub/algotradingframeworkSD/test.ipynb#X21sZmlsZQ%3D%3D?line=2'>3</a>\u001b[0m opt \u001b[39m=\u001b[39m Optimizer(\n\u001b[0;32m      <a href='vscode-notebook-cell:/c%3A/Users/shubh/OneDrive/Documents/GitHub/algotradingframeworkSD/test.ipynb#X21sZmlsZQ%3D%3D?line=3'>4</a>\u001b[0m     get_objective_functionRSIADXBNs,\n\u001b[0;32m      <a href='vscode-notebook-cell:/c%3A/Users/shubh/OneDrive/Documents/GitHub/algotradingframeworkSD/test.ipynb#X21sZmlsZQ%3D%3D?line=4'>5</a>\u001b[0m     space,\n\u001b[1;32m   (...)\u001b[0m\n\u001b[0;32m     <a href='vscode-notebook-cell:/c%3A/Users/shubh/OneDrive/Documents/GitHub/algotradingframeworkSD/test.ipynb#X21sZmlsZQ%3D%3D?line=16'>17</a>\u001b[0m     random_state\u001b[39m=\u001b[39m\u001b[39m1\u001b[39m,\n\u001b[0;32m     <a href='vscode-notebook-cell:/c%3A/Users/shubh/OneDrive/Documents/GitHub/algotradingframeworkSD/test.ipynb#X21sZmlsZQ%3D%3D?line=17'>18</a>\u001b[0m )\n\u001b[1;32m---> <a href='vscode-notebook-cell:/c%3A/Users/shubh/OneDrive/Documents/GitHub/algotradingframeworkSD/test.ipynb#X21sZmlsZQ%3D%3D?line=18'>19</a>\u001b[0m opt\u001b[39m.\u001b[39;49mrun()\n",
      "File \u001b[1;32mc:\\Python39\\lib\\site-packages\\openbox\\optimizer\\generic_smbo.py:212\u001b[0m, in \u001b[0;36mSMBO.run\u001b[1;34m(self)\u001b[0m\n\u001b[0;32m    210\u001b[0m     \u001b[39mbreak\u001b[39;00m\n\u001b[0;32m    211\u001b[0m start_time \u001b[39m=\u001b[39m time\u001b[39m.\u001b[39mtime()\n\u001b[1;32m--> 212\u001b[0m \u001b[39mself\u001b[39;49m\u001b[39m.\u001b[39;49miterate(budget_left\u001b[39m=\u001b[39;49m\u001b[39mself\u001b[39;49m\u001b[39m.\u001b[39;49mbudget_left)\n\u001b[0;32m    213\u001b[0m runtime \u001b[39m=\u001b[39m time\u001b[39m.\u001b[39mtime() \u001b[39m-\u001b[39m start_time\n\u001b[0;32m    214\u001b[0m \u001b[39mself\u001b[39m\u001b[39m.\u001b[39mbudget_left \u001b[39m-\u001b[39m\u001b[39m=\u001b[39m runtime\n",
      "File \u001b[1;32mc:\\Python39\\lib\\site-packages\\openbox\\optimizer\\generic_smbo.py:231\u001b[0m, in \u001b[0;36mSMBO.iterate\u001b[1;34m(self, budget_left)\u001b[0m\n\u001b[0;32m    228\u001b[0m \u001b[39mtry\u001b[39;00m:\n\u001b[0;32m    229\u001b[0m     \u001b[39m# evaluate configuration on objective_function within time_limit_per_trial\u001b[39;00m\n\u001b[0;32m    230\u001b[0m     args, kwargs \u001b[39m=\u001b[39m (config,), \u001b[39mdict\u001b[39m()\n\u001b[1;32m--> 231\u001b[0m     timeout_status, _result \u001b[39m=\u001b[39m time_limit(\u001b[39mself\u001b[39;49m\u001b[39m.\u001b[39;49mobjective_function,\n\u001b[0;32m    232\u001b[0m                                          _time_limit_per_trial,\n\u001b[0;32m    233\u001b[0m                                          args\u001b[39m=\u001b[39;49margs, kwargs\u001b[39m=\u001b[39;49mkwargs)\n\u001b[0;32m    234\u001b[0m     \u001b[39mif\u001b[39;00m timeout_status:\n\u001b[0;32m    235\u001b[0m         \u001b[39mraise\u001b[39;00m TimeoutException(\n\u001b[0;32m    236\u001b[0m             \u001b[39m'\u001b[39m\u001b[39mTimeout: time limit for this evaluation is \u001b[39m\u001b[39m%.1f\u001b[39;00m\u001b[39ms\u001b[39m\u001b[39m'\u001b[39m \u001b[39m%\u001b[39m _time_limit_per_trial)\n",
      "File \u001b[1;32mc:\\Python39\\lib\\site-packages\\openbox\\utils\\limit.py:81\u001b[0m, in \u001b[0;36mtime_limit\u001b[1;34m(func, time, *args, **kwargs)\u001b[0m\n\u001b[0;32m     78\u001b[0m     kwargs \u001b[39m=\u001b[39m kwargs[\u001b[39m'\u001b[39m\u001b[39mkwargs\u001b[39m\u001b[39m'\u001b[39m]\n\u001b[0;32m     80\u001b[0m \u001b[39mif\u001b[39;00m _platform \u001b[39m==\u001b[39m \u001b[39m'\u001b[39m\u001b[39mWindows\u001b[39m\u001b[39m'\u001b[39m:\n\u001b[1;32m---> 81\u001b[0m     \u001b[39mreturn\u001b[39;00m no_time_limit_func(func, time, \u001b[39m*\u001b[39margs, \u001b[39m*\u001b[39m\u001b[39m*\u001b[39mkwargs)\n\u001b[0;32m     83\u001b[0m \u001b[39mif\u001b[39;00m _platform \u001b[39m==\u001b[39m \u001b[39m'\u001b[39m\u001b[39mOSX\u001b[39m\u001b[39m'\u001b[39m \u001b[39mand\u001b[39;00m sys\u001b[39m.\u001b[39mversion_info \u001b[39m>\u001b[39m\u001b[39m=\u001b[39m (\u001b[39m3\u001b[39m, \u001b[39m8\u001b[39m):\n\u001b[0;32m     84\u001b[0m     \u001b[39mreturn\u001b[39;00m no_time_limit_func(func, time, \u001b[39m*\u001b[39margs, \u001b[39m*\u001b[39m\u001b[39m*\u001b[39mkwargs)\n",
      "File \u001b[1;32mc:\\Python39\\lib\\site-packages\\openbox\\utils\\limit.py:70\u001b[0m, in \u001b[0;36mno_time_limit_func\u001b[1;34m(objective_function, time, *args, **kwargs)\u001b[0m\n\u001b[0;32m     69\u001b[0m \u001b[39mdef\u001b[39;00m \u001b[39mno_time_limit_func\u001b[39m(objective_function, time, \u001b[39m*\u001b[39margs, \u001b[39m*\u001b[39m\u001b[39m*\u001b[39mkwargs):\n\u001b[1;32m---> 70\u001b[0m     ret \u001b[39m=\u001b[39m objective_function(\u001b[39m*\u001b[39margs, \u001b[39m*\u001b[39m\u001b[39m*\u001b[39mkwargs)\n\u001b[0;32m     71\u001b[0m     \u001b[39mreturn\u001b[39;00m Returns(timeout_status\u001b[39m=\u001b[39m\u001b[39mFalse\u001b[39;00m, results\u001b[39m=\u001b[39mret)\n",
      "\u001b[1;32mc:\\Users\\shubh\\OneDrive\\Documents\\GitHub\\algotradingframeworkSD\\test.ipynb Cell 14\u001b[0m in \u001b[0;36mget_objective_functionRSIADXBNs\u001b[1;34m(config)\u001b[0m\n\u001b[0;32m     <a href='vscode-notebook-cell:/c%3A/Users/shubh/OneDrive/Documents/GitHub/algotradingframeworkSD/test.ipynb#X21sZmlsZQ%3D%3D?line=40'>41</a>\u001b[0m masterdfBN \u001b[39m=\u001b[39m atom\u001b[39m.\u001b[39mLoadDF(BNPath)\n\u001b[0;32m     <a href='vscode-notebook-cell:/c%3A/Users/shubh/OneDrive/Documents/GitHub/algotradingframeworkSD/test.ipynb#X21sZmlsZQ%3D%3D?line=41'>42</a>\u001b[0m \u001b[39mif\u001b[39;00m (generalconfig[\u001b[39m\"\u001b[39m\u001b[39msymbol\u001b[39m\u001b[39m\"\u001b[39m] \u001b[39m==\u001b[39m defs\u001b[39m.\u001b[39mBN):\n\u001b[1;32m---> <a href='vscode-notebook-cell:/c%3A/Users/shubh/OneDrive/Documents/GitHub/algotradingframeworkSD/test.ipynb#X21sZmlsZQ%3D%3D?line=42'>43</a>\u001b[0m   trade \u001b[39m=\u001b[39m strategies\u001b[39m.\u001b[39;49mDirectionalStrategy(data, masterdfBN, generalconfig, positionconfig, TIconfig, start_date)\n\u001b[0;32m     <a href='vscode-notebook-cell:/c%3A/Users/shubh/OneDrive/Documents/GitHub/algotradingframeworkSD/test.ipynb#X21sZmlsZQ%3D%3D?line=43'>44</a>\u001b[0m \u001b[39melif\u001b[39;00m (generalconfig[\u001b[39m\"\u001b[39m\u001b[39msymbol\u001b[39m\u001b[39m\"\u001b[39m] \u001b[39m==\u001b[39m defs\u001b[39m.\u001b[39mN):\n\u001b[0;32m     <a href='vscode-notebook-cell:/c%3A/Users/shubh/OneDrive/Documents/GitHub/algotradingframeworkSD/test.ipynb#X21sZmlsZQ%3D%3D?line=44'>45</a>\u001b[0m   trade \u001b[39m=\u001b[39m strategies\u001b[39m.\u001b[39mDirectionalStrategy(data, masterdfN, generalconfig, positionconfig, TIconfig, start_date)\n",
      "File \u001b[1;32mc:\\Users\\shubh\\OneDrive\\Documents\\GitHub\\algotradingframeworkSD\\strategies.py:241\u001b[0m, in \u001b[0;36mDirectionalStrategy\u001b[1;34m(data, masterdf, generalconfig, positionconfig, TIconfig, start_date)\u001b[0m\n\u001b[0;32m    239\u001b[0m           placedBear \u001b[39m=\u001b[39m \u001b[39mFalse\u001b[39;00m\n\u001b[0;32m    240\u001b[0m \u001b[39mif\u001b[39;00m (generalconfig[\u001b[39m\"\u001b[39m\u001b[39mTargetCond\u001b[39m\u001b[39m\"\u001b[39m] \u001b[39m==\u001b[39m \u001b[39m\"\u001b[39m\u001b[39mPremiumBased\u001b[39m\u001b[39m\"\u001b[39m) \u001b[39mor\u001b[39;00m (generalconfig[\u001b[39m\"\u001b[39m\u001b[39mTargetCond\u001b[39m\u001b[39m\"\u001b[39m] \u001b[39m==\u001b[39m \u001b[39m\"\u001b[39m\u001b[39mTIPremiumBased\u001b[39m\u001b[39m\"\u001b[39m):\n\u001b[1;32m--> 241\u001b[0m   (postoExitTarget, posConfigtoExitTG) \u001b[39m=\u001b[39m atom\u001b[39m.\u001b[39;49mCheckTargetCondition(positions, nextcandle)\n\u001b[0;32m    242\u001b[0m \u001b[39m# We enter this loop if there is any position where target profit condition is satisfied.\u001b[39;00m\n\u001b[0;32m    243\u001b[0m   \u001b[39mif\u001b[39;00m (\u001b[39mlen\u001b[39m(postoExitTarget) \u001b[39m>\u001b[39m \u001b[39m0\u001b[39m):\n",
      "File \u001b[1;32mc:\\Users\\shubh\\OneDrive\\Documents\\GitHub\\algotradingframeworkSD\\atomic.py:113\u001b[0m, in \u001b[0;36mCheckTargetCondition\u001b[1;34m(positions, currentcandle)\u001b[0m\n\u001b[0;32m    111\u001b[0m optionprice \u001b[39m=\u001b[39m pos[\u001b[39m\"\u001b[39m\u001b[39mOpData\u001b[39m\u001b[39m\"\u001b[39m]\u001b[39m.\u001b[39mloc[currentcandle\u001b[39m.\u001b[39mname][\u001b[39m'\u001b[39m\u001b[39mlow\u001b[39m\u001b[39m'\u001b[39m]\n\u001b[0;32m    112\u001b[0m optionprice \u001b[39m=\u001b[39m pd\u001b[39m.\u001b[39mto_numeric(optionprice)\n\u001b[1;32m--> 113\u001b[0m \u001b[39mif\u001b[39;00m (pos[\u001b[39m\"\u001b[39m\u001b[39mPositionConfig\u001b[39m\u001b[39m\"\u001b[39m][\u001b[39m\"\u001b[39m\u001b[39mSL\u001b[39m\u001b[39m\"\u001b[39m] \u001b[39m==\u001b[39m defs\u001b[39m.\u001b[39mYES) \u001b[39mand\u001b[39;00m optionprice \u001b[39m<\u001b[39m\u001b[39m=\u001b[39m pos[\u001b[39m'\u001b[39m\u001b[39mSLCond\u001b[39m\u001b[39m'\u001b[39m] \u001b[39mand\u001b[39;00m pos[\u001b[39m'\u001b[39m\u001b[39mActive\u001b[39m\u001b[39m'\u001b[39m]:\n\u001b[0;32m    114\u001b[0m     positionstoExit\u001b[39m.\u001b[39mappend(pos)\n\u001b[0;32m    115\u001b[0m     posconfigtoExit\u001b[39m.\u001b[39mappend(pos[\u001b[39m\"\u001b[39m\u001b[39mPositionConfig\u001b[39m\u001b[39m\"\u001b[39m])\n",
      "File \u001b[1;32mc:\\Python39\\lib\\site-packages\\pandas\\core\\indexing.py:967\u001b[0m, in \u001b[0;36m_LocationIndexer.__getitem__\u001b[1;34m(self, key)\u001b[0m\n\u001b[0;32m    964\u001b[0m axis \u001b[39m=\u001b[39m \u001b[39mself\u001b[39m\u001b[39m.\u001b[39maxis \u001b[39mor\u001b[39;00m \u001b[39m0\u001b[39m\n\u001b[0;32m    966\u001b[0m maybe_callable \u001b[39m=\u001b[39m com\u001b[39m.\u001b[39mapply_if_callable(key, \u001b[39mself\u001b[39m\u001b[39m.\u001b[39mobj)\n\u001b[1;32m--> 967\u001b[0m \u001b[39mreturn\u001b[39;00m \u001b[39mself\u001b[39;49m\u001b[39m.\u001b[39;49m_getitem_axis(maybe_callable, axis\u001b[39m=\u001b[39;49maxis)\n",
      "File \u001b[1;32mc:\\Python39\\lib\\site-packages\\pandas\\core\\indexing.py:1205\u001b[0m, in \u001b[0;36m_LocIndexer._getitem_axis\u001b[1;34m(self, key, axis)\u001b[0m\n\u001b[0;32m   1203\u001b[0m \u001b[39m# fall thru to straight lookup\u001b[39;00m\n\u001b[0;32m   1204\u001b[0m \u001b[39mself\u001b[39m\u001b[39m.\u001b[39m_validate_key(key, axis)\n\u001b[1;32m-> 1205\u001b[0m \u001b[39mreturn\u001b[39;00m \u001b[39mself\u001b[39;49m\u001b[39m.\u001b[39;49m_get_label(key, axis\u001b[39m=\u001b[39;49maxis)\n",
      "File \u001b[1;32mc:\\Python39\\lib\\site-packages\\pandas\\core\\indexing.py:1153\u001b[0m, in \u001b[0;36m_LocIndexer._get_label\u001b[1;34m(self, label, axis)\u001b[0m\n\u001b[0;32m   1151\u001b[0m \u001b[39mdef\u001b[39;00m \u001b[39m_get_label\u001b[39m(\u001b[39mself\u001b[39m, label, axis: \u001b[39mint\u001b[39m):\n\u001b[0;32m   1152\u001b[0m     \u001b[39m# GH#5667 this will fail if the label is not present in the axis.\u001b[39;00m\n\u001b[1;32m-> 1153\u001b[0m     \u001b[39mreturn\u001b[39;00m \u001b[39mself\u001b[39;49m\u001b[39m.\u001b[39;49mobj\u001b[39m.\u001b[39;49mxs(label, axis\u001b[39m=\u001b[39;49maxis)\n",
      "File \u001b[1;32mc:\\Python39\\lib\\site-packages\\pandas\\core\\generic.py:3884\u001b[0m, in \u001b[0;36mNDFrame.xs\u001b[1;34m(self, key, axis, level, drop_level)\u001b[0m\n\u001b[0;32m   3878\u001b[0m     \u001b[39mif\u001b[39;00m \u001b[39mself\u001b[39m\u001b[39m.\u001b[39mndim \u001b[39m==\u001b[39m \u001b[39m1\u001b[39m:\n\u001b[0;32m   3879\u001b[0m         \u001b[39m# if we encounter an array-like and we only have 1 dim\u001b[39;00m\n\u001b[0;32m   3880\u001b[0m         \u001b[39m# that means that their are list/ndarrays inside the Series!\u001b[39;00m\n\u001b[0;32m   3881\u001b[0m         \u001b[39m# so just return them (GH 6394)\u001b[39;00m\n\u001b[0;32m   3882\u001b[0m         \u001b[39mreturn\u001b[39;00m \u001b[39mself\u001b[39m\u001b[39m.\u001b[39m_values[loc]\n\u001b[1;32m-> 3884\u001b[0m     new_values \u001b[39m=\u001b[39m \u001b[39mself\u001b[39;49m\u001b[39m.\u001b[39;49m_mgr\u001b[39m.\u001b[39;49mfast_xs(loc)\n\u001b[0;32m   3886\u001b[0m     result \u001b[39m=\u001b[39m \u001b[39mself\u001b[39m\u001b[39m.\u001b[39m_constructor_sliced(\n\u001b[0;32m   3887\u001b[0m         new_values,\n\u001b[0;32m   3888\u001b[0m         index\u001b[39m=\u001b[39m\u001b[39mself\u001b[39m\u001b[39m.\u001b[39mcolumns,\n\u001b[0;32m   3889\u001b[0m         name\u001b[39m=\u001b[39m\u001b[39mself\u001b[39m\u001b[39m.\u001b[39mindex[loc],\n\u001b[0;32m   3890\u001b[0m         dtype\u001b[39m=\u001b[39mnew_values\u001b[39m.\u001b[39mdtype,\n\u001b[0;32m   3891\u001b[0m     )\n\u001b[0;32m   3892\u001b[0m \u001b[39melif\u001b[39;00m is_scalar(loc):\n",
      "File \u001b[1;32mc:\\Python39\\lib\\site-packages\\pandas\\core\\internals\\managers.py:1018\u001b[0m, in \u001b[0;36mBlockManager.fast_xs\u001b[1;34m(self, loc)\u001b[0m\n\u001b[0;32m   1014\u001b[0m \u001b[39mfor\u001b[39;00m blk \u001b[39min\u001b[39;00m \u001b[39mself\u001b[39m\u001b[39m.\u001b[39mblocks:\n\u001b[0;32m   1015\u001b[0m     \u001b[39m# Such assignment may incorrectly coerce NaT to None\u001b[39;00m\n\u001b[0;32m   1016\u001b[0m     \u001b[39m# result[blk.mgr_locs] = blk._slice((slice(None), loc))\u001b[39;00m\n\u001b[0;32m   1017\u001b[0m     \u001b[39mfor\u001b[39;00m i, rl \u001b[39min\u001b[39;00m \u001b[39menumerate\u001b[39m(blk\u001b[39m.\u001b[39mmgr_locs):\n\u001b[1;32m-> 1018\u001b[0m         result[rl] \u001b[39m=\u001b[39m blk\u001b[39m.\u001b[39;49miget((i, loc))\n\u001b[0;32m   1020\u001b[0m \u001b[39mif\u001b[39;00m immutable_ea:\n\u001b[0;32m   1021\u001b[0m     dtype \u001b[39m=\u001b[39m cast(ExtensionDtype, dtype)\n",
      "File \u001b[1;32mc:\\Python39\\lib\\site-packages\\pandas\\core\\internals\\blocks.py:365\u001b[0m, in \u001b[0;36mBlock.iget\u001b[1;34m(self, i)\u001b[0m\n\u001b[0;32m    358\u001b[0m \u001b[39mdef\u001b[39;00m \u001b[39miget\u001b[39m(\u001b[39mself\u001b[39m, i: \u001b[39mint\u001b[39m \u001b[39m|\u001b[39m \u001b[39mtuple\u001b[39m[\u001b[39mint\u001b[39m, \u001b[39mint\u001b[39m] \u001b[39m|\u001b[39m \u001b[39mtuple\u001b[39m[\u001b[39mslice\u001b[39m, \u001b[39mint\u001b[39m]):\n\u001b[0;32m    359\u001b[0m     \u001b[39m# In the case where we have a tuple[slice, int], the slice will always\u001b[39;00m\n\u001b[0;32m    360\u001b[0m     \u001b[39m#  be slice(None)\u001b[39;00m\n\u001b[1;32m   (...)\u001b[0m\n\u001b[0;32m    363\u001b[0m     \u001b[39m# for \"Union[ndarray[Any, Any], ExtensionArray]\"; expected type\u001b[39;00m\n\u001b[0;32m    364\u001b[0m     \u001b[39m# \"Union[int, integer[Any]]\"\u001b[39;00m\n\u001b[1;32m--> 365\u001b[0m     \u001b[39mreturn\u001b[39;00m \u001b[39mself\u001b[39;49m\u001b[39m.\u001b[39;49mvalues[i]\n",
      "File \u001b[1;32mc:\\Python39\\lib\\site-packages\\pandas\\core\\arrays\\datetimelike.py:341\u001b[0m, in \u001b[0;36mDatetimeLikeArrayMixin.__getitem__\u001b[1;34m(self, key)\u001b[0m\n\u001b[0;32m    333\u001b[0m \u001b[39m\"\"\"\u001b[39;00m\n\u001b[0;32m    334\u001b[0m \u001b[39mThis getitem defers to the underlying array, which by-definition can\u001b[39;00m\n\u001b[0;32m    335\u001b[0m \u001b[39monly handle list-likes, slices, and integer scalars\u001b[39;00m\n\u001b[0;32m    336\u001b[0m \u001b[39m\"\"\"\u001b[39;00m\n\u001b[0;32m    337\u001b[0m \u001b[39m# Use cast as we know we will get back a DatetimeLikeArray or DTScalar,\u001b[39;00m\n\u001b[0;32m    338\u001b[0m \u001b[39m# but skip evaluating the Union at runtime for performance\u001b[39;00m\n\u001b[0;32m    339\u001b[0m \u001b[39m# (see https://github.com/pandas-dev/pandas/pull/44624)\u001b[39;00m\n\u001b[0;32m    340\u001b[0m result \u001b[39m=\u001b[39m cast(\n\u001b[1;32m--> 341\u001b[0m     \u001b[39m\"\u001b[39m\u001b[39mUnion[DatetimeLikeArrayT, DTScalarOrNaT]\u001b[39m\u001b[39m\"\u001b[39m, \u001b[39msuper\u001b[39;49m()\u001b[39m.\u001b[39;49m\u001b[39m__getitem__\u001b[39;49m(key)\n\u001b[0;32m    342\u001b[0m )\n\u001b[0;32m    343\u001b[0m \u001b[39mif\u001b[39;00m lib\u001b[39m.\u001b[39mis_scalar(result):\n\u001b[0;32m    344\u001b[0m     \u001b[39mreturn\u001b[39;00m result\n",
      "File \u001b[1;32mc:\\Python39\\lib\\site-packages\\pandas\\core\\arrays\\_mixins.py:283\u001b[0m, in \u001b[0;36mNDArrayBackedExtensionArray.__getitem__\u001b[1;34m(self, key)\u001b[0m\n\u001b[0;32m    281\u001b[0m result \u001b[39m=\u001b[39m \u001b[39mself\u001b[39m\u001b[39m.\u001b[39m_ndarray[key]\n\u001b[0;32m    282\u001b[0m \u001b[39mif\u001b[39;00m lib\u001b[39m.\u001b[39mis_scalar(result):\n\u001b[1;32m--> 283\u001b[0m     \u001b[39mreturn\u001b[39;00m \u001b[39mself\u001b[39;49m\u001b[39m.\u001b[39;49m_box_func(result)\n\u001b[0;32m    285\u001b[0m result \u001b[39m=\u001b[39m \u001b[39mself\u001b[39m\u001b[39m.\u001b[39m_from_backing_data(result)\n\u001b[0;32m    286\u001b[0m \u001b[39mreturn\u001b[39;00m result\n",
      "File \u001b[1;32mc:\\Python39\\lib\\site-packages\\pandas\\core\\arrays\\datetimes.py:539\u001b[0m, in \u001b[0;36mDatetimeArray._box_func\u001b[1;34m(self, x)\u001b[0m\n\u001b[0;32m    536\u001b[0m ts \u001b[39m=\u001b[39m Timestamp(x, tz\u001b[39m=\u001b[39m\u001b[39mself\u001b[39m\u001b[39m.\u001b[39mtz)\n\u001b[0;32m    537\u001b[0m \u001b[39m# Non-overlapping identity check (left operand type: \"Timestamp\",\u001b[39;00m\n\u001b[0;32m    538\u001b[0m \u001b[39m# right operand type: \"NaTType\")\u001b[39;00m\n\u001b[1;32m--> 539\u001b[0m \u001b[39mif\u001b[39;00m ts \u001b[39mis\u001b[39;00m \u001b[39mnot\u001b[39;00m NaT:  \u001b[39m# type: ignore[comparison-overlap]\u001b[39;00m\n\u001b[0;32m    540\u001b[0m     \u001b[39m# GH#41586\u001b[39;00m\n\u001b[0;32m    541\u001b[0m     \u001b[39m# do this instead of passing to the constructor to avoid FutureWarning\u001b[39;00m\n\u001b[0;32m    542\u001b[0m     ts\u001b[39m.\u001b[39m_set_freq(\u001b[39mself\u001b[39m\u001b[39m.\u001b[39mfreq)\n\u001b[0;32m    543\u001b[0m \u001b[39mreturn\u001b[39;00m ts\n",
      "\u001b[1;31mKeyboardInterrupt\u001b[0m: "
     ]
    }
   ],
   "source": [
    "ref_point = [-1000,0]\n",
    "space = get_RSI_ADXconfig_space_directionalBN()\n",
    "opt = Optimizer(\n",
    "    get_objective_functionRSIADXBNs,\n",
    "    space,\n",
    "    num_objs=2,\n",
    "    num_constraints=0,\n",
    "    max_runs=50,\n",
    "    surrogate_type='gp',\n",
    "    acq_type='ehvi',\n",
    "    acq_optimizer_type='random_scipy',\n",
    "    initial_runs=10,\n",
    "    init_strategy='sobol',\n",
    "    ref_point=ref_point,\n",
    "    time_limit_per_trial=10000,\n",
    "    task_id='mo',\n",
    "    random_state=1,\n",
    ")\n",
    "opt.run()"
   ]
  },
  {
   "cell_type": "code",
   "execution_count": null,
   "metadata": {},
   "outputs": [],
   "source": [
    "def get_objective_functionRSIADXBNb(config):\n",
    "    # print(config)\n",
    "    start_date = datetime.date(2019, 2, 1)\n",
    "    end_date = datetime.date(2020, 12, 31)\n",
    "    delta = datetime.timedelta(days=1)\n",
    "\n",
    "    Resample = config['Resample']\n",
    "    window = config['window']\n",
    "    TBull = config['TBull']\n",
    "    TBear = config['TBear']\n",
    "    Sl = config['Sl']\n",
    "    Target = config['Target']\n",
    "    SLPc = config['SLPc']\n",
    "    TargetPc = config['TargetPc']\n",
    "    ADXTBull = config['ADXTBull']\n",
    "    ADXTBear = config['ADXTBear']\n",
    "    symbol = defs.BN\n",
    "    action = defs.BUY\n",
    "    rolling = config['rolling']\n",
    "    reenter = config['reenter']\n",
    "    Delta = config[\"Delta\"]\n",
    "    \n",
    "\n",
    "    (TIconfig, generalconfig, positionconfig) = tis.GetRSIADXconfigsPB(action, symbol, Delta, Resample, TBull, TBear, Sl, SLPc, Target, TargetPc, \n",
    "                                                                       ADXTBull, ADXTBear, rolling, reenter, window)\n",
    "    data = direc.getTIIndicatorData(start_date, end_date, Nifty_Path, Banknifty_Path, generalconfig, TIconfig)\n",
    "    # print(TIconfig[0]['ThreshBull'])\n",
    "    # print(TIconfig[1]['ThreshBull'])\n",
    "    trade = pd.DataFrame()\n",
    "    trades = pd.DataFrame()\n",
    "\n",
    "    while start_date <= end_date:\n",
    "      date_string = start_date.strftime(\"%Y/Data%Y%m%d.csv\")\n",
    "      BNPath = Banknifty_Path + date_string\n",
    "      NPath = Nifty_Path + date_string\n",
    "      my_fileN = Path(NPath)\n",
    "      my_fileBN = Path(BNPath)\n",
    "      #print(\"Working on file - \"+date_string)\n",
    "      if my_fileN.exists() and my_fileBN.exists():\n",
    "        masterdfN = atom.LoadDF(NPath)\n",
    "        masterdfBN = atom.LoadDF(BNPath)\n",
    "        if (generalconfig[\"symbol\"] == defs.BN):\n",
    "          trade = strategies.DirectionalStrategy(data, masterdfBN, generalconfig, positionconfig, TIconfig, start_date)\n",
    "        elif (generalconfig[\"symbol\"] == defs.N):\n",
    "          trade = strategies.DirectionalStrategy(data, masterdfN, generalconfig, positionconfig, TIconfig, start_date)\n",
    "        #print(trade)\n",
    "        if (len(trade) > 0):\n",
    "          trades = trades.append(trade)\n",
    "      # else:\n",
    "      #   #print(\"No data for \" + start_date.strftime(\"%Y-%m-%d\"))  \n",
    "      start_date += delta\n",
    "\n",
    "    #data.to_csv(Result_path + \"Data_\" + approach + \".csv\")\n",
    "    # print(trades)\n",
    "    trades['date'] = pd.to_datetime(trades[\"date\"])\n",
    "    trades = trades.reset_index()\n",
    "    trades = trades.drop([\"index\"], axis = 1)\n",
    "    Daily_Chart = rep.GetDailyChart(trades)\n",
    "    Total_Profit_on_win_days = Daily_Chart[Daily_Chart[\"Daily pnl\"] > 0][\"Daily pnl\"].sum()\n",
    "    Total_Loss_on_bad_days = Daily_Chart[Daily_Chart[\"Daily pnl\"] < 0][\"Daily pnl\"].sum()\n",
    "    Overall_Net = Total_Profit_on_win_days - (-Total_Loss_on_bad_days)\n",
    "    Roll_max = Daily_Chart[\"Daily Cummulative pnl\"].rolling(window=Daily_Chart.size, min_periods=1).max()\n",
    "    Daily_Drawdown = Daily_Chart[\"Daily Cummulative pnl\"] - Roll_max\n",
    "    Max_Drawdown = min(Daily_Drawdown)\n",
    "    result = dict()\n",
    "    result['objs'] = [-1*Overall_Net, -1*Max_Drawdown]\n",
    "    return result"
   ]
  },
  {
   "cell_type": "markdown",
   "metadata": {},
   "source": [
    "RSI-ADX BNb"
   ]
  },
  {
   "cell_type": "code",
   "execution_count": null,
   "metadata": {},
   "outputs": [],
   "source": [
    "ref_point = [-1000,0]\n",
    "space = get_RSI_ADXconfig_space_directionalBN()\n",
    "opt = Optimizer(\n",
    "    get_objective_functionRSIADXBNb,\n",
    "    space,\n",
    "    num_objs=2,\n",
    "    num_constraints=0,\n",
    "    max_runs=50,\n",
    "    surrogate_type='gp',\n",
    "    acq_type='ehvi',\n",
    "    acq_optimizer_type='random_scipy',\n",
    "    initial_runs=10,\n",
    "    init_strategy='sobol',\n",
    "    ref_point=ref_point,\n",
    "    time_limit_per_trial=10000,\n",
    "    task_id='mo',\n",
    "    random_state=1,\n",
    ")\n",
    "opt.run()"
   ]
  }
 ],
 "metadata": {
  "kernelspec": {
   "display_name": "Python 3 (ipykernel)",
   "language": "python",
   "name": "python3"
  },
  "language_info": {
   "codemirror_mode": {
    "name": "ipython",
    "version": 3
   },
   "file_extension": ".py",
   "mimetype": "text/x-python",
   "name": "python",
   "nbconvert_exporter": "python",
   "pygments_lexer": "ipython3",
   "version": "3.9.7"
  },
  "vscode": {
   "interpreter": {
    "hash": "81794d4967e6c3204c66dcd87b604927b115b27c00565d3d43f05ba2f3a2cb0d"
   }
  }
 },
 "nbformat": 4,
 "nbformat_minor": 2
}
