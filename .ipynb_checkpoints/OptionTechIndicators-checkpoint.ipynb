{
 "cells": [
  {
   "cell_type": "code",
   "execution_count": 9,
   "id": "56225885",
   "metadata": {},
   "outputs": [],
   "source": [
    "import datetime\n",
    "from pathlib import Path\n",
    "import atomic as atom\n",
    "import definitions as defs\n",
    "\n",
    "Banknifty_Path = \"../NIFTYOptionsData/OptionsData/Banknifty/\"\n",
    "Nifty_Path = \"../NIFTYOptionsData/OptionsData/Nifty/\"\n",
    "start_date = datetime.date(2022, 1, 3)\n",
    "date_string = start_date.strftime(\"%Y/Data%Y%m%d.csv\")\n",
    "BNPath = Banknifty_Path + date_string\n",
    "NPath = Nifty_Path + date_string\n",
    "my_fileN = Path(NPath)\n",
    "my_fileBN = Path(BNPath)\n",
    "# print(\"Working on file - \"+date_string)\n",
    "if my_fileN.exists() and my_fileBN.exists():\n",
    "  masterdfN = atom.LoadDF(NPath)\n",
    "  masterdfBN = atom.LoadDF(BNPath)\n",
    "masterdf = masterdfBN"
   ]
  },
  {
   "cell_type": "code",
   "execution_count": 15,
   "id": "e93649ac",
   "metadata": {},
   "outputs": [
    {
     "ename": "NameError",
     "evalue": "name 'generalconfig' is not defined",
     "output_type": "error",
     "traceback": [
      "\u001b[0;31m---------------------------------------------------------------------------\u001b[0m",
      "\u001b[0;31mNameError\u001b[0m                                 Traceback (most recent call last)",
      "\u001b[0;32m/var/folders/k2/z8js448j05q5m09dlcbyn6400000gp/T/ipykernel_12998/1203020781.py\u001b[0m in \u001b[0;36m<module>\u001b[0;34m\u001b[0m\n\u001b[1;32m      6\u001b[0m     \u001b[0;32mif\u001b[0m \u001b[0mcurrentcandle\u001b[0m\u001b[0;34m.\u001b[0m\u001b[0mname\u001b[0m\u001b[0;34m.\u001b[0m\u001b[0mtime\u001b[0m\u001b[0;34m(\u001b[0m\u001b[0;34m)\u001b[0m \u001b[0;34m==\u001b[0m \u001b[0mEnterTime\u001b[0m\u001b[0;34m:\u001b[0m\u001b[0;34m\u001b[0m\u001b[0;34m\u001b[0m\u001b[0m\n\u001b[1;32m      7\u001b[0m         \u001b[0mexp\u001b[0m \u001b[0;34m=\u001b[0m \u001b[0matom\u001b[0m\u001b[0;34m.\u001b[0m\u001b[0mGetExpiry\u001b[0m\u001b[0;34m(\u001b[0m\u001b[0mmasterdf\u001b[0m\u001b[0;34m,\u001b[0m \u001b[0msymbol\u001b[0m\u001b[0;34m)\u001b[0m\u001b[0;34m\u001b[0m\u001b[0;34m\u001b[0m\u001b[0m\n\u001b[0;32m----> 8\u001b[0;31m         \u001b[0;32mif\u001b[0m \u001b[0mgeneralconfig\u001b[0m\u001b[0;34m[\u001b[0m\u001b[0;34m'symbol'\u001b[0m\u001b[0;34m]\u001b[0m \u001b[0;34m==\u001b[0m \u001b[0mdefs\u001b[0m\u001b[0;34m.\u001b[0m\u001b[0mN\u001b[0m \u001b[0;34m:\u001b[0m\u001b[0;34m\u001b[0m\u001b[0;34m\u001b[0m\u001b[0m\n\u001b[0m\u001b[1;32m      9\u001b[0m             \u001b[0mcst\u001b[0m \u001b[0;34m=\u001b[0m \u001b[0mcurrentcandle\u001b[0m\u001b[0;34m[\u001b[0m\u001b[0mOHLC\u001b[0m\u001b[0;34m]\u001b[0m\u001b[0;34m\u001b[0m\u001b[0;34m\u001b[0m\u001b[0m\n\u001b[1;32m     10\u001b[0m             \u001b[0mcst\u001b[0m \u001b[0;34m=\u001b[0m \u001b[0mint\u001b[0m\u001b[0;34m(\u001b[0m\u001b[0mround\u001b[0m\u001b[0;34m(\u001b[0m\u001b[0mcst\u001b[0m \u001b[0;34m/\u001b[0m \u001b[0;36m50\u001b[0m\u001b[0;34m,\u001b[0m \u001b[0;36m0\u001b[0m\u001b[0;34m)\u001b[0m\u001b[0;34m*\u001b[0m\u001b[0;36m50\u001b[0m\u001b[0;34m)\u001b[0m\u001b[0;34m\u001b[0m\u001b[0;34m\u001b[0m\u001b[0m\n",
      "\u001b[0;31mNameError\u001b[0m: name 'generalconfig' is not defined"
     ]
    }
   ],
   "source": [
    "EnterTime = datetime.time(9,30)\n",
    "symbol = defs.BN\n",
    "spotdata = atom.GetSpotData(masterdf, defs.BN)\n",
    "for s in range(len(spotdata)):\n",
    "    currentcandle = spotdata.iloc[s]\n",
    "    if currentcandle.name.time() == EnterTime:\n",
    "        exp = atom.GetExpiry(masterdf, symbol)\n",
    "        if symbol == defs.N :\n",
    "            cst = currentcandle[OHLC]\n",
    "            cst = int(round(cst / 50, 0)*50)\n",
    "        elif symbol == defs.BN :\n",
    "            cst = currentcandle[OHLC]\n",
    "            cst = int(round(cst / 100, 0) * 100)\n",
    "        opdfCE = masterdf[masterdf['symbol'] == symbol + exp + str(cst) + \"CE\"]\n",
    "        opdfPE = masterdf[masterdf['symbol'] == symbol + exp + str(cst) + \"PE\"]\n",
    "        break"
   ]
  },
  {
   "cell_type": "code",
   "execution_count": null,
   "id": "4fbf8a02",
   "metadata": {},
   "outputs": [],
   "source": []
  }
 ],
 "metadata": {
  "kernelspec": {
   "display_name": "Python 3 (ipykernel)",
   "language": "python",
   "name": "python3"
  },
  "language_info": {
   "codemirror_mode": {
    "name": "ipython",
    "version": 3
   },
   "file_extension": ".py",
   "mimetype": "text/x-python",
   "name": "python",
   "nbconvert_exporter": "python",
   "pygments_lexer": "ipython3",
   "version": "3.9.7"
  }
 },
 "nbformat": 4,
 "nbformat_minor": 5
}
